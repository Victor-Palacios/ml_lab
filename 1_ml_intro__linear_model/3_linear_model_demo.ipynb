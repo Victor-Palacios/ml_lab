{
 "cells": [
  {
   "cell_type": "markdown",
   "id": "cloudy-identity",
   "metadata": {
    "toc": true
   },
   "source": [
    "<h1>Table of Contents<span class=\"tocSkip\"></span></h1>\n",
    "<div class=\"toc\"><ul class=\"toc-item\"><li><span><a href=\"#Fit-Simple-Linear-Regression\" data-toc-modified-id=\"Fit-Simple-Linear-Regression-1\">Fit Simple Linear Regression</a></span></li><li><span><a href=\"#Let's-get-some-data\" data-toc-modified-id=\"Let's-get-some-data-2\">Let's get some data</a></span></li><li><span><a href=\"#Let's-pick-a-baseline-algorithm\" data-toc-modified-id=\"Let's-pick-a-baseline-algorithm-3\">Let's pick a baseline algorithm</a></span></li><li><span><a href=\"#Let's-put-it-all-together-\" data-toc-modified-id=\"Let's-put-it-all-together--4\">Let's put it all together </a></span></li><li><span><a href=\"#Other-linear-models\" data-toc-modified-id=\"Other-linear-models-5\">Other linear models</a></span></li><li><span><a href=\"#Check-for-understanding\" data-toc-modified-id=\"Check-for-understanding-6\">Check for understanding</a></span></li><li><span><a href=\"#What-should-we-do-next?\" data-toc-modified-id=\"What-should-we-do-next?-7\">What should we do next?</a></span></li><li><span><a href=\"#Takeaways\" data-toc-modified-id=\"Takeaways-8\">Takeaways</a></span></li><li><span><a href=\"#Sources-of-Inspiration\" data-toc-modified-id=\"Sources-of-Inspiration-9\">Sources of Inspiration</a></span></li><li><span><a href=\"#Bonus-Material\" data-toc-modified-id=\"Bonus-Material-10\">Bonus Material</a></span></li></ul></div>"
   ]
  },
  {
   "cell_type": "markdown",
   "id": "capable-phase",
   "metadata": {},
   "source": [
    "Fit Simple Linear Regression\n",
    "-------\n",
    "\n",
    "<center><img src=\"../images/the reality of coding.png\" width=\"75%\"/></center>\n",
    "\n",
    "This will demo how to fit a simple linear regression to the diabetes dataset."
   ]
  },
  {
   "cell_type": "code",
   "execution_count": 231,
   "id": "beginning-motel",
   "metadata": {},
   "outputs": [],
   "source": [
    "reset -fs"
   ]
  },
  {
   "cell_type": "markdown",
   "id": "magnetic-train",
   "metadata": {},
   "source": [
    "Let's get some data\n",
    "----"
   ]
  },
  {
   "cell_type": "code",
   "execution_count": 232,
   "id": "above-charity",
   "metadata": {},
   "outputs": [],
   "source": [
    "from sklearn.datasets import load_diabetes"
   ]
  },
  {
   "cell_type": "markdown",
   "id": "studied-fitting",
   "metadata": {},
   "source": [
    "Let's read the documentation\n",
    "\n",
    "https://scikit-learn.org/stable/datasets.html"
   ]
  },
  {
   "cell_type": "code",
   "execution_count": 233,
   "id": "statutory-liver",
   "metadata": {},
   "outputs": [],
   "source": [
    "# help(load_diabetes)"
   ]
  },
  {
   "cell_type": "code",
   "execution_count": 234,
   "id": "aware-skiing",
   "metadata": {},
   "outputs": [
    {
     "name": "stdout",
     "output_type": "stream",
     "text": [
      ".. _diabetes_dataset:\n",
      "\n",
      "Diabetes dataset\n",
      "----------------\n",
      "\n",
      "Ten baseline variables, age, sex, body mass index, average blood\n",
      "pressure, and six blood serum measurements were obtained for each of n =\n",
      "442 diabetes patients, as well as the response of interest, a\n",
      "quantitative measure of disease progression one year after baseline.\n",
      "\n",
      "**Data Set Characteristics:**\n",
      "\n",
      "  :Number of Instances: 442\n",
      "\n",
      "  :Number of Attributes: First 10 columns are numeric predictive values\n",
      "\n",
      "  :Target: Column 11 is a quantitative measure of disease progression one year after baseline\n",
      "\n",
      "  :Attribute Information:\n",
      "      - age     age in years\n",
      "      - sex\n",
      "      - bmi     body mass index\n",
      "      - bp      average blood pressure\n",
      "      - s1      tc, T-Cells (a type of white blood cells)\n",
      "      - s2      ldl, low-density lipoproteins\n",
      "      - s3      hdl, high-density lipoproteins\n",
      "      - s4      tch, thyroid stimulating hormone\n",
      "      - s5      ltg, lamotrigine\n",
      "      - s6      glu, blood sugar level\n",
      "\n",
      "Note: Each of these 10 feature variables have been mean centered and scaled by the standard deviation times `n_samples` (i.e. the sum of squares of each column totals 1).\n",
      "\n",
      "Source URL:\n",
      "https://www4.stat.ncsu.edu/~boos/var.select/diabetes.html\n",
      "\n",
      "For more information see:\n",
      "Bradley Efron, Trevor Hastie, Iain Johnstone and Robert Tibshirani (2004) \"Least Angle Regression,\" Annals of Statistics (with discussion), 407-499.\n",
      "(https://web.stanford.edu/~hastie/Papers/LARS/LeastAngle_2002.pdf)\n"
     ]
    }
   ],
   "source": [
    "diabetes_data = load_diabetes()\n",
    "\n",
    "print(diabetes_data.DESCR)"
   ]
  },
  {
   "cell_type": "code",
   "execution_count": 235,
   "id": "banner-nicholas",
   "metadata": {},
   "outputs": [
    {
     "data": {
      "text/plain": [
       "sklearn.utils.Bunch"
      ]
     },
     "execution_count": 235,
     "metadata": {},
     "output_type": "execute_result"
    }
   ],
   "source": [
    "type(diabetes_data)\n",
    "\n",
    "# What is a bunch object?\n",
    "# A bunch object is dictionary that allows you to use the keys as attributes."
   ]
  },
  {
   "cell_type": "code",
   "execution_count": 236,
   "id": "mechanical-basket",
   "metadata": {},
   "outputs": [
    {
     "data": {
      "text/plain": [
       "dict_keys(['data', 'target', 'frame', 'DESCR', 'feature_names', 'data_filename', 'target_filename'])"
      ]
     },
     "execution_count": 236,
     "metadata": {},
     "output_type": "execute_result"
    }
   ],
   "source": [
    "# All scikit-learn dataset has the following elements\n",
    "diabetes_data.keys()"
   ]
  },
  {
   "cell_type": "code",
   "execution_count": 237,
   "id": "looking-guidance",
   "metadata": {},
   "outputs": [
    {
     "data": {
      "text/plain": [
       "['age', 'sex', 'bmi', 'bp', 's1', 's2', 's3', 's4', 's5', 's6']"
      ]
     },
     "execution_count": 237,
     "metadata": {},
     "output_type": "execute_result"
    }
   ],
   "source": [
    "# Attribute access via \".\" method is a feature of a bunch datatype\n",
    "diabetes_data.feature_names"
   ]
  },
  {
   "cell_type": "code",
   "execution_count": 238,
   "id": "tutorial-dominant",
   "metadata": {},
   "outputs": [],
   "source": [
    "# Load the diabetes dataset\n",
    "X, y = load_diabetes(return_X_y=True)"
   ]
  },
  {
   "cell_type": "code",
   "execution_count": 239,
   "id": "skilled-basement",
   "metadata": {},
   "outputs": [
    {
     "data": {
      "text/plain": [
       "array([[ 0.03807591,  0.05068012,  0.06169621, ..., -0.00259226,\n",
       "         0.01990842, -0.01764613],\n",
       "       [-0.00188202, -0.04464164, -0.05147406, ..., -0.03949338,\n",
       "        -0.06832974, -0.09220405],\n",
       "       [ 0.08529891,  0.05068012,  0.04445121, ..., -0.00259226,\n",
       "         0.00286377, -0.02593034],\n",
       "       ...,\n",
       "       [ 0.04170844,  0.05068012, -0.01590626, ..., -0.01107952,\n",
       "        -0.04687948,  0.01549073],\n",
       "       [-0.04547248, -0.04464164,  0.03906215, ...,  0.02655962,\n",
       "         0.04452837, -0.02593034],\n",
       "       [-0.04547248, -0.04464164, -0.0730303 , ..., -0.03949338,\n",
       "        -0.00421986,  0.00306441]])"
      ]
     },
     "execution_count": 239,
     "metadata": {},
     "output_type": "execute_result"
    }
   ],
   "source": [
    "# Always look at raw data\n",
    "# \"Tidy\" array\n",
    "X"
   ]
  },
  {
   "cell_type": "code",
   "execution_count": 240,
   "id": "contained-assets",
   "metadata": {},
   "outputs": [
    {
     "data": {
      "text/plain": [
       "(442, 10)"
      ]
     },
     "execution_count": 240,
     "metadata": {},
     "output_type": "execute_result"
    }
   ],
   "source": [
    "X.shape"
   ]
  },
  {
   "cell_type": "code",
   "execution_count": 241,
   "id": "normal-madonna",
   "metadata": {},
   "outputs": [
    {
     "data": {
      "text/plain": [
       "array([[ 0.06169621],\n",
       "       [-0.05147406],\n",
       "       [ 0.04445121],\n",
       "       [-0.01159501],\n",
       "       [-0.03638469],\n",
       "       [-0.04069594],\n",
       "       [-0.04716281],\n",
       "       [-0.00189471],\n",
       "       [ 0.06169621],\n",
       "       [ 0.03906215],\n",
       "       [-0.08380842],\n",
       "       [ 0.01750591],\n",
       "       [-0.02884001],\n",
       "       [-0.00189471],\n",
       "       [-0.02560657],\n",
       "       [-0.01806189],\n",
       "       [ 0.04229559],\n",
       "       [ 0.01211685],\n",
       "       [-0.0105172 ],\n",
       "       [-0.01806189],\n",
       "       [-0.05686312],\n",
       "       [-0.02237314],\n",
       "       [-0.00405033],\n",
       "       [ 0.06061839],\n",
       "       [ 0.03582872],\n",
       "       [-0.01267283],\n",
       "       [-0.07734155],\n",
       "       [ 0.05954058],\n",
       "       [-0.02129532],\n",
       "       [-0.00620595],\n",
       "       [ 0.04445121],\n",
       "       [-0.06548562],\n",
       "       [ 0.12528712],\n",
       "       [-0.05039625],\n",
       "       [-0.06332999],\n",
       "       [-0.03099563],\n",
       "       [ 0.02289497],\n",
       "       [ 0.01103904],\n",
       "       [ 0.07139652],\n",
       "       [ 0.01427248],\n",
       "       [-0.00836158],\n",
       "       [-0.06764124],\n",
       "       [-0.0105172 ],\n",
       "       [-0.02345095],\n",
       "       [ 0.06816308],\n",
       "       [-0.03530688],\n",
       "       [-0.01159501],\n",
       "       [-0.0730303 ],\n",
       "       [-0.04177375],\n",
       "       [ 0.01427248],\n",
       "       [-0.00728377],\n",
       "       [ 0.0164281 ],\n",
       "       [-0.00943939],\n",
       "       [-0.01590626],\n",
       "       [ 0.0250506 ],\n",
       "       [-0.04931844],\n",
       "       [ 0.04121778],\n",
       "       [-0.06332999],\n",
       "       [-0.06440781],\n",
       "       [-0.02560657],\n",
       "       [-0.00405033],\n",
       "       [ 0.00457217],\n",
       "       [-0.00728377],\n",
       "       [-0.0374625 ],\n",
       "       [-0.02560657],\n",
       "       [-0.02452876],\n",
       "       [-0.01806189],\n",
       "       [-0.01482845],\n",
       "       [-0.02991782],\n",
       "       [-0.046085  ],\n",
       "       [-0.06979687],\n",
       "       [ 0.03367309],\n",
       "       [-0.00405033],\n",
       "       [-0.02021751],\n",
       "       [ 0.00241654],\n",
       "       [-0.03099563],\n",
       "       [ 0.02828403],\n",
       "       [-0.03638469],\n",
       "       [-0.05794093],\n",
       "       [-0.0374625 ],\n",
       "       [ 0.01211685],\n",
       "       [-0.02237314],\n",
       "       [-0.03530688],\n",
       "       [ 0.00996123],\n",
       "       [-0.03961813],\n",
       "       [ 0.07139652],\n",
       "       [-0.07518593],\n",
       "       [-0.00620595],\n",
       "       [-0.04069594],\n",
       "       [-0.04824063],\n",
       "       [-0.02560657],\n",
       "       [ 0.0519959 ],\n",
       "       [ 0.00457217],\n",
       "       [-0.06440781],\n",
       "       [-0.01698407],\n",
       "       [-0.05794093],\n",
       "       [ 0.00996123],\n",
       "       [ 0.08864151],\n",
       "       [-0.00512814],\n",
       "       [-0.06440781],\n",
       "       [ 0.01750591],\n",
       "       [-0.04500719],\n",
       "       [ 0.02828403],\n",
       "       [ 0.04121778],\n",
       "       [ 0.06492964],\n",
       "       [-0.03207344],\n",
       "       [-0.07626374],\n",
       "       [ 0.04984027],\n",
       "       [ 0.04552903],\n",
       "       [-0.00943939],\n",
       "       [-0.03207344],\n",
       "       [ 0.00457217],\n",
       "       [ 0.02073935],\n",
       "       [ 0.01427248],\n",
       "       [ 0.11019775],\n",
       "       [ 0.00133873],\n",
       "       [ 0.05846277],\n",
       "       [-0.02129532],\n",
       "       [-0.0105172 ],\n",
       "       [-0.04716281],\n",
       "       [ 0.00457217],\n",
       "       [ 0.01750591],\n",
       "       [ 0.08109682],\n",
       "       [ 0.0347509 ],\n",
       "       [ 0.02397278],\n",
       "       [-0.00836158],\n",
       "       [-0.06117437],\n",
       "       [-0.00189471],\n",
       "       [-0.06225218],\n",
       "       [ 0.0164281 ],\n",
       "       [ 0.09618619],\n",
       "       [-0.06979687],\n",
       "       [-0.02129532],\n",
       "       [-0.05362969],\n",
       "       [ 0.0433734 ],\n",
       "       [ 0.05630715],\n",
       "       [-0.0816528 ],\n",
       "       [ 0.04984027],\n",
       "       [ 0.11127556],\n",
       "       [ 0.06169621],\n",
       "       [ 0.01427248],\n",
       "       [ 0.04768465],\n",
       "       [ 0.01211685],\n",
       "       [ 0.00564998],\n",
       "       [ 0.04660684],\n",
       "       [ 0.12852056],\n",
       "       [ 0.05954058],\n",
       "       [ 0.09295276],\n",
       "       [ 0.01535029],\n",
       "       [-0.00512814],\n",
       "       [ 0.0703187 ],\n",
       "       [-0.00405033],\n",
       "       [-0.00081689],\n",
       "       [-0.04392938],\n",
       "       [ 0.02073935],\n",
       "       [ 0.06061839],\n",
       "       [-0.0105172 ],\n",
       "       [-0.03315126],\n",
       "       [-0.06548562],\n",
       "       [ 0.0433734 ],\n",
       "       [-0.06225218],\n",
       "       [ 0.06385183],\n",
       "       [ 0.03043966],\n",
       "       [ 0.07247433],\n",
       "       [-0.0191397 ],\n",
       "       [-0.06656343],\n",
       "       [-0.06009656],\n",
       "       [ 0.06924089],\n",
       "       [ 0.05954058],\n",
       "       [-0.02668438],\n",
       "       [-0.02021751],\n",
       "       [-0.046085  ],\n",
       "       [ 0.07139652],\n",
       "       [-0.07949718],\n",
       "       [ 0.00996123],\n",
       "       [-0.03854032],\n",
       "       [ 0.01966154],\n",
       "       [ 0.02720622],\n",
       "       [-0.00836158],\n",
       "       [-0.01590626],\n",
       "       [ 0.00457217],\n",
       "       [-0.04285156],\n",
       "       [ 0.00564998],\n",
       "       [-0.03530688],\n",
       "       [ 0.02397278],\n",
       "       [-0.01806189],\n",
       "       [ 0.04229559],\n",
       "       [-0.0547075 ],\n",
       "       [-0.00297252],\n",
       "       [-0.06656343],\n",
       "       [-0.01267283],\n",
       "       [-0.04177375],\n",
       "       [-0.03099563],\n",
       "       [-0.00512814],\n",
       "       [-0.05901875],\n",
       "       [ 0.0250506 ],\n",
       "       [-0.046085  ],\n",
       "       [ 0.00349435],\n",
       "       [ 0.05415152],\n",
       "       [-0.04500719],\n",
       "       [-0.05794093],\n",
       "       [-0.05578531],\n",
       "       [ 0.00133873],\n",
       "       [ 0.03043966],\n",
       "       [ 0.00672779],\n",
       "       [ 0.04660684],\n",
       "       [ 0.02612841],\n",
       "       [ 0.04552903],\n",
       "       [ 0.04013997],\n",
       "       [-0.01806189],\n",
       "       [ 0.01427248],\n",
       "       [ 0.03690653],\n",
       "       [ 0.00349435],\n",
       "       [-0.07087468],\n",
       "       [-0.03315126],\n",
       "       [ 0.09403057],\n",
       "       [ 0.03582872],\n",
       "       [ 0.03151747],\n",
       "       [-0.06548562],\n",
       "       [-0.04177375],\n",
       "       [-0.03961813],\n",
       "       [-0.03854032],\n",
       "       [-0.02560657],\n",
       "       [-0.02345095],\n",
       "       [-0.06656343],\n",
       "       [ 0.03259528],\n",
       "       [-0.046085  ],\n",
       "       [-0.02991782],\n",
       "       [-0.01267283],\n",
       "       [-0.01590626],\n",
       "       [ 0.07139652],\n",
       "       [-0.03099563],\n",
       "       [ 0.00026092],\n",
       "       [ 0.03690653],\n",
       "       [ 0.03906215],\n",
       "       [-0.01482845],\n",
       "       [ 0.00672779],\n",
       "       [-0.06871905],\n",
       "       [-0.00943939],\n",
       "       [ 0.01966154],\n",
       "       [ 0.07462995],\n",
       "       [-0.00836158],\n",
       "       [-0.02345095],\n",
       "       [-0.046085  ],\n",
       "       [ 0.05415152],\n",
       "       [-0.03530688],\n",
       "       [-0.03207344],\n",
       "       [-0.0816528 ],\n",
       "       [ 0.04768465],\n",
       "       [ 0.06061839],\n",
       "       [ 0.05630715],\n",
       "       [ 0.09834182],\n",
       "       [ 0.05954058],\n",
       "       [ 0.03367309],\n",
       "       [ 0.05630715],\n",
       "       [-0.06548562],\n",
       "       [ 0.16085492],\n",
       "       [-0.05578531],\n",
       "       [-0.02452876],\n",
       "       [-0.03638469],\n",
       "       [-0.00836158],\n",
       "       [-0.04177375],\n",
       "       [ 0.12744274],\n",
       "       [-0.07734155],\n",
       "       [ 0.02828403],\n",
       "       [-0.02560657],\n",
       "       [-0.06225218],\n",
       "       [-0.00081689],\n",
       "       [ 0.08864151],\n",
       "       [-0.03207344],\n",
       "       [ 0.03043966],\n",
       "       [ 0.00888341],\n",
       "       [ 0.00672779],\n",
       "       [-0.02021751],\n",
       "       [-0.02452876],\n",
       "       [-0.01159501],\n",
       "       [ 0.02612841],\n",
       "       [-0.05901875],\n",
       "       [-0.03638469],\n",
       "       [-0.02452876],\n",
       "       [ 0.01858372],\n",
       "       [-0.0902753 ],\n",
       "       [-0.00512814],\n",
       "       [-0.05255187],\n",
       "       [-0.02237314],\n",
       "       [-0.02021751],\n",
       "       [-0.0547075 ],\n",
       "       [-0.00620595],\n",
       "       [-0.01698407],\n",
       "       [ 0.05522933],\n",
       "       [ 0.07678558],\n",
       "       [ 0.01858372],\n",
       "       [-0.02237314],\n",
       "       [ 0.09295276],\n",
       "       [-0.03099563],\n",
       "       [ 0.03906215],\n",
       "       [-0.06117437],\n",
       "       [-0.00836158],\n",
       "       [-0.0374625 ],\n",
       "       [-0.01375064],\n",
       "       [ 0.07355214],\n",
       "       [-0.02452876],\n",
       "       [ 0.03367309],\n",
       "       [ 0.0347509 ],\n",
       "       [-0.03854032],\n",
       "       [-0.03961813],\n",
       "       [-0.00189471],\n",
       "       [-0.03099563],\n",
       "       [-0.046085  ],\n",
       "       [ 0.00133873],\n",
       "       [ 0.06492964],\n",
       "       [ 0.04013997],\n",
       "       [-0.02345095],\n",
       "       [ 0.05307371],\n",
       "       [ 0.04013997],\n",
       "       [-0.02021751],\n",
       "       [ 0.01427248],\n",
       "       [-0.03422907],\n",
       "       [ 0.00672779],\n",
       "       [ 0.00457217],\n",
       "       [ 0.03043966],\n",
       "       [ 0.0519959 ],\n",
       "       [ 0.06169621],\n",
       "       [-0.00728377],\n",
       "       [ 0.00564998],\n",
       "       [ 0.05415152],\n",
       "       [-0.00836158],\n",
       "       [ 0.114509  ],\n",
       "       [ 0.06708527],\n",
       "       [-0.05578531],\n",
       "       [ 0.03043966],\n",
       "       [-0.02560657],\n",
       "       [ 0.10480869],\n",
       "       [-0.00620595],\n",
       "       [-0.04716281],\n",
       "       [-0.04824063],\n",
       "       [ 0.08540807],\n",
       "       [-0.01267283],\n",
       "       [-0.03315126],\n",
       "       [-0.00728377],\n",
       "       [-0.01375064],\n",
       "       [ 0.05954058],\n",
       "       [ 0.02181716],\n",
       "       [ 0.01858372],\n",
       "       [-0.01159501],\n",
       "       [-0.00297252],\n",
       "       [ 0.01750591],\n",
       "       [-0.02991782],\n",
       "       [-0.02021751],\n",
       "       [-0.05794093],\n",
       "       [ 0.06061839],\n",
       "       [-0.04069594],\n",
       "       [-0.07195249],\n",
       "       [-0.05578531],\n",
       "       [ 0.04552903],\n",
       "       [-0.00943939],\n",
       "       [-0.03315126],\n",
       "       [ 0.04984027],\n",
       "       [-0.08488624],\n",
       "       [ 0.00564998],\n",
       "       [ 0.02073935],\n",
       "       [-0.00728377],\n",
       "       [ 0.10480869],\n",
       "       [-0.02452876],\n",
       "       [-0.00620595],\n",
       "       [-0.03854032],\n",
       "       [ 0.13714305],\n",
       "       [ 0.17055523],\n",
       "       [ 0.00241654],\n",
       "       [ 0.03798434],\n",
       "       [-0.05794093],\n",
       "       [-0.00943939],\n",
       "       [-0.02345095],\n",
       "       [-0.0105172 ],\n",
       "       [-0.03422907],\n",
       "       [-0.00297252],\n",
       "       [ 0.06816308],\n",
       "       [ 0.00996123],\n",
       "       [ 0.00241654],\n",
       "       [-0.03854032],\n",
       "       [ 0.02612841],\n",
       "       [-0.08919748],\n",
       "       [ 0.06061839],\n",
       "       [-0.02884001],\n",
       "       [-0.02991782],\n",
       "       [-0.0191397 ],\n",
       "       [-0.04069594],\n",
       "       [ 0.01535029],\n",
       "       [-0.02452876],\n",
       "       [ 0.00133873],\n",
       "       [ 0.06924089],\n",
       "       [-0.06979687],\n",
       "       [-0.02991782],\n",
       "       [-0.046085  ],\n",
       "       [ 0.01858372],\n",
       "       [ 0.00133873],\n",
       "       [-0.03099563],\n",
       "       [-0.00405033],\n",
       "       [ 0.01535029],\n",
       "       [ 0.02289497],\n",
       "       [ 0.04552903],\n",
       "       [-0.04500719],\n",
       "       [-0.03315126],\n",
       "       [ 0.097264  ],\n",
       "       [ 0.05415152],\n",
       "       [ 0.12313149],\n",
       "       [-0.08057499],\n",
       "       [ 0.09295276],\n",
       "       [-0.05039625],\n",
       "       [-0.01159501],\n",
       "       [-0.0277622 ],\n",
       "       [ 0.05846277],\n",
       "       [ 0.08540807],\n",
       "       [-0.00081689],\n",
       "       [ 0.00672779],\n",
       "       [ 0.00888341],\n",
       "       [ 0.08001901],\n",
       "       [ 0.07139652],\n",
       "       [-0.02452876],\n",
       "       [-0.0547075 ],\n",
       "       [-0.03638469],\n",
       "       [ 0.0164281 ],\n",
       "       [ 0.07786339],\n",
       "       [-0.03961813],\n",
       "       [ 0.01103904],\n",
       "       [-0.04069594],\n",
       "       [-0.03422907],\n",
       "       [ 0.00564998],\n",
       "       [ 0.08864151],\n",
       "       [-0.03315126],\n",
       "       [-0.05686312],\n",
       "       [-0.03099563],\n",
       "       [ 0.05522933],\n",
       "       [-0.06009656],\n",
       "       [ 0.00133873],\n",
       "       [-0.02345095],\n",
       "       [-0.07410811],\n",
       "       [ 0.01966154],\n",
       "       [-0.01590626],\n",
       "       [-0.01590626],\n",
       "       [ 0.03906215],\n",
       "       [-0.0730303 ]])"
      ]
     },
     "execution_count": 241,
     "metadata": {},
     "output_type": "execute_result"
    }
   ],
   "source": [
    "import numpy as np\n",
    "\n",
    "# Use only one feature\n",
    "X = X[:, np.newaxis, 2]\n",
    "X"
   ]
  },
  {
   "cell_type": "code",
   "execution_count": 242,
   "id": "driven-horse",
   "metadata": {},
   "outputs": [
    {
     "name": "stdout",
     "output_type": "stream",
     "text": [
      "float64\n"
     ]
    }
   ],
   "source": [
    "# The structure of targets are crictal\n",
    "\n",
    "print(y.dtype)\n",
    "\n",
    "# We have \"continuous\" values for both so linear regression is appropriate. "
   ]
  },
  {
   "cell_type": "code",
   "execution_count": 243,
   "id": "beginning-marketplace",
   "metadata": {},
   "outputs": [],
   "source": [
    "# Machine learning's goal is predict. \n",
    "# Prediction is best measured on a test set.\n",
    "\n",
    "from sklearn.model_selection import train_test_split"
   ]
  },
  {
   "cell_type": "markdown",
   "id": "honey-mandate",
   "metadata": {},
   "source": [
    "Let's read the documentation\n",
    "\n",
    "https://scikit-learn.org/stable/modules/generated/sklearn.model_selection.train_test_split.html"
   ]
  },
  {
   "cell_type": "code",
   "execution_count": 244,
   "id": "proud-supply",
   "metadata": {},
   "outputs": [],
   "source": [
    "X_train, X_test, y_train, y_test = train_test_split(X, y)"
   ]
  },
  {
   "cell_type": "code",
   "execution_count": 245,
   "id": "civic-middle",
   "metadata": {},
   "outputs": [
    {
     "name": "stdout",
     "output_type": "stream",
     "text": [
      "(331, 1)\n",
      "(331,)\n"
     ]
    }
   ],
   "source": [
    "print(X_train.shape)\n",
    "print(y_train.shape)"
   ]
  },
  {
   "cell_type": "markdown",
   "id": "blank-tobago",
   "metadata": {},
   "source": [
    "<center><img src=\"../images/ml_workflow.png\" width=\"75%\"/></center>"
   ]
  },
  {
   "cell_type": "markdown",
   "id": "buried-writing",
   "metadata": {},
   "source": [
    "Let's pick a baseline algorithm\n",
    "----"
   ]
  },
  {
   "cell_type": "code",
   "execution_count": 246,
   "id": "premium-reality",
   "metadata": {},
   "outputs": [],
   "source": [
    "from sklearn.linear_model import LinearRegression"
   ]
  },
  {
   "cell_type": "code",
   "execution_count": 247,
   "id": "threaded-camera",
   "metadata": {},
   "outputs": [],
   "source": [
    "# help(LinearRegression)"
   ]
  },
  {
   "cell_type": "markdown",
   "id": "yellow-energy",
   "metadata": {},
   "source": [
    "Let's read the documentation\n",
    "\n",
    "https://scikit-learn.org/stable/modules/generated/sklearn.linear_model.LinearRegression.html"
   ]
  },
  {
   "cell_type": "code",
   "execution_count": 248,
   "id": "destroyed-banana",
   "metadata": {},
   "outputs": [],
   "source": [
    "# Create a specific linear regression instance from class template\n",
    "\n",
    "regr = LinearRegression()"
   ]
  },
  {
   "cell_type": "code",
   "execution_count": 249,
   "id": "scientific-geneva",
   "metadata": {},
   "outputs": [
    {
     "data": {
      "text/plain": [
       "LinearRegression()"
      ]
     },
     "execution_count": 249,
     "metadata": {},
     "output_type": "execute_result"
    }
   ],
   "source": [
    "# Train the model using the training sets\n",
    "\n",
    "# oop is\n",
    "#    noun.verb(noun)\n",
    "#    classifer.fit(data)\n",
    "\n",
    "regr.fit(X_train, y_train)"
   ]
  },
  {
   "cell_type": "code",
   "execution_count": 250,
   "id": "preceding-vacation",
   "metadata": {},
   "outputs": [],
   "source": [
    "# Make predictions using the testing set\n",
    "y_pred = regr.predict(X_test)"
   ]
  },
  {
   "cell_type": "code",
   "execution_count": 251,
   "id": "reflected-logistics",
   "metadata": {},
   "outputs": [],
   "source": [
    "# Let's explore the instance\n",
    "# regr.<tab>\n",
    "\n",
    "# regr.intercept_\n",
    "# regr.coef_"
   ]
  },
  {
   "cell_type": "code",
   "execution_count": 252,
   "id": "nonprofit-pepper",
   "metadata": {},
   "outputs": [
    {
     "name": "stdout",
     "output_type": "stream",
     "text": [
      "Intercept:    151.40\n",
      "Coefficients: 938.16\n"
     ]
    }
   ],
   "source": [
    "# The model parameters\n",
    "print(f\"Intercept:    {regr.intercept_:.2f}\")\n",
    "print(f\"Coefficients: {regr.coef_[0]:.2f}\")"
   ]
  },
  {
   "cell_type": "code",
   "execution_count": 253,
   "id": "present-cream",
   "metadata": {},
   "outputs": [],
   "source": [
    "# Use mean squared error as evaluation metric \n",
    "\n",
    "from sklearn.metrics import mean_squared_error"
   ]
  },
  {
   "cell_type": "markdown",
   "id": "driving-tribe",
   "metadata": {},
   "source": [
    "Let's read the documentation\n",
    "\n",
    "https://scikit-learn.org/stable/modules/generated/sklearn.metrics.mean_squared_error.html"
   ]
  },
  {
   "cell_type": "code",
   "execution_count": 254,
   "id": "centered-boost",
   "metadata": {},
   "outputs": [
    {
     "name": "stdout",
     "output_type": "stream",
     "text": [
      "Mean squared error: 3,960.47\n"
     ]
    }
   ],
   "source": [
    "mse = mean_squared_error(y_test, y_pred)\n",
    "\n",
    "# See coding guidelines for signficant digits\n",
    "print(f\"Mean squared error: {mse:,.2f}\") "
   ]
  },
  {
   "cell_type": "code",
   "execution_count": 255,
   "id": "weekly-device",
   "metadata": {},
   "outputs": [
    {
     "data": {
      "text/plain": [
       "[<matplotlib.lines.Line2D at 0x7f99cde7ad30>]"
      ]
     },
     "execution_count": 255,
     "metadata": {},
     "output_type": "execute_result"
    },
    {
     "data": {
      "image/png": "[encoded data removed]",
      "text/plain": [
       "<Figure size 432x288 with 1 Axes>"
      ]
     },
     "metadata": {
      "needs_background": "light"
     },
     "output_type": "display_data"
    }
   ],
   "source": [
    "# Plot outputs\n",
    "\n",
    "import matplotlib.pyplot as plt\n",
    "\n",
    "plt.scatter(X_test, y_test,  color='black')\n",
    "plt.plot(X_test, y_pred, color='blue', linewidth=3)\n",
    "# See coding guidelines for semicolon use"
   ]
  },
  {
   "cell_type": "code",
   "execution_count": 256,
   "id": "lucky-midwest",
   "metadata": {},
   "outputs": [],
   "source": [
    "# Let's use pipelines\n",
    "\n",
    "from sklearn.pipeline import Pipeline"
   ]
  },
  {
   "cell_type": "markdown",
   "id": "meaning-staff",
   "metadata": {},
   "source": [
    "Let's read the documentation\n",
    "\n",
    "https://scikit-learn.org/stable/modules/generated/sklearn.pipeline.Pipeline.html"
   ]
  },
  {
   "cell_type": "code",
   "execution_count": 257,
   "id": "veterinary-convertible",
   "metadata": {},
   "outputs": [],
   "source": [
    "# StandardScaler is a honkin' good idea for linear regression\n",
    "from sklearn.preprocessing import StandardScaler"
   ]
  },
  {
   "cell_type": "markdown",
   "id": "biblical-stewart",
   "metadata": {},
   "source": [
    "Let's read the documentation\n",
    "\n",
    "https://scikit-learn.org/stable/modules/generated/sklearn.preprocessing.StandardScaler.html"
   ]
  },
  {
   "cell_type": "code",
   "execution_count": 258,
   "id": "confident-journalism",
   "metadata": {},
   "outputs": [
    {
     "name": "stdout",
     "output_type": "stream",
     "text": [
      "Mean squared error: 3,960.47\n"
     ]
    }
   ],
   "source": [
    "# Create a specific instance of the Pipeline class template\n",
    "# Each pipeline is list - ordered and mutable\n",
    "# Each item in the pipelin will have nickname and instantiate a class\n",
    "pipe = Pipeline([('scaler', StandardScaler()), \n",
    "                 ('lr',     LinearRegression())\n",
    "                ])\n",
    "\n",
    "# Call fit as any other estimator \n",
    "pipe.fit(X_train, y_train)\n",
    "\n",
    "\"\"\"\n",
    "Calling fit on the pipeline is the same as calling fit on each estimator in turn, \n",
    "transform the input and pass it on to the next step. \n",
    "The pipeline has all the methods that the last estimator in the pipeline has, \n",
    "i.e. if the last estimator is a classifier, the Pipeline can be used as a classifier.\n",
    "https://scikit-learn.org/stable/modules/compose.html#notes\n",
    "\"\"\" \n",
    "\n",
    "# Make predictions using the testing set\n",
    "y_pred = pipe.predict(X_test)\n",
    "\n",
    "mse = mean_squared_error(y_test, y_pred)\n",
    "print(f\"Mean squared error: {mse:,.2f}\")  "
   ]
  },
  {
   "cell_type": "code",
   "execution_count": 259,
   "id": "acute-tender",
   "metadata": {},
   "outputs": [
    {
     "name": "stdout",
     "output_type": "stream",
     "text": [
      "Intercept:    152.25\n",
      "Coefficients: 45.88\n"
     ]
    }
   ],
   "source": [
    "# Get the parameters from a pipeline pipe\n",
    "print(f\"Intercept:    {pipe['lr'].intercept_:.2f}\")\n",
    "print(f\"Coefficients: {pipe['lr'].coef_[0]:.2f}\")"
   ]
  },
  {
   "cell_type": "code",
   "execution_count": 260,
   "id": "innovative-enhancement",
   "metadata": {},
   "outputs": [
    {
     "name": "stdout",
     "output_type": "stream",
     "text": [
      "Mean squared error: 3,960.47\n"
     ]
    }
   ],
   "source": [
    "# Let's try to improve our model with looking for better hyperparameters\n",
    "# https://scikit-learn.org/stable/modules/generated/sklearn.linear_model.LinearRegression.html\n",
    "\n",
    "pipe = Pipeline([('scaler', StandardScaler()), \n",
    "                 ('lr',     LinearRegression(fit_intercept=False))])\n",
    "\n",
    "pipe.fit(X_train, y_train)\n",
    "diabetes_y_pred = pipe.predict(X_test)\n",
    "mse = mean_squared_error(y_test, y_pred)\n",
    "print(f\"Mean squared error: {mse:,.2f}\")"
   ]
  },
  {
   "cell_type": "markdown",
   "id": "aggregate-sampling",
   "metadata": {},
   "source": [
    "Let's put it all together \n",
    "-----"
   ]
  },
  {
   "cell_type": "code",
   "execution_count": 261,
   "id": "animated-myanmar",
   "metadata": {},
   "outputs": [],
   "source": [
    "reset -fs"
   ]
  },
  {
   "cell_type": "code",
   "execution_count": 262,
   "id": "fourth-vessel",
   "metadata": {},
   "outputs": [
    {
     "name": "stdout",
     "output_type": "stream",
     "text": [
      "Mean squared error: 3,361.84\n"
     ]
    }
   ],
   "source": [
    "from sklearn.datasets        import load_diabetes\n",
    "from sklearn.linear_model    import LinearRegression\n",
    "from sklearn.metrics         import mean_squared_error\n",
    "from sklearn.model_selection import train_test_split\n",
    "from sklearn.pipeline        import Pipeline\n",
    "from sklearn.preprocessing   import StandardScaler\n",
    "\n",
    "# Let's scale up to use all features \n",
    "X, y = load_diabetes(return_X_y=True)\n",
    "\n",
    "# Give the split a better name\n",
    "# Note: I looked at the test set twice previously which is not a best practice. \n",
    "#       Looking at test set more than once means I won't be able to estimate how well my model will fit on other data.\n",
    "X_train, X_validation, y_train, y_validation= train_test_split(X, y)\n",
    "\n",
    "pipe = Pipeline([('scaler', StandardScaler()), \n",
    "                 ('lr',     LinearRegression())])\n",
    "\n",
    "pipe.fit(X_train, y_train)\n",
    "y_pred = pipe.predict(X_validation)\n",
    "mse = mean_squared_error(y_validation, y_pred)\n",
    "print(f\"Mean squared error: {mse:,.2f}\")\n",
    "\n",
    "# If I run this cell multiple times, \n",
    "# I'll get slightly different results because of the random splitting. \n",
    "# You should be confortable with notation that slight changes in the data will yield different fits.\n",
    "# This is formally called Variance in machine learning."
   ]
  },
  {
   "cell_type": "markdown",
   "id": "minute-circular",
   "metadata": {},
   "source": [
    "Other linear models\n",
    "------"
   ]
  },
  {
   "cell_type": "code",
   "execution_count": 263,
   "id": "framed-cause",
   "metadata": {},
   "outputs": [],
   "source": [
    "reset -fs"
   ]
  },
  {
   "cell_type": "code",
   "execution_count": 264,
   "id": "opponent-discharge",
   "metadata": {},
   "outputs": [],
   "source": [
    "from sklearn.linear_model import *"
   ]
  },
  {
   "cell_type": "code",
   "execution_count": 265,
   "id": "guided-diploma",
   "metadata": {},
   "outputs": [
    {
     "name": "stdout",
     "output_type": "stream",
     "text": [
      "Variable                      Type        Data/Info\n",
      "---------------------------------------------------\n",
      "ARDRegression                 ABCMeta     <class 'sklearn.linear_mo<...>el._bayes.ARDRegression'>\n",
      "BayesianRidge                 ABCMeta     <class 'sklearn.linear_mo<...>el._bayes.BayesianRidge'>\n",
      "ElasticNet                    ABCMeta     <class 'sklearn.linear_mo<...>nate_descent.ElasticNet'>\n",
      "ElasticNetCV                  ABCMeta     <class 'sklearn.linear_mo<...>te_descent.ElasticNetCV'>\n",
      "GammaRegressor                type        <class 'sklearn.linear_mo<...>_glm.glm.GammaRegressor'>\n",
      "Hinge                         type        <class 'sklearn.linear_model._sgd_fast.Hinge'>\n",
      "Huber                         type        <class 'sklearn.linear_model._sgd_fast.Huber'>\n",
      "HuberRegressor                ABCMeta     <class 'sklearn.linear_mo<...>l._huber.HuberRegressor'>\n",
      "Lars                          ABCMeta     <class 'sklearn.linear_model._least_angle.Lars'>\n",
      "LarsCV                        ABCMeta     <class 'sklearn.linear_mo<...>del._least_angle.LarsCV'>\n",
      "Lasso                         ABCMeta     <class 'sklearn.linear_mo<...>oordinate_descent.Lasso'>\n",
      "LassoCV                       ABCMeta     <class 'sklearn.linear_mo<...>rdinate_descent.LassoCV'>\n",
      "LassoLars                     ABCMeta     <class 'sklearn.linear_mo<...>._least_angle.LassoLars'>\n",
      "LassoLarsCV                   ABCMeta     <class 'sklearn.linear_mo<...>least_angle.LassoLarsCV'>\n",
      "LassoLarsIC                   ABCMeta     <class 'sklearn.linear_mo<...>least_angle.LassoLarsIC'>\n",
      "LinearRegression              ABCMeta     <class 'sklearn.linear_mo<...>._base.LinearRegression'>\n",
      "Log                           type        <class 'sklearn.linear_model._sgd_fast.Log'>\n",
      "LogisticRegression            type        <class 'sklearn.linear_mo<...>stic.LogisticRegression'>\n",
      "LogisticRegressionCV          type        <class 'sklearn.linear_mo<...>ic.LogisticRegressionCV'>\n",
      "ModifiedHuber                 type        <class 'sklearn.linear_mo<...>_sgd_fast.ModifiedHuber'>\n",
      "MultiTaskElasticNet           ABCMeta     <class 'sklearn.linear_mo<...>ent.MultiTaskElasticNet'>\n",
      "MultiTaskElasticNetCV         ABCMeta     <class 'sklearn.linear_mo<...>t.MultiTaskElasticNetCV'>\n",
      "MultiTaskLasso                ABCMeta     <class 'sklearn.linear_mo<...>_descent.MultiTaskLasso'>\n",
      "MultiTaskLassoCV              ABCMeta     <class 'sklearn.linear_mo<...>escent.MultiTaskLassoCV'>\n",
      "OrthogonalMatchingPursuit     ABCMeta     <class 'sklearn.linear_mo<...>thogonalMatchingPursuit'>\n",
      "OrthogonalMatchingPursuitCV   ABCMeta     <class 'sklearn.linear_mo<...>ogonalMatchingPursuitCV'>\n",
      "PassiveAggressiveClassifier   ABCMeta     <class 'sklearn.linear_mo<...>iveAggressiveClassifier'>\n",
      "PassiveAggressiveRegressor    ABCMeta     <class 'sklearn.linear_mo<...>siveAggressiveRegressor'>\n",
      "Perceptron                    ABCMeta     <class 'sklearn.linear_mo<...>._perceptron.Perceptron'>\n",
      "PoissonRegressor              type        <class 'sklearn.linear_mo<...>lm.glm.PoissonRegressor'>\n",
      "RANSACRegressor               type        <class 'sklearn.linear_mo<...>_ransac.RANSACRegressor'>\n",
      "Ridge                         ABCMeta     <class 'sklearn.linear_model._ridge.Ridge'>\n",
      "RidgeCV                       ABCMeta     <class 'sklearn.linear_model._ridge.RidgeCV'>\n",
      "RidgeClassifier               ABCMeta     <class 'sklearn.linear_mo<...>._ridge.RidgeClassifier'>\n",
      "RidgeClassifierCV             ABCMeta     <class 'sklearn.linear_mo<...>ridge.RidgeClassifierCV'>\n",
      "SGDClassifier                 ABCMeta     <class 'sklearn.linear_mo<...>_gradient.SGDClassifier'>\n",
      "SGDRegressor                  ABCMeta     <class 'sklearn.linear_mo<...>c_gradient.SGDRegressor'>\n",
      "SquaredLoss                   type        <class 'sklearn.linear_mo<...>l._sgd_fast.SquaredLoss'>\n",
      "TheilSenRegressor             ABCMeta     <class 'sklearn.linear_mo<...>l_sen.TheilSenRegressor'>\n",
      "TweedieRegressor              type        <class 'sklearn.linear_mo<...>lm.glm.TweedieRegressor'>\n",
      "enet_path                     function    <function enet_path at 0x7f99ccc1d430>\n",
      "lars_path                     function    <function lars_path at 0x7f99ccaf9e50>\n",
      "lars_path_gram                function    <function lars_path_gram at 0x7f99ccaf9f70>\n",
      "lasso_path                    function    <function lasso_path at 0x7f99ccc1d3a0>\n",
      "orthogonal_mp                 function    <function orthogonal_mp at 0x7f99ccca3ee0>\n",
      "orthogonal_mp_gram            function    <function orthogonal_mp_gram at 0x7f99cccaa040>\n",
      "ridge_regression              function    <function ridge_regression at 0x7f99ccc6b700>\n"
     ]
    }
   ],
   "source": [
    "whos"
   ]
  },
  {
   "cell_type": "markdown",
   "id": "particular-spirit",
   "metadata": {},
   "source": [
    "How do we pick?\n",
    "\n",
    "1. We can discard algorithms that are not appropriate (e.g., MultiTask*, or *Classifier). A rough guide is [here](https://scikit-learn.org/stable/modules/classes.html#module-sklearn.linear_model)\n",
    "\n",
    "2. We decide empirically (see Brian's ML Tenets.\n",
    "\n",
    "How do we learn about each one of them?\n",
    "\n",
    "Like eating an elephant, one bite at a time.\n",
    "\n",
    "1. Find most common first\n",
    "2. Look up documentation\n",
    "3. Make flashcard"
   ]
  },
  {
   "cell_type": "markdown",
   "id": "bound-yellow",
   "metadata": {},
   "source": [
    "Let's read the documentation\n",
    "\n",
    "https://scikit-learn.org/stable/modules/linear_model.html"
   ]
  },
  {
   "cell_type": "markdown",
   "id": "solved-poison",
   "metadata": {},
   "source": [
    "<center><h2>Check for understanding</h2></center>\n",
    "\n",
    "What are the similarities between [LinearRegression](https://scikit-learn.org/stable/modules/generated/sklearn.linear_model.LinearRegression.html) and [SGDRegressor](https://scikit-learn.org/stable/modules/generated/sklearn.linear_model.SGDRegressor.html)?  \n",
    "What are the differences between the two?  \n",
    "When would should I pick LinearRegression and when should I pick SGDRegressor?"
   ]
  },
  {
   "cell_type": "markdown",
   "id": "grateful-store",
   "metadata": {},
   "source": [
    "They both implement the linear regression algorithm.\n",
    "\n",
    "The most difference is LinearRegression fits the linear regression model (aka, estimate the unknown parameters) with ordinary least squares (OLS) optimization technique and SGDRegressor fist the model linear regression with stochastic gradient descent (SGD) nown parameters) with ordinary least squares (OLS) . \n",
    "\n",
    "The result of picking different optimization is that LinearRegression will fit faster (closed-form) but restricted in the loss function to residual sum of squares. The SGD is iterative thus typically slower. SGD can use a wide variety of loss functions:\n",
    "\n",
    ">  ‘squared_loss’, ‘huber’, ‘epsilon_insensitive’, or ‘squared_epsilon_insensitive’:\n",
    "\n",
    "> - ‘squared_loss’ refers to the ordinary least squares fit.   \n",
    "> - ‘huber’ modifies ‘squared_loss’ to focus less on getting outliers correct by switching from squared to linear loss past a distance of epsilon. \n",
    "> - ‘epsilon_insensitive’ ignores errors less than epsilon and is linear past that; this is the loss function used in SVR.   \n",
    "> - ‘squared_epsilon_insensitive’ is the same but becomes squared loss past a tolerance of epsilon."
   ]
  },
  {
   "cell_type": "code",
   "execution_count": 266,
   "id": "advance-intent",
   "metadata": {},
   "outputs": [],
   "source": [
    "# Setup\n",
    "from sklearn.datasets        import load_diabetes\n",
    "from sklearn.linear_model    import LinearRegression\n",
    "from sklearn.metrics         import mean_squared_error\n",
    "from sklearn.model_selection import train_test_split\n",
    "from sklearn.pipeline        import Pipeline\n",
    "from sklearn.preprocessing   import StandardScaler\n",
    "\n",
    "X, y = load_diabetes(return_X_y=True)\n",
    "# Fix seed\n",
    "# We'll temporary fix the random seed so we can do \"science\" - Control as many factors as possible\n",
    "X_train, X_validation, y_train, y_validation= train_test_split(X, y, random_state=42)"
   ]
  },
  {
   "cell_type": "code",
   "execution_count": 267,
   "id": "institutional-johns",
   "metadata": {},
   "outputs": [],
   "source": [
    "# Poll - Which algorithm do you think will be best (as defined by smallest MSE on validation dataset)?\n",
    "algorithms = [LinearRegression(), \n",
    "              Lasso(), \n",
    "              Ridge(), \n",
    "              ElasticNet(), \n",
    "              HuberRegressor(), \n",
    "              SGDRegressor()]"
   ]
  },
  {
   "cell_type": "code",
   "execution_count": 268,
   "id": "interpreted-burden",
   "metadata": {},
   "outputs": [
    {
     "name": "stdout",
     "output_type": "stream",
     "text": [
      "LinearRegression  - mean squared error: 2,848.30\n",
      "Lasso             - mean squared error: 2,784.98\n",
      "Ridge             - mean squared error: 2,842.82\n",
      "ElasticNet        - mean squared error: 2,856.77\n",
      "HuberRegressor    - mean squared error: 2,864.72\n",
      "SGDRegressor      - mean squared error: 2,849.22\n"
     ]
    }
   ],
   "source": [
    "# Programmatically fit \n",
    "\n",
    "results = dict()\n",
    "\n",
    "for algo in algorithms:\n",
    "    pipe = Pipeline([('scaler', StandardScaler()), \n",
    "                     ('lm',     algo)])\n",
    "\n",
    "    pipe.fit(X_train, y_train)\n",
    "    y_pred = pipe.predict(X_validation)\n",
    "    mse = mean_squared_error(y_validation, y_pred)\n",
    "    print(f\"{algo.__class__.__name__:<17} - mean squared error: {mse:,.2f}\")"
   ]
  },
  {
   "cell_type": "markdown",
   "id": "documentary-limitation",
   "metadata": {},
   "source": [
    "Lasso appears to be our current champion.\n",
    "\n",
    "Typically your retrain the champion model on all the data for the final model:"
   ]
  },
  {
   "cell_type": "code",
   "execution_count": 269,
   "id": "improved-heaven",
   "metadata": {},
   "outputs": [
    {
     "data": {
      "text/plain": [
       "{'memory': None,\n",
       " 'steps': [('scaler', StandardScaler()), ('lasso', Lasso())],\n",
       " 'verbose': False,\n",
       " 'scaler': StandardScaler(),\n",
       " 'lasso': Lasso(),\n",
       " 'scaler__copy': True,\n",
       " 'scaler__with_mean': True,\n",
       " 'scaler__with_std': True,\n",
       " 'lasso__alpha': 1.0,\n",
       " 'lasso__copy_X': True,\n",
       " 'lasso__fit_intercept': True,\n",
       " 'lasso__max_iter': 1000,\n",
       " 'lasso__normalize': False,\n",
       " 'lasso__positive': False,\n",
       " 'lasso__precompute': False,\n",
       " 'lasso__random_state': None,\n",
       " 'lasso__selection': 'cyclic',\n",
       " 'lasso__tol': 0.0001,\n",
       " 'lasso__warm_start': False}"
      ]
     },
     "execution_count": 269,
     "metadata": {},
     "output_type": "execute_result"
    }
   ],
   "source": [
    "pipe = Pipeline([('scaler', StandardScaler()), \n",
    "                 ('lasso',     Lasso())])\n",
    "pipe.get_params()"
   ]
  },
  {
   "cell_type": "code",
   "execution_count": 270,
   "id": "thousand-switch",
   "metadata": {},
   "outputs": [
    {
     "data": {
      "text/plain": [
       "{'alpha': 1.0,\n",
       " 'copy_X': True,\n",
       " 'fit_intercept': True,\n",
       " 'max_iter': 1000,\n",
       " 'normalize': False,\n",
       " 'positive': False,\n",
       " 'precompute': False,\n",
       " 'random_state': None,\n",
       " 'selection': 'cyclic',\n",
       " 'tol': 0.0001,\n",
       " 'warm_start': False}"
      ]
     },
     "execution_count": 270,
     "metadata": {},
     "output_type": "execute_result"
    }
   ],
   "source": [
    "pipe['lasso'].get_params() "
   ]
  },
  {
   "cell_type": "code",
   "execution_count": 273,
   "id": "portuguese-compensation",
   "metadata": {},
   "outputs": [],
   "source": [
    "# Use dictionary for hand-tuning\n",
    "hyperparameters = {'alpha': 1.0,\n",
    "                 'copy_X': True,\n",
    "                 'fit_intercept': True,\n",
    "                 'max_iter': 1000,\n",
    "                 'normalize': False,\n",
    "                 'positive': False,\n",
    "                 'precompute': False,\n",
    "                 'random_state': None,\n",
    "                 'selection': 'cyclic',\n",
    "                 'tol': 0.0001,\n",
    "                 'warm_start': False}"
   ]
  },
  {
   "cell_type": "code",
   "execution_count": 277,
   "id": "steady-despite",
   "metadata": {},
   "outputs": [],
   "source": [
    "pipe = Pipeline([('scaler', StandardScaler()), \n",
    "                 ('lasso',     Lasso(**hyperparameters))])"
   ]
  },
  {
   "cell_type": "code",
   "execution_count": 278,
   "id": "lovely-ireland",
   "metadata": {},
   "outputs": [
    {
     "data": {
      "text/plain": [
       "Pipeline(steps=[('scaler', StandardScaler()), ('lasso', Lasso())])"
      ]
     },
     "execution_count": 278,
     "metadata": {},
     "output_type": "execute_result"
    }
   ],
   "source": [
    "pipe.fit(X, y)"
   ]
  },
  {
   "cell_type": "code",
   "execution_count": 279,
   "id": "living-aaron",
   "metadata": {},
   "outputs": [
    {
     "name": "stdout",
     "output_type": "stream",
     "text": [
      "Intercept:        152.13\n",
      "Coefficients: age  -0.00\n",
      "              sex  -9.32\n",
      "              bmi  24.83\n",
      "               bp  14.09\n",
      "               s1  -4.84\n",
      "               s2  -0.00\n",
      "               s3 -10.62\n",
      "               s4   0.00\n",
      "               s5  24.42\n",
      "               s6   2.56\n",
      "              "
     ]
    }
   ],
   "source": [
    "# Display the parameters from a pipeline pipe\n",
    "\n",
    "diabetes_data = load_diabetes() # Get data bunch to display feature names\n",
    "\n",
    "print(f\"Intercept:        {pipe['lasso'].intercept_:.2f}\")\n",
    "print(f\"Coefficients:\", end=\" \")\n",
    "for feature_name, coef in zip(diabetes_data.feature_names, pipe['lasso'].coef_):\n",
    "    print(f\"{feature_name:>3} {coef:>6,.2f}\", end=\"\\n              \")"
   ]
  },
  {
   "cell_type": "markdown",
   "id": "revised-manner",
   "metadata": {},
   "source": [
    "What should we do next?\n",
    "-------\n",
    "\n",
    "So much...   \n",
    "(Data analysis typically raises combinatorial options. That is why data people will always have jobs.). \n",
    "\n",
    "1. Hyperparameter tuning\n",
    "    \n",
    "    Thus far we have just being using the defaults for the algorithms (typically, scikit-learn defaults are pretty good).\n",
    "    Each of the algorithms can take making arguments. For example `SGDRegressor` can take many different kinds of loss functions.\n",
    "<br>\n",
    "1. Cross validation\n",
    "\n",
    "    There is an automate way to train and evaluate across the dataset\n",
    "<br>\n",
    "1. Feature engineering\n",
    "\n",
    "    More and better features improve model performance."
   ]
  },
  {
   "cell_type": "markdown",
   "id": "third-chrome",
   "metadata": {},
   "source": [
    "Mapping from method call to steps in modeling\n",
    "------\n",
    "\n",
    "<center><img src=\"../images/functions_steps.png\" width=\"75%\"/></center>\n"
   ]
  },
  {
   "cell_type": "markdown",
   "id": "bottom-twelve",
   "metadata": {},
   "source": [
    "<center><h2>Sources of Inspiration</h2></center>\n",
    "\n",
    "- https://scikit-learn.org/stable/auto_examples/linear_model/plot_ols.html\n",
    "- https://realpython.com/train-test-split-python-data/"
   ]
  },
  {
   "cell_type": "markdown",
   "id": "tamil-microwave",
   "metadata": {},
   "source": [
    "Bonus Material\n",
    "-------\n",
    "\n",
    "- [Normalization has no impact predictive performance](https://stackoverflow.com/questions/54067474/comparing-results-from-standardscaler-vs-normalizer-in-linear-regression)\n",
    "- [Multicollinearity has no impact predictive performance](https://gist.github.com/brianspiering/f3cf96c61d2785978f336c75b63ad7c7) Even if features are perfectly correlated, algorithms will still predict at the same level."
   ]
  }
 ],
 "metadata": {
  "kernelspec": {
   "display_name": "Python 3",
   "language": "python",
   "name": "python3"
  },
  "language_info": {
   "codemirror_mode": {
    "name": "ipython",
    "version": 3
   },
   "file_extension": ".py",
   "mimetype": "text/x-python",
   "name": "python",
   "nbconvert_exporter": "python",
   "pygments_lexer": "ipython3",
   "version": "3.8.5"
  },
  "toc": {
   "base_numbering": 1,
   "nav_menu": {},
   "number_sections": false,
   "sideBar": false,
   "skip_h1_title": false,
   "title_cell": "Table of Contents",
   "title_sidebar": "Contents",
   "toc_cell": true,
   "toc_position": {},
   "toc_section_display": true,
   "toc_window_display": false
  }
 },
 "nbformat": 4,
 "nbformat_minor": 5
}
