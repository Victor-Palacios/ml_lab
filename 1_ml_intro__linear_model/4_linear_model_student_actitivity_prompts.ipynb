{
 "cells": [
  {
   "cell_type": "markdown",
   "id": "lesbian-nutrition",
   "metadata": {
    "toc": true
   },
   "source": [
    "<h1>Table of Contents<span class=\"tocSkip\"></span></h1>\n",
    "<div class=\"toc\"><ul class=\"toc-item\"><li><span><a href=\"#Instructions\" data-toc-modified-id=\"Instructions-1\">Instructions</a></span></li><li><span><a href=\"#Challenge-Prompts\" data-toc-modified-id=\"Challenge-Prompts-2\">Challenge Prompts</a></span></li></ul></div>"
   ]
  },
  {
   "cell_type": "markdown",
   "id": "mobile-invention",
   "metadata": {},
   "source": [
    "Instructions\n",
    "------\n",
    "\n",
    "- Complete this individually. \n",
    "\n",
    "    You must be able to fit fundamental machine learning models by yourself.\n",
    "    <br>\n",
    "- Type every command. \n",
    "\n",
    "    You learn almost nothing by copy n' pasting code. Typing the commands will build procedural fluency and you will make small typos that will force you to debug common mistakes. Tab complete is awesome, use it!\n",
    "<br>\n",
    "- Complete the activity in Deepnote. \n",
    "\n",
    "    After completion, send the link as a private message in Zoom to Brian. Time permitting, Brian might give you a quick code review. It also signals who in the class is done.\n",
    "    <br>\n",
    "- Any random seed should be set to `42` so we can compare results amongst ourselves."
   ]
  },
  {
   "cell_type": "code",
   "execution_count": 17,
   "id": "mature-differential",
   "metadata": {},
   "outputs": [],
   "source": [
    "reset -fs"
   ]
  },
  {
   "cell_type": "code",
   "execution_count": 18,
   "id": "fatal-family",
   "metadata": {},
   "outputs": [],
   "source": [
    "# TODO: \n",
    "# - Write import statement to load boston housing data\n",
    "# - Call the following on the data set to \n",
    "#    - help function on load\n",
    "#    - keys\n",
    "#    - DESCR\n",
    "#    - feature_names\n",
    "#    - shape\n",
    "# - Load boston housing data into correctly named variables \n",
    "\n"
   ]
  },
  {
   "cell_type": "code",
   "execution_count": 20,
   "id": "tropical-accounting",
   "metadata": {},
   "outputs": [],
   "source": [
    "# Tests to keep you honest \n",
    " \n",
    "assert X.shape == (506, 13)\n",
    "assert y.shape == (506,)"
   ]
  },
  {
   "cell_type": "code",
   "execution_count": 21,
   "id": "cubic-harbor",
   "metadata": {},
   "outputs": [],
   "source": [
    "# TODO: \n",
    "# - Write import statement to split your data into train and validation \n",
    "# - Assign train and validation data. Use seed set to 42 so you can compare answers with classmates."
   ]
  },
  {
   "cell_type": "code",
   "execution_count": 23,
   "id": "documentary-recovery",
   "metadata": {},
   "outputs": [],
   "source": [
    "# TODO: Fit a baseline model \n",
    "# - Import linear regression algorithm, MSE metric, pipeline, and standardize function\n",
    "# - Create a pipeline\n",
    "# - Train algorithm in pipeline \n",
    "# - Find performance metric on validation data"
   ]
  },
  {
   "cell_type": "code",
   "execution_count": 25,
   "id": "solar-confidentiality",
   "metadata": {},
   "outputs": [],
   "source": [
    "# TODO: Find out which the following linear_model algorithms is the best:\n",
    "# - Lasso\n",
    "# - Ridge\n",
    "# - ElasticNet\n",
    "# - HuberRegressor\n",
    "# - Another one of your choice that is appropiate for the data \n",
    "\n",
    "# Make your personal prediction before running the code. Which one do you apriori think will perform best?"
   ]
  },
  {
   "cell_type": "code",
   "execution_count": 27,
   "id": "necessary-discovery",
   "metadata": {},
   "outputs": [],
   "source": [
    "# TODO: Finalize model \n",
    "# - Retrain best algorithm on all the data \n",
    "# - Print the parameters of the final model with associated feature names"
   ]
  },
  {
   "cell_type": "code",
   "execution_count": null,
   "id": "united-assignment",
   "metadata": {},
   "outputs": [],
   "source": [
    "# TODO: Why was the champion algorithm the best?"
   ]
  },
  {
   "cell_type": "markdown",
   "id": "swedish-construction",
   "metadata": {},
   "source": [
    "Challenge Prompts\n",
    "------\n",
    "\n",
    "If you have extra time, try these:\n",
    "\n",
    "- Understand the data and how `StandardScaler` changes it. Visualize the univariate distribution of features before and after applying `StandScaler`.\n",
    "- Start hand-tuning the hyperparameters for algorithms. See which hyperparameter combination yields a higher score on the validation data."
   ]
  },
  {
   "cell_type": "markdown",
   "id": "stopped-detail",
   "metadata": {},
   "source": [
    "<br>\n",
    "<br> \n",
    "<br>\n",
    "\n",
    "----"
   ]
  }
 ],
 "metadata": {
  "kernelspec": {
   "display_name": "Python 3",
   "language": "python",
   "name": "python3"
  },
  "language_info": {
   "codemirror_mode": {
    "name": "ipython",
    "version": 3
   },
   "file_extension": ".py",
   "mimetype": "text/x-python",
   "name": "python",
   "nbconvert_exporter": "python",
   "pygments_lexer": "ipython3",
   "version": "3.8.5"
  },
  "toc": {
   "base_numbering": 1,
   "nav_menu": {},
   "number_sections": false,
   "sideBar": false,
   "skip_h1_title": false,
   "title_cell": "Table of Contents",
   "title_sidebar": "Contents",
   "toc_cell": true,
   "toc_position": {},
   "toc_section_display": true,
   "toc_window_display": false
  }
 },
 "nbformat": 4,
 "nbformat_minor": 5
}
