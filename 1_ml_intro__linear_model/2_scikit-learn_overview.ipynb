{
 "cells": [
  {
   "cell_type": "markdown",
   "id": "higher-label",
   "metadata": {
    "toc": true
   },
   "source": [
    "<h1>Table of Contents<span class=\"tocSkip\"></span></h1>\n",
    "<div class=\"toc\"><ul class=\"toc-item\"><li><span><a href=\"#Scikit-Learn-Overview\" data-toc-modified-id=\"Scikit-Learn-Overview-1\">Scikit-Learn Overview</a></span></li><li><span><a href=\"#Learning-Outcomes\" data-toc-modified-id=\"Learning-Outcomes-2\">Learning Outcomes</a></span></li><li><span><a href=\"#chef-vs-cook\" data-toc-modified-id=\"chef-vs-cook-3\">chef vs cook</a></span></li><li><span><a href=\"#Representing-Features\" data-toc-modified-id=\"Representing-Features-4\">Representing Features</a></span></li><li><span><a href=\"#Representing-Targets\" data-toc-modified-id=\"Representing-Targets-5\">Representing Targets</a></span></li><li><span><a href=\"#Basic-API\" data-toc-modified-id=\"Basic-API-6\">Basic API</a></span></li><li><span><a href=\"#Steps-to-Using-API\" data-toc-modified-id=\"Steps-to-Using-API-7\">Steps to Using API</a></span></li><li><span><a href=\"#scikit-learn's-Pipeline\" data-toc-modified-id=\"scikit-learn's-Pipeline-8\">scikit-learn's Pipeline</a></span></li><li><span><a href=\"#&quot;Programming-is-all-about-managing-complexity&quot;\" data-toc-modified-id=\"&quot;Programming-is-all-about-managing-complexity&quot;-9\">\"Programming is all about managing complexity\"</a></span></li><li><span><a href=\"#Pipeline-advantages\" data-toc-modified-id=\"Pipeline-advantages-10\">Pipeline advantages</a></span></li><li><span><a href=\"#Takeaways\" data-toc-modified-id=\"Takeaways-11\">Takeaways</a></span></li><li><span><a href=\"#Sources-of-Inspiration\" data-toc-modified-id=\"Sources-of-Inspiration-12\">Sources of Inspiration</a></span></li></ul></div>"
   ]
  },
  {
   "cell_type": "markdown",
   "id": "suitable-black",
   "metadata": {},
   "source": [
    "<center><h2>Scikit-Learn Overview</h2></center>"
   ]
  },
  {
   "cell_type": "markdown",
   "id": "linear-peninsula",
   "metadata": {},
   "source": [
    "<center><h2>Learning Outcomes</h2></center>\n",
    "\n",
    "__By the end of this session, you should be able to__:\n",
    "\n",
    "- Describe what scikit-learn is\n",
    "- The features and benefits of scikit-learn\n",
    "- The common scikit-learn APIs:\n",
    "    - Estimators\n",
    "    - Pipelines\n"
   ]
  },
  {
   "cell_type": "markdown",
   "id": "occasional-politics",
   "metadata": {},
   "source": [
    "<center><img src=\"https://upload.wikimedia.org/wikipedia/commons/thumb/0/05/Scikit_learn_logo_small.svg/1200px-Scikit_learn_logo_small.svg.png\" width=\"75%\"/></center>\n",
    "\n",
    "- Python library for traditional machine learning\n",
    "- Open source\n",
    "- Well-established\n",
    "- easy-to-use\n",
    "    - consisent interface\n",
    "    \n",
    "    - correct\n",
    "- very comprehensive\n",
    "    - Estimators for all kinds of models\n",
    "    - Handles pre-preprocessing, cleaning, and feature selection and extraction\n",
    "- Single node: local or cloud - up to [24 GBs of RAM in on AWS](https://aws.amazon.com/ec2/instance-types/high-memory/\n",
    ")\n",
    "\n",
    "> “You can have a second computer once you've shown you know how to use the first one.”   \n",
    "> —Paul Barham\n",
    "\n",
    "Nowadays, the only good reasons to do distributed machine learning unless you want to pad your resume, training on a large  images, video, or text data. Most meaningful business data can be modeled in scikit-learn.\n",
    "\n",
    "__Cons__:\n",
    "\n",
    "- Some algorithms do not support hardware acceleration.\n",
    "- Not suitable for deep learning and reinforcement learning."
   ]
  },
  {
   "cell_type": "markdown",
   "id": "orange-incidence",
   "metadata": {},
   "source": [
    "<center><h2>chef vs cook</h2></center>\n",
    "\n",
    "cook - follow a recipe to make an established meal  \n",
    "\n",
    "chef - create new meals because of deep understanding  \n",
    "\n",
    "This course is make you into cooks. scikit-learn is your well equipped kitchen."
   ]
  },
  {
   "cell_type": "markdown",
   "id": "impressed-retirement",
   "metadata": {},
   "source": [
    "<center><h2>Representing Features</h2></center>\n",
    "\n",
    "<center><img src=\"../images/X.png\" width=\"75%\"/></center>\n",
    "\n",
    "The samples matrix (or design matrix) in a 2-dimensional array. Called X The size of X is typically (n_samples, n_features), which means that samples are represented as rows and features are represented as columns. All values must be numeric!\n",
    "\n",
    "- Each row is an observation / sample / data point.\n",
    "- Each column is a feature.\n",
    "- Each observation is a vector of features.\n",
    "\n",
    "This is not a pandas' Data Frame. That is tabular data. You need to convert it to a array.\n",
    "\n",
    "`X` is how scikit-learn names it. Even through it is in an instance, not a class. This is different than standard pep8."
   ]
  },
  {
   "cell_type": "code",
   "execution_count": 2,
   "id": "worthy-lindsay",
   "metadata": {},
   "outputs": [],
   "source": [
    "import numpy as np\n",
    "\n",
    "X = np.array([[1.0, 2],\n",
    "              [5.6, 3.4]])"
   ]
  },
  {
   "cell_type": "markdown",
   "id": "frozen-vienna",
   "metadata": {},
   "source": [
    "<center><h2>Representing Targets</h2></center>\n",
    "\n",
    "If doing supervised learning, then targets often look like this:\n",
    "\n",
    "<center><img src=\"../images/y.png\" with=\"75%\"/></center>\n",
    "\n",
    "The target values y which are real numbers for regression tasks, or integers for classification (or any other discrete set of values). For unsupervized learning tasks, y does not need to be specified. y is usually 1d array where the i th entry corresponds to the target of the i th sample (row) of X."
   ]
  },
  {
   "cell_type": "code",
   "execution_count": 3,
   "id": "legislative-paintball",
   "metadata": {},
   "outputs": [],
   "source": [
    "y = np.array([[1], \n",
    "              [2]])"
   ]
  },
  {
   "cell_type": "markdown",
   "id": "thick-meeting",
   "metadata": {},
   "source": [
    "Both X and y are usually expected to be numpy arrays or equivalent array-like data types, though some estimators work with other formats such as sparse matrices."
   ]
  },
  {
   "cell_type": "markdown",
   "id": "alpha-excitement",
   "metadata": {},
   "source": [
    "<center><h2>Basic API</h2></center>\n",
    "\n",
    "The Scikit-Learn API is designed with the following guiding principles in mind, as outlined in the [Scikit-Learn API](http://arxiv.org/abs/1309.0238) paper:\n",
    "\n",
    "- Consistency: All objects share a common interface drawn from a limited set of methods, with consistent documentation.\n",
    "\n",
    "- Inspection: All specified parameter values are exposed as public attributes.\n",
    "\n",
    "- Limited object hierarchy: Only algorithms are represented by Python classes; datasets are represented in standard formats (NumPy arrays, Pandas DataFrames, SciPy sparse matrices) and parameter names use standard Python strings.\n",
    "\n",
    "- Composition: Many machine learning tasks can be expressed as sequences of more fundamental algorithms, and Scikit-Learn makes use of this wherever possible.\n",
    "\n",
    "- Sensible defaults: When models require user-specified parameters, the library defines an appropriate default value.\n",
    "\n",
    "Everything is class based.\n",
    "\n",
    "Estimator API has a consistent interface for all algorithms. All estimators have fit method.\n",
    "\n",
    "`estimator.fit(X, [y])`\n",
    "\n",
    "X is required.  \n",
    "y is optional.\n",
    "\n",
    "Estimators either have a predict or transform method.\n",
    "\n",
    "- estimator.predict\n",
    "    - Classification\n",
    "    - Regression\n",
    "    - Clustering\n",
    "- estimator.transform (Sometimes called Transformers)\n",
    "    - Preprocessing\n",
    "    - Dimensionality reduction\n",
    "    - Feature selection\n"
   ]
  },
  {
   "cell_type": "markdown",
   "id": "extra-participation",
   "metadata": {},
   "source": [
    "Steps to Using API\n",
    "-------\n",
    "\n",
    "1. Arrange data into a features matrix and target vector.\n",
    "1. Choose an algorithm by importing the appropriate estimator class from Scikit-Learn.\n",
    "1. Choose hyperparameters by instantiating this class with desired values.\n",
    "1. Fit the algorithm to your data by calling the fit() method of the model instance.\n",
    "1. Apply the Model to new data:\n",
    "    1. For supervised learning, often we predict labels for unknown data using the predict() method.\n",
    "    1. For unsupervised learning, we often transform or infer properties of the data using the transform() or predict() method.\n"
   ]
  },
  {
   "cell_type": "markdown",
   "id": "covered-interface",
   "metadata": {},
   "source": [
    "<center><h2>scikit-learn's Pipeline</h2></center>\n",
    "\n",
    "<center><img src=\"https://3qeqpr26caki16dnhd19sv6by6v-wpengine.netdna-ssl.com/wp-content/uploads/2016/06/Automate-Machine-Learning-Workflows-with-Pipelines-in-Python-and-scikit-learn.jpg\" width=\"90%\"/></center>\n",
    "\n",
    "Pipelines are very useful concept.\n",
    "\n",
    "Pipelines allow things (oil or data) to move without losing any of the precious resource.\n",
    "\n",
    "Pipelines have modular segments. If section needs to be improved, only that section needs to be replaced."
   ]
  },
  {
   "cell_type": "markdown",
   "id": "failing-trunk",
   "metadata": {},
   "source": [
    "<center><h2>\"Programming is all about managing complexity\"</h2></center>\n",
    "\n",
    "Abstractions help us do that.\n",
    "\n",
    "Pipelines are a great abstraction.\n",
    "\n",
    "Instead of tracking every step, we just create and pass a Pipeline object. An example of encapsulation.\n",
    "\n",
    "Source: https://stackoverflow.com/questions/33091376/python-what-is-exactly-sklearn-pipeline-pipeline"
   ]
  },
  {
   "cell_type": "markdown",
   "id": "personal-telescope",
   "metadata": {},
   "source": [
    "<center><h2>Pipeline advantages</h2></center>\n",
    "\n",
    "- Encapsulation all steps in a single object. Pipeline can be evaluated and tuned as a whole.\n",
    "- Apply the same steps to both training and test.\n",
    "- Pipeline will also prevent you from data leakage, i.e. disclosing some testing data in your training data.\n",
    "- Plays nicely with cross validation (CV) - feature selection within CV loops.\n",
    "\n",
    "<center><img src=\"../images/cv.png\" width=\"75%\"/></center>"
   ]
  },
  {
   "cell_type": "code",
   "execution_count": 4,
   "id": "another-alarm",
   "metadata": {},
   "outputs": [
    {
     "data": {
      "text/plain": [
       "Pipeline(steps=[('scaler', StandardScaler()), ('lr', LinearRegression())])"
      ]
     },
     "execution_count": 4,
     "metadata": {},
     "output_type": "execute_result"
    }
   ],
   "source": [
    "from sklearn.pipeline import Pipeline\n",
    "from sklearn.preprocessing import StandardScaler\n",
    "from sklearn.linear_model import LinearRegression\n",
    "\n",
    "pipe = Pipeline([('scaler', StandardScaler()), \n",
    "                 ('lr', LinearRegression())])\n",
    "\n",
    "pipe.fit(X, y)"
   ]
  },
  {
   "cell_type": "markdown",
   "id": "alternate-tender",
   "metadata": {},
   "source": [
    "<center><img src=\"../images/pipeline-diagram.png\" width=\"80%\"/></center>\n",
    "\n",
    "Source: https://iaml.it/blog/optimizing-sklearn-pipelines/"
   ]
  },
  {
   "cell_type": "code",
   "execution_count": 6,
   "id": "spectacular-tonight",
   "metadata": {},
   "outputs": [
    {
     "data": {
      "text/plain": [
       "Pipeline(steps=[('standardscaler', StandardScaler()),\n",
       "                ('linearregression', LinearRegression())])"
      ]
     },
     "execution_count": 6,
     "metadata": {},
     "output_type": "execute_result"
    }
   ],
   "source": [
    "# make_pipeline\n",
    "# https://scikit-learn.org/stable/modules/generated/sklearn.pipeline.make_pipeline.html\n",
    "\n",
    "from sklearn.pipeline import make_pipeline\n",
    "\n",
    "pipe = make_pipeline(StandardScaler(), LinearRegression())\n",
    "pipe"
   ]
  },
  {
   "cell_type": "markdown",
   "id": "dangerous-priority",
   "metadata": {},
   "source": [
    "<center><h2>Takeaways</h2></center>\n",
    "\n",
    "- scikit-learn is the most common machine learning package in Python\n",
    "- scikit-learn primary APIs are Estimator (predict and transform variations) and Pipeline"
   ]
  },
  {
   "cell_type": "markdown",
   "id": "exciting-bulgaria",
   "metadata": {},
   "source": [
    "<center><h2>Sources of Inspiration</h2></center>\n",
    "\n",
    "- [Advanced Machine Learning with Scikit-learn](https://www.youtube.com/watch?v=7l_WQO3JbWE&ab_channel=rakutentech)\n",
    "- https://jakevdp.github.io/PythonDataScienceHandbook/05.02-introducing-scikit-learn.html"
   ]
  }
 ],
 "metadata": {
  "kernelspec": {
   "display_name": "Python 3",
   "language": "python",
   "name": "python3"
  },
  "language_info": {
   "codemirror_mode": {
    "name": "ipython",
    "version": 3
   },
   "file_extension": ".py",
   "mimetype": "text/x-python",
   "name": "python",
   "nbconvert_exporter": "python",
   "pygments_lexer": "ipython3",
   "version": "3.8.5"
  },
  "toc": {
   "base_numbering": 1,
   "nav_menu": {},
   "number_sections": false,
   "sideBar": false,
   "skip_h1_title": false,
   "title_cell": "Table of Contents",
   "title_sidebar": "Contents",
   "toc_cell": true,
   "toc_position": {},
   "toc_section_display": true,
   "toc_window_display": false
  }
 },
 "nbformat": 4,
 "nbformat_minor": 5
}
