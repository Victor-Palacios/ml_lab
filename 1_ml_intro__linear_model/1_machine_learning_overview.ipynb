{
 "cells": [
  {
   "cell_type": "markdown",
   "metadata": {
    "slideshow": {
     "slide_type": "skip"
    },
    "toc": true
   },
   "source": [
    "<h1>Table of Contents<span class=\"tocSkip\"></span></h1>\n",
    "<div class=\"toc\"><ul class=\"toc-item\"><li><span><a href=\"#Introduction-to-Machine-Learning\" data-toc-modified-id=\"Introduction-to-Machine-Learning-1\">Introduction to Machine Learning</a></span></li><li><span><a href=\"#Learning-Outcomes\" data-toc-modified-id=\"Learning-Outcomes-2\">Learning Outcomes</a></span></li><li><span><a href=\"#What-is-the-goal-of-Machine-Learning?\" data-toc-modified-id=\"What-is-the-goal-of-Machine-Learning?-3\">What is the goal of Machine Learning?</a></span></li><li><span><a href=\"#The-goal-of-machine-learning-is-prediction.\" data-toc-modified-id=\"The-goal-of-machine-learning-is-prediction.-4\">The goal of machine learning is prediction.</a></span></li><li><span><a href=\"#What-is-a-definition-of-Machine-Learning?\" data-toc-modified-id=\"What-is-a-definition-of-Machine-Learning?-5\">What is a definition of Machine Learning?</a></span></li><li><span><a href=\"#Learn-a-function-from-data-that-can-generalize-to-predict-new-data\" data-toc-modified-id=\"Learn-a-function-from-data-that-can-generalize-to-predict-new-data-6\">Learn a function from data that can generalize to predict new data</a></span></li><li><span><a href=\"#Generalize-from-specific-instances\" data-toc-modified-id=\"Generalize-from-specific-instances-7\">Generalize from specific instances</a></span></li><li><span><a href=\"#Local-vs-Extreme-Generalization\" data-toc-modified-id=\"Local-vs-Extreme-Generalization-8\">Local vs Extreme Generalization</a></span></li><li><span><a href=\"#Check-for-understanding\" data-toc-modified-id=\"Check-for-understanding-9\">Check for understanding</a></span></li><li><span><a href=\"#In-general,-what-is-an-algorithm?\" data-toc-modified-id=\"In-general,-what-is-an-algorithm?-10\">In general, what is an algorithm?</a></span></li><li><span><a href=\"#What-is-a-model?\" data-toc-modified-id=\"What-is-a-model?-11\">What is a model?</a></span></li><li><span><a href=\"#Cooking-with-Machine-Learning\" data-toc-modified-id=\"Cooking-with-Machine-Learning-12\">Cooking with Machine Learning</a></span></li><li><span><a href=\"#Data-driven-is-looking-in-the-rearview-mirror;-Model-driven-is-looking-through-the-windshield\" data-toc-modified-id=\"Data-driven-is-looking-in-the-rearview-mirror;-Model-driven-is-looking-through-the-windshield-13\">Data-driven is looking in the rearview mirror; Model-driven is looking through the windshield</a></span></li><li><span><a href=\"#Typical-ML-Workflow\" data-toc-modified-id=\"Typical-ML-Workflow-14\">Typical ML Workflow</a></span></li><li><span><a href=\"#Model-parameters-vs-Hyper-parameters\" data-toc-modified-id=\"Model-parameters-vs-Hyper-parameters-15\">Model-parameters vs Hyper-parameters</a></span></li><li><span><a href=\"#Parameters-vs-hyperparameters\" data-toc-modified-id=\"Parameters-vs-hyperparameters-16\">Parameters vs hyperparameters</a></span></li><li><span><a href=\"#Learning-vs-Choosing\" data-toc-modified-id=\"Learning-vs-Choosing-17\">Learning vs Choosing</a></span></li><li><span><a href=\"#Check-for-understanding\" data-toc-modified-id=\"Check-for-understanding-18\">Check for understanding</a></span></li><li><span><a href=\"#Parameters-or-hyperparameters\" data-toc-modified-id=\"Parameters-or-hyperparameters-19\">Parameters or hyperparameters</a></span></li><li><span><a href=\"#The-Model-Selection-Triple\" data-toc-modified-id=\"The-Model-Selection-Triple-20\">The Model Selection Triple</a></span></li><li><span><a href=\"#Takeaways\" data-toc-modified-id=\"Takeaways-21\">Takeaways</a></span></li><li><span><a href=\"#Bonus-Material\" data-toc-modified-id=\"Bonus-Material-22\">Bonus Material</a></span></li><li><span><a href=\"#Complete-ML-Workflow\" data-toc-modified-id=\"Complete-ML-Workflow-23\">Complete ML Workflow</a></span></li><li><span><a href=\"#Difference-between-software-engineering-and-machine-learning\" data-toc-modified-id=\"Difference-between-software-engineering-and-machine-learning-24\">Difference between software engineering and machine learning</a></span></li><li><span><a href=\"#Another-Definition-of-Machine-Learning\" data-toc-modified-id=\"Another-Definition-of-Machine-Learning-25\">Another Definition of Machine Learning</a></span></li><li><span><a href=\"#Machine-Learning\" data-toc-modified-id=\"Machine-Learning-26\">Machine Learning</a></span></li><li><span><a href=\"#Student-Activity\" data-toc-modified-id=\"Student-Activity-27\">Student Activity</a></span></li><li><span><a href=\"#Bonus-Cartoon\" data-toc-modified-id=\"Bonus-Cartoon-28\">Bonus Cartoon</a></span></li><li><span><a href=\"#Randomness-&amp;-Algorithms\" data-toc-modified-id=\"Randomness-&amp;-Algorithms-29\">Randomness &amp; Algorithms</a></span></li><li><span><a href=\"#ML-Steps-&amp;-Job-Titles\" data-toc-modified-id=\"ML-Steps-&amp;-Job-Titles-30\">ML Steps &amp; Job Titles</a></span></li><li><span><a href=\"#Further-Study---Other-Types-of-machine-learning\" data-toc-modified-id=\"Further-Study---Other-Types-of-machine-learning-31\">Further Study - Other Types of machine learning</a></span></li><li><span><a href=\"#What-is-the-half-life-of-a-model?\" data-toc-modified-id=\"What-is-the-half-life-of-a-model?-32\">What is the half-life of a model?</a></span></li></ul></div>"
   ]
  },
  {
   "cell_type": "markdown",
   "metadata": {
    "slideshow": {
     "slide_type": "slide"
    }
   },
   "source": [
    "<center><h2>Introduction to Machine Learning</h2></center>\n",
    "\n",
    "<center><img src=\"../images/robot.png\" width=\"55%\"/></center>"
   ]
  },
  {
   "cell_type": "markdown",
   "metadata": {
    "slideshow": {
     "slide_type": "slide"
    }
   },
   "source": [
    "<center><h2>Learning Outcomes</h2></center>\n",
    "\n",
    "__By the end of this session, you should be able to__:\n",
    "\n",
    "- Define Machine Learning:\n",
    "    - In general\n",
    "    - Algorithms\n",
    "    - Methodology\n",
    "    - Different types"
   ]
  },
  {
   "cell_type": "markdown",
   "metadata": {
    "slideshow": {
     "slide_type": "fragment"
    }
   },
   "source": [
    "<center><h2>What is the goal of Machine Learning?</h2></center>"
   ]
  },
  {
   "cell_type": "markdown",
   "metadata": {
    "slideshow": {
     "slide_type": "slide"
    }
   },
   "source": [
    "<center><h2>The goal of machine learning is prediction.</h2></center>"
   ]
  },
  {
   "cell_type": "markdown",
   "metadata": {
    "slideshow": {
     "slide_type": "skip"
    }
   },
   "source": [
    "Can I make a useful guess about something I have not seen yet?\n",
    "\n",
    "What is the LTV for this customer? \n",
    "\n",
    "Machine Learning will use any (and all) techniques to increase the predictive ability of the model."
   ]
  },
  {
   "cell_type": "markdown",
   "metadata": {
    "slideshow": {
     "slide_type": "slide"
    }
   },
   "source": [
    "<center><h2>What is a definition of Machine Learning?</h2></center>\n",
    "<br>\n",
    "<br>\n",
    "<br>\n",
    "<center><b>Learn a function from data that can generalize to predict new data.</b></center>"
   ]
  },
  {
   "cell_type": "markdown",
   "metadata": {
    "slideshow": {
     "slide_type": "slide"
    }
   },
   "source": [
    "<center><h2>Learn a function from data that can generalize to predict new data</h2></center>"
   ]
  },
  {
   "cell_type": "markdown",
   "metadata": {
    "slideshow": {
     "slide_type": "fragment"
    }
   },
   "source": [
    "- Learn (vs explicitly program)"
   ]
  },
  {
   "cell_type": "markdown",
   "metadata": {
    "slideshow": {
     "slide_type": "fragment"
    }
   },
   "source": [
    "- Function (typically a computer function)"
   ]
  },
  {
   "cell_type": "markdown",
   "metadata": {
    "slideshow": {
     "slide_type": "fragment"
    }
   },
   "source": [
    "- Data (need lots)"
   ]
  },
  {
   "cell_type": "markdown",
   "metadata": {
    "slideshow": {
     "slide_type": "fragment"
    }
   },
   "source": [
    "- Generalize (across time and domain)"
   ]
  },
  {
   "cell_type": "markdown",
   "metadata": {
    "slideshow": {
     "slide_type": "fragment"
    }
   },
   "source": [
    "- New data (data that has been unseen by the ML algorithm)"
   ]
  },
  {
   "cell_type": "markdown",
   "metadata": {
    "slideshow": {
     "slide_type": "slide"
    }
   },
   "source": [
    "<center><img src=\"../images/generalization.png\" width=\"55%\"/></center>"
   ]
  },
  {
   "cell_type": "markdown",
   "metadata": {
    "slideshow": {
     "slide_type": "slide"
    }
   },
   "source": [
    "<center><h2>Generalize from specific instances</h2></center>\n",
    "<center><img src=\"../images/trees.png\" width=\"80%\"/></center>"
   ]
  },
  {
   "cell_type": "markdown",
   "metadata": {
    "slideshow": {
     "slide_type": "slide"
    }
   },
   "source": [
    "<center><h2>Local vs Extreme Generalization</h2></center>\n",
    "\n",
    "<center><img src=\"https://pbs.twimg.com/media/DbKn2CUVMAE8Ljn.jpg:large\" width=\"75%\"/></center>"
   ]
  },
  {
   "cell_type": "markdown",
   "metadata": {
    "slideshow": {
     "slide_type": "skip"
    }
   },
   "source": [
    "[Source](https://twitter.com/fchollet)"
   ]
  },
  {
   "cell_type": "markdown",
   "metadata": {
    "slideshow": {
     "slide_type": "slide"
    }
   },
   "source": [
    "<center><h2>Check for understanding</h2></center>\n",
    "\n",
    "What is generalization called in regression?"
   ]
  },
  {
   "cell_type": "markdown",
   "metadata": {
    "slideshow": {
     "slide_type": "fragment"
    }
   },
   "source": [
    "Interpolation - estimate a function's value (range) between observed data points (domain).\n",
    "\n",
    "Extrapolation  - estimate a function's value (range) outside observed data points (domain)."
   ]
  },
  {
   "cell_type": "markdown",
   "metadata": {
    "slideshow": {
     "slide_type": "skip"
    }
   },
   "source": [
    "<center><img src=\"../images/regression_inter.jpg\" width=\"75%\"/></center>"
   ]
  },
  {
   "cell_type": "markdown",
   "metadata": {},
   "source": [
    "<center><img src=\"../images/two types of people.jpeg\" width=\"75%\"/></center>"
   ]
  },
  {
   "cell_type": "markdown",
   "metadata": {
    "slideshow": {
     "slide_type": "slide"
    }
   },
   "source": [
    "<center><h2>In general, what is an algorithm?</h2></center>"
   ]
  },
  {
   "cell_type": "markdown",
   "metadata": {
    "slideshow": {
     "slide_type": "fragment"
    }
   },
   "source": [
    "A series of explicit steps to reach an outcome."
   ]
  },
  {
   "cell_type": "markdown",
   "metadata": {
    "slideshow": {
     "slide_type": "fragment"
    }
   },
   "source": [
    "In the case of Machine Learning, the steps needed to go from features to predictions."
   ]
  },
  {
   "cell_type": "markdown",
   "metadata": {
    "slideshow": {
     "slide_type": "slide"
    }
   },
   "source": [
    "<center><h2>What is a model?</h2></center>\n",
    "\n",
    "A specific ML algorithm that has been trained on data.\n"
   ]
  },
  {
   "cell_type": "markdown",
   "metadata": {
    "slideshow": {
     "slide_type": "fragment"
    }
   },
   "source": [
    "In other words, an architecture with trained weights."
   ]
  },
  {
   "cell_type": "markdown",
   "metadata": {
    "slideshow": {
     "slide_type": "skip"
    }
   },
   "source": [
    "For example, a regression model will have a set of coefficients with values."
   ]
  },
  {
   "cell_type": "markdown",
   "metadata": {
    "slideshow": {
     "slide_type": "slide"
    }
   },
   "source": [
    "<center><h2>Cooking with Machine Learning</h2></center>\n",
    "<center><img src=\"../images/cooking.png\" width=\"110%\"/></center>"
   ]
  },
  {
   "cell_type": "markdown",
   "metadata": {},
   "source": [
    "<center><h2>Data-driven is looking in the rearview mirror; Model-driven is looking through the windshield</h2></center>"
   ]
  },
  {
   "cell_type": "markdown",
   "metadata": {},
   "source": [
    "<center><h2>Typical ML Workflow</h2></center>\n",
    "\n",
    "1. Load tidy data\n",
    "1. Split into train and test sets\n",
    "1. Do feature engineering\n",
    "1. Search for hyperparameters\n",
    "1. Fit model\n",
    "1. Evaluate model\n",
    "1. Decide if business outcome was accomplished"
   ]
  },
  {
   "cell_type": "markdown",
   "metadata": {
    "slideshow": {
     "slide_type": "slide"
    }
   },
   "source": [
    "<center><h2>Model-parameters vs Hyper-parameters</h2></center>\n",
    "\n",
    "Model-parameters: A model's weights that are used to predict data. So common that the word \"model\" is dropped."
   ]
  },
  {
   "cell_type": "markdown",
   "metadata": {
    "slideshow": {
     "slide_type": "fragment"
    }
   },
   "source": [
    "Hyper-parameters: A model's configurations that controls a model's behavior."
   ]
  },
  {
   "cell_type": "markdown",
   "metadata": {
    "slideshow": {
     "slide_type": "slide"
    }
   },
   "source": [
    "<center><h2>Parameters vs hyperparameters</h2></center>\n",
    "\n",
    "<center><img src=\"../images/m system simple.png\" width=\"70%\"/></center>\n",
    "\n",
    "<center>Parameters: Internal & learned during training </center>\n",
    "\n",
    "<center>Hyperparameters: External & picked before training </center>"
   ]
  },
  {
   "cell_type": "markdown",
   "metadata": {
    "slideshow": {
     "slide_type": "skip"
    }
   },
   "source": [
    "\n",
    "Source: https://www.slideshare.net/AliceZheng3/evaluating-machine-learning-models-a-beginners-guide"
   ]
  },
  {
   "cell_type": "markdown",
   "metadata": {
    "slideshow": {
     "slide_type": "slide"
    }
   },
   "source": [
    "<center><h2>Learning vs Choosing</h2></center>\n",
    "\n",
    "Model parameters are always learned that is why it is Machine Learning.\n",
    "\n",
    "Hyperparameters can be chosen or learned. (More on this later in the course)"
   ]
  },
  {
   "cell_type": "markdown",
   "metadata": {
    "slideshow": {
     "slide_type": "slide"
    }
   },
   "source": [
    "<center><h2>Check for understanding</h2></center>\n",
    "\n",
    "For each of the following components of regression, pick whether it is parameter or hyperparameter?\n",
    "\n",
    "- Adding polynomial features\n",
    "- Values of the βs  \n",
    "- Number of βs\n",
    "- Fit intercept or not\n",
    "- Intercept value\n",
    "- Loss function (e.g., MSE, Huber Loss, Log-Cosh Loss, or Quantile Loss)\n",
    "- Regularization type (e.g., L1, L2, or ElasticNet)\n",
    "- Optimization technique (e.g., ordinary least squares (OLS) or stochastic gradient descent (SGD))"
   ]
  },
  {
   "cell_type": "markdown",
   "metadata": {
    "slideshow": {
     "slide_type": "slide"
    }
   },
   "source": [
    "<center><h2>Parameters or hyperparameters</h2></center>\n",
    "\n",
    "Parameters:\n",
    "- Intercept value\n",
    "- βs values \n",
    "\n",
    "Hyperparameters:\n",
    "\n",
    "- Fit intercept or not\n",
    "- Adding Polynomial features \n",
    "- Number of βs \n",
    "- Loss function (e.g., MSE, Huber Loss, Log-Cosh Loss, or Quantile Loss)\n",
    "- Regularization type (e.g., L1, L2, or ElasticNet)\n",
    "- Optimization technique (e.g., ordinary least squares (OLS) or stochastic gradient descent (SGD))"
   ]
  },
  {
   "cell_type": "markdown",
   "metadata": {},
   "source": [
    "<center><h2>The Model Selection Triple</h2></center>\n",
    "\n",
    "1. Feature Analysis\n",
    "2. Algorithm Selection\n",
    "3. Hyperparameter Tuning\n",
    "\n",
    "[Source](http://pages.cs.wisc.edu/~arun/vision/SIGMODRecord15.pdf)"
   ]
  },
  {
   "cell_type": "markdown",
   "metadata": {
    "slideshow": {
     "slide_type": "slide"
    }
   },
   "source": [
    "<center><h2>Takeaways</h2></center>\n",
    "\n",
    "- Machine Learning cares primarily about prediction and learns from data to make those predictions.\n",
    "- Generalization is the ML model's performance on unseen data.\n",
    "- ML Components:\n",
    "    1. Data / features\n",
    "    1. Training\n",
    "    1. Performance Metrics"
   ]
  },
  {
   "cell_type": "markdown",
   "metadata": {
    "slideshow": {
     "slide_type": "slide"
    }
   },
   "source": [
    "<br>"
   ]
  },
  {
   "cell_type": "markdown",
   "metadata": {},
   "source": [
    "Bonus Material\n",
    "------"
   ]
  },
  {
   "cell_type": "markdown",
   "metadata": {},
   "source": [
    "Complete ML Workflow\n",
    "------\n",
    "<center><img src=\"../images/ml-loop.jpg\" width=\"75%\"/></center>"
   ]
  },
  {
   "cell_type": "markdown",
   "metadata": {},
   "source": [
    "Difference between software engineering and machine learning\n",
    "--------\n",
    "<center><img src=\"../images/SE vs ML 2.png\" width=\"75%\"/></center>\n",
    "<center><img src=\"../images/SE vs ML.jpg\" width=\"75%\"/></center>"
   ]
  },
  {
   "cell_type": "markdown",
   "metadata": {},
   "source": [
    "Generally, the performance of machine learning algorithms is not evaluated with null hypothesis significance testing (NHST). \n",
    "\n",
    "Machine learning performance is evaluated with performance on a hold-out data (e.g., validation or test).\n",
    "\n",
    "This is generally best practices regardless of the evaluation metric."
   ]
  },
  {
   "cell_type": "markdown",
   "metadata": {
    "slideshow": {
     "slide_type": "slide"
    }
   },
   "source": [
    "<center><h2>Another Definition of Machine Learning</h2></center>\n",
    "\n",
    "> \"A computer program is said to learn from experience E with respect to some class of tasks T and performance measure P if its performance at tasks in T, as measured by P, improves with experience E.\"\n",
    "> \n",
    "> —  Tom M. Mitchell"
   ]
  },
  {
   "cell_type": "markdown",
   "metadata": {
    "slideshow": {
     "slide_type": "slide"
    }
   },
   "source": [
    "<center><h2>Machine Learning</h2></center>\n",
    "\n",
    "- The Task (T) - too difficult to write a fixed program.\n"
   ]
  },
  {
   "cell_type": "markdown",
   "metadata": {
    "slideshow": {
     "slide_type": "fragment"
    }
   },
   "source": [
    "- The Performance Measure (P):\n",
    "    - Task specific.\n",
    "    - Performance on test dataset.\n"
   ]
  },
  {
   "cell_type": "markdown",
   "metadata": {
    "slideshow": {
     "slide_type": "fragment"
    }
   },
   "source": [
    "- The Experience (E) - Will get better on P with more data."
   ]
  },
  {
   "cell_type": "markdown",
   "metadata": {
    "slideshow": {
     "slide_type": "skip"
    }
   },
   "source": [
    "Source - http://deeplearningbook.org"
   ]
  },
  {
   "cell_type": "markdown",
   "metadata": {
    "slideshow": {
     "slide_type": "slide"
    }
   },
   "source": [
    "<center><h2>Student Activity</h2></center>\n",
    "\n",
    "> \"A computer program is said to learn from experience E with respect to some class of tasks T and performance measure P if its performance at tasks in T, as measured by P, improves with experience E.\"\n",
    "> \n",
    "> —  Tom M. Mitchell\n",
    "\n",
    "1. Pair off.\n",
    "1. Pick a specific problem (e.g., self-driving cars).\n",
    "1. Apply Tom's Mitchell definition of Machine Learning to the problem."
   ]
  },
  {
   "cell_type": "markdown",
   "metadata": {
    "slideshow": {
     "slide_type": "skip"
    }
   },
   "source": [
    "Source: Mitchell, T. (1997). Machine Learning. McGraw Hill. p. 2. ISBN 978-0-07-042807-2."
   ]
  },
  {
   "cell_type": "markdown",
   "metadata": {
    "slideshow": {
     "slide_type": "slide"
    }
   },
   "source": [
    "Bonus Cartoon\n",
    "-----\n",
    "\n",
    "<center><img src=\"../images/machine learning def.gif\" width=\"75%\"/></center>"
   ]
  },
  {
   "cell_type": "markdown",
   "metadata": {
    "slideshow": {
     "slide_type": "slide"
    }
   },
   "source": [
    "<center><h2>Randomness & Algorithms</h2></center>\n",
    "\n",
    "Can there be randomness in an algorithm? \n",
    "\n",
    "Can you apply the same algorithm twice and get two different results?"
   ]
  },
  {
   "cell_type": "markdown",
   "metadata": {
    "slideshow": {
     "slide_type": "fragment"
    }
   },
   "source": [
    "Yes - There can be randomness in algorithms.\n",
    "\n",
    "Some algorithms are deterministic (always give the same result with same input).   \n",
    "Other algorithms are probabilistic (sometimes give different results with same input)."
   ]
  },
  {
   "cell_type": "markdown",
   "metadata": {
    "slideshow": {
     "slide_type": "slide"
    }
   },
   "source": [
    "<center><h2>ML Steps & Job Titles</h2></center>\n",
    "<center><img src=\"../images/specrtrum.png\" width=\"100%\"/></center>"
   ]
  },
  {
   "cell_type": "markdown",
   "metadata": {
    "slideshow": {
     "slide_type": "slide"
    }
   },
   "source": [
    "Further Study - Other Types of machine learning\n",
    "------\n",
    "\n",
    "- Semi-supervised Learning\n",
    "- Self-supervised Learning\n",
    "- Reinforcement Learning"
   ]
  },
  {
   "cell_type": "markdown",
   "metadata": {
    "slideshow": {
     "slide_type": "slide"
    }
   },
   "source": [
    "<center><h2>What is the half-life of a model?</h2></center>\n",
    "\n",
    "What causes a model to go stale?"
   ]
  },
  {
   "cell_type": "markdown",
   "metadata": {
    "slideshow": {
     "slide_type": "fragment"
    }
   },
   "source": [
    "- Domain changes (e.g., seasonal effects)\n",
    "- Data changes (e.g., features get added/dropped)\n",
    "- Adversaries (e.g., fraud)"
   ]
  },
  {
   "cell_type": "markdown",
   "metadata": {
    "slideshow": {
     "slide_type": "slide"
    }
   },
   "source": [
    " "
   ]
  }
 ],
 "metadata": {
  "celltoolbar": "Raw Cell Format",
  "kernelspec": {
   "display_name": "Python 3",
   "language": "python",
   "name": "python3"
  },
  "language_info": {
   "codemirror_mode": {
    "name": "ipython",
    "version": 3
   },
   "file_extension": ".py",
   "mimetype": "text/x-python",
   "name": "python",
   "nbconvert_exporter": "python",
   "pygments_lexer": "ipython3",
   "version": "3.8.5"
  },
  "toc": {
   "base_numbering": 1,
   "nav_menu": {},
   "number_sections": false,
   "sideBar": false,
   "skip_h1_title": false,
   "title_cell": "Table of Contents",
   "title_sidebar": "Contents",
   "toc_cell": true,
   "toc_position": {},
   "toc_section_display": true,
   "toc_window_display": false
  }
 },
 "nbformat": 4,
 "nbformat_minor": 2
}
