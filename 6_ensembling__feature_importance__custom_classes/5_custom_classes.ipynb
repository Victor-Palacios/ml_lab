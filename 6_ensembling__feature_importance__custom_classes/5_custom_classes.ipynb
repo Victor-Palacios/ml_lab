{
 "cells": [
  {
   "cell_type": "markdown",
   "id": "sonic-candidate",
   "metadata": {
    "toc": true
   },
   "source": [
    "<h1>Table of Contents<span class=\"tocSkip\"></span></h1>\n",
    "<div class=\"toc\"><ul class=\"toc-item\"><li><span><a href=\"#Custom-classes-in-scikit-learn\" data-toc-modified-id=\"Custom-classes-in-scikit-learn-1\">Custom classes in scikit-learn</a></span></li><li><span><a href=\"#What-is-the-best-part-of-ice-cream?\" data-toc-modified-id=\"What-is-the-best-part-of-ice-cream?-2\">What is the best part of ice cream?</a></span></li><li><span><a href=\"#Learning-Outcomes\" data-toc-modified-id=\"Learning-Outcomes-3\">Learning Outcomes</a></span></li><li><span><a href=\"#Object-oriented-programming-(OOP)-Review\" data-toc-modified-id=\"Object-oriented-programming-(OOP)-Review-4\">Object-oriented programming (OOP) Review</a></span></li><li><span><a href=\"#Custom-Column-Selector\" data-toc-modified-id=\"Custom-Column-Selector-5\">Custom Column Selector</a></span></li><li><span><a href=\"#Debugging-Pipelines-with-Mixins\" data-toc-modified-id=\"Debugging-Pipelines-with-Mixins-6\">Debugging Pipelines with Mixins</a></span></li><li><span><a href=\"#Takeaways\" data-toc-modified-id=\"Takeaways-7\">Takeaways</a></span></li><li><span><a href=\"#Sources-of-Inspiration\" data-toc-modified-id=\"Sources-of-Inspiration-8\">Sources of Inspiration</a></span></li></ul></div>"
   ]
  },
  {
   "cell_type": "markdown",
   "id": "promotional-vulnerability",
   "metadata": {},
   "source": [
    "<center><h2>Custom classes in scikit-learn</h2></center>"
   ]
  },
  {
   "cell_type": "markdown",
   "id": "vanilla-storage",
   "metadata": {},
   "source": [
    "<center><h2>What is the best part of ice cream?</h2></center>\n",
    "\n",
    "<center><img src=\"../images/cold_stone_mixin.jpg\" width=\"75%\"/></center>\n",
    "\n",
    "The mixins!\n",
    "\n",
    "The regular flavors are great. But being able to extend them with other options is specials.\n",
    "\n",
    "Classes in scikit-learn are just like ice cream. scikit-learn has the regular classes. Those can be extended with mixins."
   ]
  },
  {
   "cell_type": "markdown",
   "id": "absent-combat",
   "metadata": {},
   "source": [
    "<center><h2>Learning Outcomes</h2></center>\n",
    "\n",
    "__By the end of this session, you should be able to__:\n",
    "\n",
    "- Explain inheritance in your own words.\n",
    "- Write new classes that extend the functionality of scikit-learn"
   ]
  },
  {
   "cell_type": "markdown",
   "id": "appropriate-canvas",
   "metadata": {},
   "source": [
    "<center><h2>Object-oriented programming (OOP) Review</h2></center>\n",
    "\n",
    "- Classes are way to mix nouns (attributes) and verbs (methods).\n",
    "- Classes create specific examples (instances) from a template (class).\n",
    "- The specific examples has state that can be updated."
   ]
  },
  {
   "cell_type": "code",
   "execution_count": 99,
   "id": "seasonal-healing",
   "metadata": {},
   "outputs": [],
   "source": [
    "reset -fs"
   ]
  },
  {
   "cell_type": "code",
   "execution_count": 100,
   "id": "front-remove",
   "metadata": {},
   "outputs": [],
   "source": [
    "from warnings import filterwarnings\n",
    "filterwarnings('ignore')\n",
    "\n",
    "palette = \"Dark2\"\n",
    "%matplotlib inline"
   ]
  },
  {
   "cell_type": "code",
   "execution_count": 101,
   "id": "german-passion",
   "metadata": {},
   "outputs": [],
   "source": [
    "# Example dict\n",
    "\n",
    "d = dict(brian='blue', lambda_dog='brown')\n",
    "# d.<tab>\n",
    "d['alex'] = 'red'"
   ]
  },
  {
   "cell_type": "markdown",
   "id": "individual-andorra",
   "metadata": {},
   "source": [
    "One advantage of classes is that they allow hierarchy relationships to be defined. \n",
    "\n",
    "<center><img src=\"../images/class_inheritance.png\" width=\"75%\"/></center>"
   ]
  },
  {
   "cell_type": "code",
   "execution_count": 102,
   "id": "widespread-lending",
   "metadata": {},
   "outputs": [
    {
     "data": {
      "text/plain": [
       "True"
      ]
     },
     "execution_count": 102,
     "metadata": {},
     "output_type": "execute_result"
    }
   ],
   "source": [
    "# Example of class inheritance \n",
    "from collections import Counter\n",
    "\n",
    "issubclass(Counter, dict)\n",
    "\n",
    "# A Counter is special type of dictionary. It does all the things a dictionary does and more."
   ]
  },
  {
   "cell_type": "markdown",
   "id": "retired-livestock",
   "metadata": {},
   "source": [
    "<center><h2>Custom Column Selector</h2></center>"
   ]
  },
  {
   "cell_type": "code",
   "execution_count": 113,
   "id": "loved-bailey",
   "metadata": {},
   "outputs": [],
   "source": [
    "from sklearn.base import BaseEstimator\n",
    "\n",
    "# help(BaseEstimator)"
   ]
  },
  {
   "cell_type": "code",
   "execution_count": 114,
   "id": "experienced-watch",
   "metadata": {
    "code_folding": [
     0
    ]
   },
   "outputs": [],
   "source": [
    "from sklearn.base import TransformerMixin\n",
    "\n",
    "# help(TransformerMixin)"
   ]
  },
  {
   "cell_type": "code",
   "execution_count": 105,
   "id": "magnetic-lambda",
   "metadata": {},
   "outputs": [],
   "source": [
    "class ColumnSelector(BaseEstimator, TransformerMixin):\n",
    "    \"\"\"Selects columns in the pipeline based on column names.\n",
    "       This saves space by only referencing a pointer to the column.\"\"\"\n",
    "\n",
    "    def __init__(self, cols):\n",
    "        self._cols = cols\n",
    "\n",
    "    def fit(self, X, y=None):\n",
    "        return self\n",
    "\n",
    "    def transform(self, X, y=None):\n",
    "        return X[self._cols]"
   ]
  },
  {
   "cell_type": "code",
   "execution_count": 106,
   "id": "recovered-apache",
   "metadata": {},
   "outputs": [],
   "source": [
    "# Toy data example\n",
    "import pandas as pd\n",
    "\n",
    "df = pd.DataFrame({'a': [1, 2, 3], \n",
    "                   'b': [True, True, False], \n",
    "                   'c': [7, 8, 9]})\n",
    "\n",
    "# Find the boolean column, Simple example of selection columns\n",
    "# You can imagine more complex function to find specific column names.\n",
    "# Other examples: All uniform distributed columns\n",
    "boolean_col_name = df.select_dtypes(include='bool').columns.values[0]"
   ]
  },
  {
   "cell_type": "code",
   "execution_count": 108,
   "id": "automated-rouge",
   "metadata": {},
   "outputs": [],
   "source": [
    "from sklearn.pipeline      import Pipeline\n",
    "\n",
    "pipe = Pipeline([('select_boolean', ColumnSelector(cols=boolean_col_name))])"
   ]
  },
  {
   "cell_type": "markdown",
   "id": "according-bridge",
   "metadata": {},
   "source": [
    "<center><h2>Debugging Pipelines with Mixins</h2></center>\n",
    "\n",
    "\n",
    "Every abstraction has trade-offs. Each one takes a while to learn. When it works, it is awesome. When it breaks, it is even more work than not using the abstraction.\n",
    "\n",
    "Pipelines are awesome but can be opaque to understand debug.\n",
    "\n",
    "Below is a helper class"
   ]
  },
  {
   "cell_type": "code",
   "execution_count": 109,
   "id": "opposed-jewel",
   "metadata": {},
   "outputs": [],
   "source": [
    "class Debug(BaseEstimator, TransformerMixin): # Note this class inherits from two different ancestors\n",
    "    \"Allow introspection of transformation in middle of a pipeline\"\n",
    "\n",
    "    def fit(self, X, y=None, **fit_params):\n",
    "        return self\n",
    "    \n",
    "    def transform(self, X):\n",
    "#         self.shape = X.shape # Change this to the attribute you care about to return its state\n",
    "        print(X) # Display to scree\n",
    "        return X\n",
    "\n",
    "    "
   ]
  },
  {
   "cell_type": "code",
   "execution_count": 110,
   "id": "dried-karaoke",
   "metadata": {},
   "outputs": [],
   "source": [
    "import numpy as np\n",
    "\n",
    "# Make toy data \n",
    "X = np.array([[0, 0], \n",
    "              [1, 1]])\n",
    "y = np.array([[0], \n",
    "              [1]])"
   ]
  },
  {
   "cell_type": "code",
   "execution_count": 111,
   "id": "surprising-smith",
   "metadata": {},
   "outputs": [],
   "source": [
    "# Define function to change data \n",
    "def add_10(X):\n",
    "    X += 10\n",
    "    return X\n",
    "\n",
    "# Convert to transformer so it can be used in a pipeline\n",
    "from sklearn.preprocessing import FunctionTransformer\n",
    "\n",
    "add_10_transformer = FunctionTransformer(add_10)"
   ]
  },
  {
   "cell_type": "code",
   "execution_count": 112,
   "id": "plastic-november",
   "metadata": {},
   "outputs": [
    {
     "name": "stdout",
     "output_type": "stream",
     "text": [
      "[[10 10]\n",
      " [11 11]]\n"
     ]
    },
    {
     "data": {
      "text/plain": [
       "Pipeline(steps=[('col_trans',\n",
       "                 FunctionTransformer(func=<function add_10 at 0x7ff1bb8fbca0>)),\n",
       "                ('debug', Debug()), ('clf', DecisionTreeClassifier())])"
      ]
     },
     "execution_count": 112,
     "metadata": {},
     "output_type": "execute_result"
    }
   ],
   "source": [
    "from sklearn.pipeline      import Pipeline\n",
    "from sklearn.tree          import DecisionTreeClassifier\n",
    "\n",
    "pipe = Pipeline([('col_trans',  add_10_transformer),\n",
    "                 ('debug',      Debug()), # Put debugger into pipeline\n",
    "                 ('clf',        DecisionTreeClassifier()),])\n",
    "pipe.fit(X, y)"
   ]
  },
  {
   "cell_type": "markdown",
   "id": "wrapped-cholesterol",
   "metadata": {},
   "source": [
    "<center><h2>Takeaways</h2></center>\n",
    "\n",
    "\n",
    "- Python and scikit-learn both support object-oriented programming (OOP).\n",
    "- You can use extend existing class by using inheritance.\n",
    "- Inheritance allows customization and creativity in modeling while not minimizing simple errors."
   ]
  },
  {
   "cell_type": "markdown",
   "id": "mathematical-exception",
   "metadata": {},
   "source": [
    "<center><h2>Sources of Inspiration</h2></center>\n",
    "\n",
    "- https://realpython.com/inheritance-composition-python/"
   ]
  },
  {
   "cell_type": "markdown",
   "id": "powerful-prague",
   "metadata": {},
   "source": [
    "<br>\n",
    "<br> \n",
    "<br>\n",
    "\n",
    "----"
   ]
  }
 ],
 "metadata": {
  "kernelspec": {
   "display_name": "Python 3",
   "language": "python",
   "name": "python3"
  },
  "language_info": {
   "codemirror_mode": {
    "name": "ipython",
    "version": 3
   },
   "file_extension": ".py",
   "mimetype": "text/x-python",
   "name": "python",
   "nbconvert_exporter": "python",
   "pygments_lexer": "ipython3",
   "version": "3.8.5"
  },
  "toc": {
   "base_numbering": 1,
   "nav_menu": {},
   "number_sections": false,
   "sideBar": false,
   "skip_h1_title": false,
   "title_cell": "Table of Contents",
   "title_sidebar": "Contents",
   "toc_cell": true,
   "toc_position": {},
   "toc_section_display": true,
   "toc_window_display": false
  }
 },
 "nbformat": 4,
 "nbformat_minor": 5
}
