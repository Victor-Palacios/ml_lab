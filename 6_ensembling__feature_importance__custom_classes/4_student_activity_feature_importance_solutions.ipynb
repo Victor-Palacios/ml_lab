{
 "cells": [
  {
   "cell_type": "markdown",
   "metadata": {
    "toc": true
   },
   "source": [
    "<h1>Table of Contents<span class=\"tocSkip\"></span></h1>\n",
    "<div class=\"toc\"><ul class=\"toc-item\"><li><span><a href=\"#Permutation-feature-importance\" data-toc-modified-id=\"Permutation-feature-importance-1\">Permutation feature importance</a></span></li><li><span><a href=\"#Train-a-linear-model-on-the-diabetes-dataset\" data-toc-modified-id=\"Train-a-linear-model-on-the-diabetes-dataset-2\">Train a linear model on the diabetes dataset</a></span></li><li><span><a href=\"#Permutation-importance-is-model-specific\" data-toc-modified-id=\"Permutation-importance-is-model-specific-3\">Permutation importance is model specific</a></span></li></ul></div>"
   ]
  },
  {
   "cell_type": "markdown",
   "metadata": {},
   "source": [
    "<center><h2>Permutation feature importance</h2></center>"
   ]
  },
  {
   "cell_type": "code",
   "execution_count": 1,
   "metadata": {},
   "outputs": [],
   "source": [
    "reset -fs"
   ]
  },
  {
   "cell_type": "markdown",
   "metadata": {},
   "source": [
    "<center><h2>Train a linear model on the diabetes dataset</h2></center>"
   ]
  },
  {
   "cell_type": "code",
   "execution_count": 2,
   "metadata": {},
   "outputs": [],
   "source": [
    "from sklearn.datasets        import load_diabetes\n",
    "from sklearn.model_selection import train_test_split\n",
    "\n",
    "diabetes = load_diabetes()\n",
    "X_train, X_val, y_train, y_val = train_test_split(diabetes.data, diabetes.target, random_state=42)"
   ]
  },
  {
   "cell_type": "code",
   "execution_count": 3,
   "metadata": {},
   "outputs": [
    {
     "name": "stdout",
     "output_type": "stream",
     "text": [
      ".. _diabetes_dataset:\n",
      "\n",
      "Diabetes dataset\n",
      "----------------\n",
      "\n",
      "Ten baseline variables, age, sex, body mass index, average blood\n",
      "pressure, and six blood serum measurements were obtained for each of n =\n",
      "442 diabetes patients, as well as the response of interest, a\n",
      "quantitative measure of disease progression one year after baseline.\n",
      "\n",
      "**Data Set Characteristics:**\n",
      "\n",
      "  :Number of Instances: 442\n",
      "\n",
      "  :Number of Attributes: First 10 columns are numeric predictive values\n",
      "\n",
      "  :Target: Column 11 is a quantitative measure of disease progression one year after baseline\n",
      "\n",
      "  :Attribute Information:\n",
      "      - age     age in years\n",
      "      - sex\n",
      "      - bmi     body mass index\n",
      "      - bp      average blood pressure\n",
      "      - s1      tc, T-Cells (a type of white blood cells)\n",
      "      - s2      ldl, low-density lipoproteins\n",
      "      - s3      hdl, high-density lipoproteins\n",
      "      - s4      tch, thyroid stimulating hormone\n",
      "      - s5      ltg, lamotrigine\n",
      "      - s6      glu, blood sugar level\n",
      "\n",
      "Note: Each of these 10 feature variables have been mean centered and scaled by the standard deviation times `n_samples` (i.e. the sum of squares of each column totals 1).\n",
      "\n",
      "Source URL:\n",
      "https://www4.stat.ncsu.edu/~boos/var.select/diabetes.html\n",
      "\n",
      "For more information see:\n",
      "Bradley Efron, Trevor Hastie, Iain Johnstone and Robert Tibshirani (2004) \"Least Angle Regression,\" Annals of Statistics (with discussion), 407-499.\n",
      "(https://web.stanford.edu/~hastie/Papers/LARS/LeastAngle_2002.pdf)\n"
     ]
    }
   ],
   "source": [
    "# Refresh your memory about the dataset\n",
    "print(diabetes.DESCR) "
   ]
  },
  {
   "cell_type": "code",
   "execution_count": 4,
   "metadata": {},
   "outputs": [
    {
     "name": "stdout",
     "output_type": "stream",
     "text": [
      "Mean squared error: 2,836.40\n"
     ]
    }
   ],
   "source": [
    "from sklearn.linear_model    import Ridge\n",
    "from sklearn.metrics         import mean_squared_error\n",
    "\n",
    "model = Ridge(alpha=1e-2).fit(X_train, y_train)\n",
    "mse = mean_squared_error(y_val, model.predict(X_val))\n",
    "print(f\"Mean squared error: {mse:,.2f}\") \n",
    "\n",
    "# Note: We know from domain knowledge that this model has useful predictive power.\n",
    "# Only do permutation feature importance on useful models.\n",
    "# GIGO - Garbage In, Garbage Out!"
   ]
  },
  {
   "cell_type": "code",
   "execution_count": 5,
   "metadata": {},
   "outputs": [],
   "source": [
    "from sklearn.inspection import permutation_importance\n",
    "\n",
    "r = permutation_importance(model, \n",
    "                           X_val, y_val, # Using a held-out set makes it possible to highlight which features contribute the most to the generalization power of the inspected model. \n",
    "                           n_repeats=30,\n",
    "                           random_state=42)\n",
    "\n",
    "# Note: Features that are important on the training set but not on the held-out set might cause the model to overfit."
   ]
  },
  {
   "cell_type": "code",
   "execution_count": 6,
   "metadata": {},
   "outputs": [],
   "source": [
    "# TODO: Find the most important feature according to permutation_importance\n",
    "# 1. Sort features by mean value\n",
    "# 2. Print feature names, mean value, and std value \n",
    "\n",
    "\n",
    "\n"
   ]
  },
  {
   "cell_type": "code",
   "execution_count": 7,
   "metadata": {},
   "outputs": [
    {
     "name": "stdout",
     "output_type": "stream",
     "text": [
      "s5      0.276 ± 0.051\n",
      "bmi     0.227 ± 0.052\n",
      "bp      0.070 ± 0.026\n",
      "s1      0.067 ± 0.046\n",
      "sex     0.066 ± 0.023\n",
      "s4      0.024 ± 0.017\n",
      "s2      0.023 ± 0.012\n",
      "s6      0.004 ± 0.002\n",
      "age     -0.004 ± 0.005\n",
      "s3      -0.005 ± 0.010\n"
     ]
    }
   ],
   "source": [
    "# Solutions\n",
    "\n",
    "for i in r.importances_mean.argsort()[::-1]:\n",
    "    print(f\"{diabetes.feature_names[i]:<8}\"\n",
    "          f\"{r.importances_mean[i]:.3f}\"\n",
    "          f\" ± {r.importances_std[i]:.3f}\")"
   ]
  },
  {
   "cell_type": "markdown",
   "metadata": {},
   "source": [
    "The `n_repeats` parameter sets the number of times a feature is randomly shuffled and returns a sample of feature importances."
   ]
  },
  {
   "cell_type": "code",
   "execution_count": 8,
   "metadata": {},
   "outputs": [],
   "source": [
    "# TODO: Increase n_repeats=100 and repeat analysis\n",
    "# What stays the same?\n",
    "# What changes?"
   ]
  },
  {
   "cell_type": "code",
   "execution_count": 9,
   "metadata": {},
   "outputs": [
    {
     "name": "stdout",
     "output_type": "stream",
     "text": [
      "s5      0.266 ± 0.052\n",
      "bmi     0.225 ± 0.053\n",
      "bp      0.069 ± 0.032\n",
      "sex     0.066 ± 0.020\n",
      "s1      0.061 ± 0.041\n",
      "s4      0.025 ± 0.016\n",
      "s2      0.024 ± 0.011\n",
      "s6      0.004 ± 0.003\n",
      "age     -0.005 ± 0.005\n",
      "s3      -0.006 ± 0.010\n"
     ]
    }
   ],
   "source": [
    "# Solutions\n",
    "r = permutation_importance(model, \n",
    "                           X_val, y_val, \n",
    "                           n_repeats=100,\n",
    "                           random_state=42)\n",
    "for i in r.importances_mean.argsort()[::-1]:\n",
    "    print(f\"{diabetes.feature_names[i]:<8}\"\n",
    "          f\"{r.importances_mean[i]:.3f}\"\n",
    "          f\" ± {r.importances_std[i]:.3f}\")"
   ]
  },
  {
   "cell_type": "markdown",
   "metadata": {},
   "source": [
    "<center><h2>Permutation importance is model specific</h2></center>\n",
    "\n",
    "Permutation importance does not reflect to the intrinsic predictive value of a feature by itself but how important this feature is for a particular model."
   ]
  },
  {
   "cell_type": "code",
   "execution_count": 10,
   "metadata": {},
   "outputs": [],
   "source": [
    "# TODO: Repeat the analysis with k-nearest neighbors (k-NN) Regressor\n",
    "# Which features have similar importance?\n",
    "# Which features have dissimilar importance?\n",
    "# For each model, which features would you report as signficant? (Report by full name)\n",
    "\n",
    "\n",
    "\n"
   ]
  },
  {
   "cell_type": "code",
   "execution_count": 11,
   "metadata": {},
   "outputs": [
    {
     "name": "stdout",
     "output_type": "stream",
     "text": [
      "Mean squared error: 3,060.17\n",
      "s5      0.217 ± 0.051\n",
      "bmi     0.184 ± 0.055\n",
      "bp      0.100 ± 0.041\n",
      "s3      0.060 ± 0.043\n",
      "age     0.051 ± 0.034\n",
      "sex     0.046 ± 0.038\n",
      "s6      0.027 ± 0.040\n",
      "s4      0.025 ± 0.040\n",
      "s2      -0.001 ± 0.029\n",
      "s1      -0.007 ± 0.028\n"
     ]
    }
   ],
   "source": [
    "# Solutions\n",
    "\n",
    "from sklearn.neighbors import KNeighborsRegressor\n",
    "\n",
    "model = KNeighborsRegressor().fit(X_train, y_train)\n",
    "mse = mean_squared_error(y_val, model.predict(X_val))\n",
    "print(f\"Mean squared error: {mse:,.2f}\") \n",
    "\n",
    "r = permutation_importance(model, \n",
    "                           X_val, y_val, # Using a held-out set makes it possible to highlight which features contribute the most to the generalization power of the inspected model. \n",
    "                           n_repeats=30,\n",
    "                           random_state=42)\n",
    "\n",
    "for i in r.importances_mean.argsort()[::-1]:\n",
    "    print(f\"{diabetes.feature_names[i]:<8}\"\n",
    "          f\"{r.importances_mean[i]:.3f}\"\n",
    "          f\" ± {r.importances_std[i]:.3f}\")\n",
    "    \n",
    "    \n",
    "# There is evidence that thyroid stimulating hormone (s5), body mass index (bmi), and average blood pressure (bp) are signficant."
   ]
  },
  {
   "cell_type": "markdown",
   "metadata": {},
   "source": [
    " "
   ]
  },
  {
   "cell_type": "markdown",
   "metadata": {},
   "source": [
    " "
   ]
  }
 ],
 "metadata": {
  "kernelspec": {
   "display_name": "Python 3",
   "language": "python",
   "name": "python3"
  },
  "language_info": {
   "codemirror_mode": {
    "name": "ipython",
    "version": 3
   },
   "file_extension": ".py",
   "mimetype": "text/x-python",
   "name": "python",
   "nbconvert_exporter": "python",
   "pygments_lexer": "ipython3",
   "version": "3.8.5"
  },
  "toc": {
   "base_numbering": 1,
   "nav_menu": {},
   "number_sections": false,
   "sideBar": false,
   "skip_h1_title": false,
   "title_cell": "Table of Contents",
   "title_sidebar": "Contents",
   "toc_cell": true,
   "toc_position": {},
   "toc_section_display": true,
   "toc_window_display": false
  }
 },
 "nbformat": 4,
 "nbformat_minor": 2
}
