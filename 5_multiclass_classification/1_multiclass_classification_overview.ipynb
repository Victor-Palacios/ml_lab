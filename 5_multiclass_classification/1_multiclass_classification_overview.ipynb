{
 "cells": [
  {
   "cell_type": "markdown",
   "metadata": {
    "slideshow": {
     "slide_type": "skip"
    },
    "toc": true
   },
   "source": [
    "<h1>Table of Contents<span class=\"tocSkip\"></span></h1>\n",
    "<div class=\"toc\"><ul class=\"toc-item\"><li><span><a href=\"#Multiclass-Classification\" data-toc-modified-id=\"Multiclass-Classification-1\">Multiclass Classification</a></span></li><li><span><a href=\"#Learning-Outcomes\" data-toc-modified-id=\"Learning-Outcomes-2\">Learning Outcomes</a></span></li><li><span><a href=\"#What-is-Multiclass-Classification?\" data-toc-modified-id=\"What-is-Multiclass-Classification?-3\">What is Multiclass Classification?</a></span></li><li><span><a href=\"#The-world-is-often-not-binary\" data-toc-modified-id=\"The-world-is-often-not-binary-4\">The world is often not binary</a></span></li><li><span><a href=\"#Multi-class-Classification-Example\" data-toc-modified-id=\"Multi-class-Classification-Example-5\">Multi-class Classification Example</a></span></li><li><span><a href=\"#Which-digit-is-this?\" data-toc-modified-id=\"Which-digit-is-this?-6\">Which digit is this?</a></span></li><li><span><a href=\"#Multiclass-vs-Multilabel-Classification\" data-toc-modified-id=\"Multiclass-vs-Multilabel-Classification-7\">Multiclass vs Multilabel Classification</a></span></li><li><span><a href=\"#Multiclass-Classification:--What-is-this-a-picture-of?\" data-toc-modified-id=\"Multiclass-Classification:--What-is-this-a-picture-of?-8\">Multiclass Classification: <br> What is this a picture of?</a></span></li><li><span><a href=\"#Multilabel-Classification:--What-is-in-this-picture?\" data-toc-modified-id=\"Multilabel-Classification:--What-is-in-this-picture?-9\">Multilabel Classification: <br> What is in this picture?</a></span></li><li><span><a href=\"#Multiclass-Classification-Strategies\" data-toc-modified-id=\"Multiclass-Classification-Strategies-10\">Multiclass Classification Strategies</a></span></li><li><span><a href=\"#One-vs-the-rest-(OvR)\" data-toc-modified-id=\"One-vs-the-rest-(OvR)-11\">One-vs-the-rest (OvR)</a></span></li><li><span><a href=\"#One-vs-the-rest-(OvR)\" data-toc-modified-id=\"One-vs-the-rest-(OvR)-12\">One-vs-the-rest (OvR)</a></span></li><li><span><a href=\"#One-vs-the-rest-(OvR)-Advantages\" data-toc-modified-id=\"One-vs-the-rest-(OvR)-Advantages-13\">One-vs-the-rest (OvR) Advantages</a></span></li><li><span><a href=\"#&quot;True&quot;-Multiclass-Classification-Algorithms\" data-toc-modified-id=\"&quot;True&quot;-Multiclass-Classification-Algorithms-14\">\"True\" Multiclass Classification Algorithms</a></span></li><li><span><a href=\"#Multinominal-Logistic-Regression\" data-toc-modified-id=\"Multinominal-Logistic-Regression-15\">Multinominal Logistic Regression</a></span></li><li><span><a href=\"#Student-Activity:-Review-Logistic-Regression\" data-toc-modified-id=\"Student-Activity:-Review-Logistic-Regression-16\">Student Activity: Review Logistic Regression</a></span></li><li><span><a href=\"#Sigmoid-Function\" data-toc-modified-id=\"Sigmoid-Function-17\">Sigmoid Function</a></span></li><li><span><a href=\"#Logistic-Regression\" data-toc-modified-id=\"Logistic-Regression-18\">Logistic Regression</a></span></li><li><span><a href=\"#Softmax-Formula:-Multiclass-Logistic-Function\" data-toc-modified-id=\"Softmax-Formula:-Multiclass-Logistic-Function-19\">Softmax Formula: Multiclass Logistic Function</a></span></li><li><span><a href=\"#Softmax-Formula:-Multiclass-Logistic-Function\" data-toc-modified-id=\"Softmax-Formula:-Multiclass-Logistic-Function-20\">Softmax Formula: Multiclass Logistic Function</a></span></li><li><span><a href=\"#`predict_proba`-method\" data-toc-modified-id=\"`predict_proba`-method-21\">`predict_proba` method</a></span></li><li><span><a href=\"#Takeaways\" data-toc-modified-id=\"Takeaways-22\">Takeaways</a></span></li><li><span><a href=\"#Bonus-Material\" data-toc-modified-id=\"Bonus-Material-23\">Bonus Material</a></span></li><li><span><a href=\"#Multiclass-Naive-Bayes\" data-toc-modified-id=\"Multiclass-Naive-Bayes-24\">Multiclass Naive Bayes</a></span></li><li><span><a href=\"#one-vs.-one-(OvO)-Training-Scheme\" data-toc-modified-id=\"one-vs.-one-(OvO)-Training-Scheme-25\">one-vs.-one (OvO) Training Scheme</a></span></li></ul></div>"
   ]
  },
  {
   "cell_type": "markdown",
   "metadata": {
    "slideshow": {
     "slide_type": "slide"
    }
   },
   "source": [
    "<center><h2>Multiclass Classification</h2></center>\n",
    "\n",
    "<center><img src=\"../images/dogs.png\" width=\"45%\"/></center>"
   ]
  },
  {
   "cell_type": "markdown",
   "metadata": {
    "slideshow": {
     "slide_type": "slide"
    }
   },
   "source": [
    "<center><h2>Learning Outcomes</h2></center>\n",
    "\n",
    "__By the end of this session, you should be able to__:\n",
    "\n",
    "- Define the difference between multiclass and multilabel classification.\n",
    "- Explain on binary classification can be extend to multiclass classification.\n",
    "- Interpret multiclass classification evaluation metrics."
   ]
  },
  {
   "cell_type": "markdown",
   "metadata": {
    "slideshow": {
     "slide_type": "slide"
    }
   },
   "source": [
    "<center><h2>What is Multiclass Classification?</h2></center>\n",
    "\n",
    "- Binary classification is classifying instances into a __single__ class out of a total of two classes.\n",
    "- Multiclass classification is classifying instances into a __single__ class out of more than two classes.\n"
   ]
  },
  {
   "cell_type": "markdown",
   "metadata": {
    "slideshow": {
     "slide_type": "fragment"
    }
   },
   "source": [
    "<center><h2>The world is often not binary</h2></center>\n",
    "\n",
    "- Most algorithms designed to be binary classification. It is easier to create an algorithm that decides between two outcomes.\n",
    "- However, most real world applications are multi-class classification.\n",
    "- Even simple example of \"Yes / No\" or \"Positive / Negative\" should also in the options of \"Other\" or \"Unknown\".\n",
    "- Binary classification also frames the problem in a way that often excludes estimating uncertainity . It would be more useful to frame machine learning problems where the model predicts \"I don't know\". \n",
    "- One step in that direction is the binary \"Yes / Not Yes\" or \"Positive / Not Positive\". However, a reframe as multiclass is even more useful."
   ]
  },
  {
   "cell_type": "markdown",
   "metadata": {
    "slideshow": {
     "slide_type": "slide"
    }
   },
   "source": [
    "<center><h2>Multi-class Classification Example</h2></center>\n",
    "\n",
    "<center><img src=\"../images/digits.png\" width=\"60%\"/></center>\n",
    "\n"
   ]
  },
  {
   "cell_type": "markdown",
   "metadata": {
    "slideshow": {
     "slide_type": "slide"
    }
   },
   "source": [
    "<center><h2>Which digit is this?</h2></center>\n",
    "\n",
    "<center><img src=\"../images/digit.png\" width=\"45%\"/></center>\n",
    "<br>\n",
    "<center>{0, 1, 2, 3, 4, 5, 6, 7, 8, 9}</center>"
   ]
  },
  {
   "cell_type": "markdown",
   "metadata": {
    "slideshow": {
     "slide_type": "fragment"
    }
   },
   "source": [
    "<center>It is a 3</center>"
   ]
  },
  {
   "cell_type": "markdown",
   "metadata": {
    "slideshow": {
     "slide_type": "slide"
    }
   },
   "source": [
    "<center><h2>Multiclass vs Multilabel Classification</h2></center>\n",
    "<br>\n",
    "<br>\n",
    "Multiclass Classification - A single category for a data instance.\n",
    "\n",
    "Multilabel Classification - One or more tags for a data instance."
   ]
  },
  {
   "cell_type": "markdown",
   "metadata": {
    "slideshow": {
     "slide_type": "slide"
    }
   },
   "source": [
    "<center><h2>Multiclass Classification: <br> What is this a picture of?</h2></center>\n",
    "<br>\n",
    "<center><img src=\"../images/dog.png\" width=\"35%\"/></center>"
   ]
  },
  {
   "cell_type": "markdown",
   "metadata": {
    "slideshow": {
     "slide_type": "slide"
    }
   },
   "source": [
    "<center><h2>Multilabel Classification: <br> What is in this picture?</h2></center>\n",
    "<br>\n",
    "<center><img src=\"../images/cat_bird.png\" width=\"45%\"/></center>\n",
    "\n"
   ]
  },
  {
   "cell_type": "markdown",
   "metadata": {},
   "source": [
    "Let's read the documentation\n",
    "\n",
    "[Multiclass and multioutput algorithms](https://scikit-learn.org/stable/modules/multiclass.html)"
   ]
  },
  {
   "cell_type": "code",
   "execution_count": 13,
   "metadata": {},
   "outputs": [],
   "source": [
    "# Define targets\n",
    "import numpy as np\n",
    "\n",
    "y = np.asarray(['Java', 'C++', 'Other language', 'Python', 'C++', 'Python'], dtype=object)"
   ]
  },
  {
   "cell_type": "code",
   "execution_count": 14,
   "metadata": {},
   "outputs": [
    {
     "name": "stdout",
     "output_type": "stream",
     "text": [
      "[1 0 2 3 0 3]\n"
     ]
    }
   ],
   "source": [
    "# Encode as multiclass classification \n",
    "from sklearn.preprocessing import LabelEncoder\n",
    "\n",
    "le = LabelEncoder()\n",
    "y_numeric = le.fit_transform(y)\n",
    "print(y_numeric)"
   ]
  },
  {
   "cell_type": "code",
   "execution_count": 15,
   "metadata": {},
   "outputs": [
    {
     "name": "stdout",
     "output_type": "stream",
     "text": [
      "[[0 1 0 0]\n",
      " [1 0 0 0]\n",
      " [0 0 1 0]\n",
      " [0 0 0 1]\n",
      " [1 0 0 0]\n",
      " [0 0 0 1]]\n"
     ]
    }
   ],
   "source": [
    "# Encode as multilabel classification \n",
    "from sklearn.preprocessing import MultiLabelBinarizer\n",
    "\n",
    "mlb = MultiLabelBinarizer()\n",
    "y_indicator = mlb.fit_transform(y[:, None])\n",
    "print(y_indicator)"
   ]
  },
  {
   "cell_type": "code",
   "execution_count": 10,
   "metadata": {},
   "outputs": [
    {
     "name": "stdout",
     "output_type": "stream",
     "text": [
      "[[0 1 0 1]\n",
      " [1 0 0 1]\n",
      " [0 0 1 0]\n",
      " [0 0 0 1]]\n"
     ]
    }
   ],
   "source": [
    "# Example of True multilabel classification \n",
    "y = np.asarray([['Java', 'Python'], \n",
    "                ['Python','C++'], \n",
    "                ['Other language'], \n",
    "                ['Python']\n",
    "               ], dtype=object)\n",
    "mlb = MultiLabelBinarizer()\n",
    "y_indicator = mlb.fit_transform(y)\n",
    "print(y_indicator)"
   ]
  },
  {
   "cell_type": "markdown",
   "metadata": {},
   "source": [
    "Source - https://stackoverflow.com/questions/42819460/what-is-the-difference-between-onevsrestclassifier-and-multioutputclassifier-in"
   ]
  },
  {
   "cell_type": "markdown",
   "metadata": {
    "slideshow": {
     "slide_type": "slide"
    }
   },
   "source": [
    "<center><h2>Multiclass Classification Strategies</h2></center>\n",
    "<br>\n",
    "<br>\n",
    "\n",
    "- One-vs-the-rest (OvR)\n",
    "- \"True\" Mulitclass"
   ]
  },
  {
   "cell_type": "markdown",
   "metadata": {
    "slideshow": {
     "slide_type": "slide"
    }
   },
   "source": [
    "<center><h2>One-vs-the-rest (OvR)</h2></center>\n",
    "\n",
    "<center><img src=\"../images/one vs rest.jpeg\" width=\"55%\"/></center>\n",
    "\n",
    "__Training__: Fitting one classifier per class (aka, train $k$ binary classifiers).\n",
    "\n",
    "For each classifier, the class is fitted against all the other classes. \n",
    "\n",
    "Also called one-vs-all."
   ]
  },
  {
   "cell_type": "markdown",
   "metadata": {
    "slideshow": {
     "slide_type": "skip"
    }
   },
   "source": [
    " Then combine each of the classifiers’ binary outputs to generate multi-class outputs."
   ]
  },
  {
   "cell_type": "markdown",
   "metadata": {
    "slideshow": {
     "slide_type": "slide"
    }
   },
   "source": [
    "<center><h2>One-vs-the-rest (OvR)</h2></center>\n",
    "\n",
    "<center><img src=\"../images/prediction.jpeg\" width=\"18%\"/></center>\n",
    "\n",
    "__Prediction__: Unseen data points are predicted to belong to the classifier with the highest real-valued confidence score for its decision."
   ]
  },
  {
   "cell_type": "markdown",
   "metadata": {
    "slideshow": {
     "slide_type": "slide"
    }
   },
   "source": [
    "<center><h2>One-vs-the-rest (OvR) Advantages</h2></center>\n",
    "<br>\n",
    "<br>\n",
    "1) Computational efficiency - Each binary classifier is fast to fit.   The training can be easily parallelized for each binary classifier."
   ]
  },
  {
   "cell_type": "markdown",
   "metadata": {
    "slideshow": {
     "slide_type": "fragment"
    }
   },
   "source": [
    "2) Interpretability - Easier to understand which features and weights are contributing to the decision boundary for a single class."
   ]
  },
  {
   "cell_type": "markdown",
   "metadata": {
    "slideshow": {
     "slide_type": "skip"
    }
   },
   "source": [
    "[Source #1](https://medium.com/@b.terryjack/tips-and-tricks-for-multi-class-classification-c184ae1c8ffc)\n",
    "\n",
    "[Source #2](https://scikit-learn.org/stable/modules/generated/sklearn.multiclass.OneVsRestClassifier.html)"
   ]
  },
  {
   "cell_type": "code",
   "execution_count": 20,
   "metadata": {},
   "outputs": [],
   "source": [
    "# Let's see this in our good friend Logistic Regression\n",
    "from sklearn.linear_model import LogisticRegression"
   ]
  },
  {
   "cell_type": "markdown",
   "metadata": {},
   "source": [
    "https://scikit-learn.org/stable/modules/generated/sklearn.linear_model.LogisticRegression.html"
   ]
  },
  {
   "cell_type": "code",
   "execution_count": 19,
   "metadata": {
    "slideshow": {
     "slide_type": "skip"
    }
   },
   "outputs": [],
   "source": [
    "# In the multiclass case, the training algorithm uses the one-vs-rest (OvR) scheme \n",
    "# if the ‘multi_class’ option is set to ‘ovr’\n",
    "# If the option chosen is ‘ovr’, then a binary problem is fit for each label. \n",
    "clf = LogisticRegression(multi_class='ovr')"
   ]
  },
  {
   "cell_type": "code",
   "execution_count": null,
   "metadata": {},
   "outputs": [],
   "source": [
    "# Let's explore the generalized implementation\n",
    "from sklearn.multiclass import OneVsRestClassifier"
   ]
  },
  {
   "cell_type": "markdown",
   "metadata": {
    "slideshow": {
     "slide_type": "slide"
    }
   },
   "source": [
    "https://scikit-learn.org/stable/modules/generated/sklearn.multiclass.OneVsRestClassifier.html"
   ]
  },
  {
   "cell_type": "markdown",
   "metadata": {},
   "source": [
    "Any binary classifier can be multiclass if OneVsRest strategy is used"
   ]
  },
  {
   "cell_type": "markdown",
   "metadata": {
    "slideshow": {
     "slide_type": "slide"
    }
   },
   "source": [
    "<center><h2>\"True\" Multiclass Classification Algorithms</h2></center>\n",
    "\n",
    "- Naive Bayes\n",
    "- Trees - decision trees, Random Forest™, XBGOOST\n",
    "- Multinominal Logistic Regression"
   ]
  },
  {
   "cell_type": "markdown",
   "metadata": {
    "slideshow": {
     "slide_type": "slide"
    }
   },
   "source": [
    "<center><h2>Multinominal Logistic Regression</h2></center>\n",
    "\n"
   ]
  },
  {
   "cell_type": "markdown",
   "metadata": {
    "slideshow": {
     "slide_type": "slide"
    }
   },
   "source": [
    "<center><h2>Student Activity: Review Logistic Regression</h2></center>\n",
    "\n",
    "On your own:\n",
    "\n",
    "- Draw the function that transforms a linear regression into logistic regression.\n",
    "- Write the complete formula for logistic regression."
   ]
  },
  {
   "cell_type": "markdown",
   "metadata": {
    "slideshow": {
     "slide_type": "slide"
    }
   },
   "source": [
    "<center><h2>Sigmoid Function</h2></center>\n",
    "\n",
    "<center><img src=\"../images/VDOBN.png\" width=\"80%\"/></center>"
   ]
  },
  {
   "cell_type": "markdown",
   "metadata": {
    "slideshow": {
     "slide_type": "slide"
    }
   },
   "source": [
    "<center><h2>Logistic Regression</h2></center>\n",
    "<br>\n",
    "<br>\n",
    "<center><img src=\"../images/logistic.png\" width=\"75%\"/></center>"
   ]
  },
  {
   "cell_type": "markdown",
   "metadata": {
    "slideshow": {
     "slide_type": "slide"
    }
   },
   "source": [
    "<center><h2>Softmax Formula: Multiclass Logistic Function</h2></center>\n",
    "<br>\n",
    "<br>\n",
    "<center><img src=\"../images/multi.png\" width=\"75%\"/></center>\n",
    "\n",
    "<center>The exponential of activation for category $j$ normalized the exponentials of activation for all the other categories.</center>"
   ]
  },
  {
   "cell_type": "markdown",
   "metadata": {
    "slideshow": {
     "slide_type": "slide"
    }
   },
   "source": [
    "<center><h2>Softmax Formula: Multiclass Logistic Function</h2></center>\n",
    "\n",
    "\n",
    "$$P(y=1|x) = \\frac{exp({w^T_1 x})}{\\sum_{j=1}^K exp({w^T_j x})}$$\n",
    "$$P(y=2|x) = \\frac{exp({w^T_2 x})}{\\sum_{j=1}^K exp({w^T_j x})}$$\n",
    "$$\\ldots$$\n",
    "$$P(y=k|x) = \\frac{exp({w^T_k x})}{\\sum_{j=1}^K exp({w^T_j x})}$$\n",
    "\n",
    "For new data, calculate the $P(y=1|x), P(y=2|x),  \\ldots, P(y=k|x)$. Then pick the most likely class."
   ]
  },
  {
   "cell_type": "code",
   "execution_count": 10,
   "metadata": {
    "slideshow": {
     "slide_type": "skip"
    }
   },
   "outputs": [],
   "source": [
    "reset -fs"
   ]
  },
  {
   "cell_type": "code",
   "execution_count": 11,
   "metadata": {
    "slideshow": {
     "slide_type": "slide"
    }
   },
   "outputs": [],
   "source": [
    "# Load handwritten, then digitized digits\n",
    "from sklearn import datasets\n",
    "\n",
    "digits = datasets.load_digits()\n",
    "X = digits.images.reshape((len(digits.images), -1)) # Convert from a matrix to a vector\n",
    "y = digits.target"
   ]
  },
  {
   "cell_type": "code",
   "execution_count": 12,
   "metadata": {
    "slideshow": {
     "slide_type": "slide"
    }
   },
   "outputs": [
    {
     "data": {
      "image/png": "[encoded data removed]",
      "text/plain": [
       "<Figure size 432x288 with 1 Axes>"
      ]
     },
     "metadata": {
      "needs_background": "light"
     },
     "output_type": "display_data"
    }
   ],
   "source": [
    "# What is this digit?\n",
    "import matplotlib.pyplot as plt\n",
    "%matplotlib inline\n",
    "\n",
    "i = -1\n",
    "plt.imshow(digits.images[i], cmap=plt.cm.gray_r, interpolation='nearest');"
   ]
  },
  {
   "cell_type": "code",
   "execution_count": 16,
   "metadata": {
    "slideshow": {
     "slide_type": "fragment"
    }
   },
   "outputs": [
    {
     "name": "stdout",
     "output_type": "stream",
     "text": [
      "That digit is a 8\n"
     ]
    }
   ],
   "source": [
    "print(f\"That digit is a {y[i]}\")"
   ]
  },
  {
   "cell_type": "code",
   "execution_count": 21,
   "metadata": {
    "slideshow": {
     "slide_type": "slide"
    }
   },
   "outputs": [
    {
     "name": "stderr",
     "output_type": "stream",
     "text": [
      "/Users/brian/anaconda3/envs/ml/lib/python3.8/site-packages/sklearn/utils/optimize.py:211: ConvergenceWarning: newton-cg failed to converge. Increase the number of iterations.\n",
      "  warnings.warn(\"newton-cg failed to converge. Increase the \"\n"
     ]
    },
    {
     "data": {
      "text/plain": [
       "LogisticRegression(max_iter=1, multi_class='multinomial', solver='newton-cg')"
      ]
     },
     "execution_count": 21,
     "metadata": {},
     "output_type": "execute_result"
    }
   ],
   "source": [
    "from sklearn.linear_model import LogisticRegression\n",
    "\n",
    "clf = LogisticRegression(multi_class='multinomial', # Explicitly define the problem as multiclass\n",
    "                         solver='newton-cg',        # It is best practices to explicitly define your solver\n",
    "                         max_iter=1                 # Set this low so our model does not have good parameters\n",
    "                        )\n",
    "clf.fit(X, y)"
   ]
  },
  {
   "cell_type": "code",
   "execution_count": 22,
   "metadata": {
    "slideshow": {
     "slide_type": "slide"
    }
   },
   "outputs": [
    {
     "data": {
      "image/png": "[encoded data removed]",
      "text/plain": [
       "<Figure size 432x288 with 1 Axes>"
      ]
     },
     "metadata": {
      "needs_background": "light"
     },
     "output_type": "display_data"
    }
   ],
   "source": [
    "# Select random digit\n",
    "\n",
    "import numpy as np\n",
    "\n",
    "i = np.random.choice(X.shape[0])\n",
    "plt.imshow(digits.images[i], cmap=plt.cm.gray_r, interpolation='nearest');\n",
    "sample_train = X[i].reshape(1, -1)"
   ]
  },
  {
   "cell_type": "markdown",
   "metadata": {},
   "source": [
    "<center><h2>`predict_proba` method</h2></center>\n",
    "\n",
    "> The returned estimates for all classes are ordered by the label of classes.\n",
    "\n",
    "> For a multi_class problem, if `multi_class` is set to be “multinomial” the softmax function is used to find the predicted probability of each class. \n",
    "\n",
    "Read the docs [here](https://scikit-learn.org/stable/modules/generated/sklearn.linear_model.LogisticRegression.html#sklearn.linear_model.LogisticRegression.predict_proba)."
   ]
  },
  {
   "cell_type": "code",
   "execution_count": 29,
   "metadata": {
    "slideshow": {
     "slide_type": "slide"
    }
   },
   "outputs": [
    {
     "name": "stdout",
     "output_type": "stream",
     "text": [
      "For class 0, the predicted probability is 0.00000125\n",
      "For class 1, the predicted probability is 0.00000001\n",
      "For class 2, the predicted probability is 0.99842426\n",
      "For class 3, the predicted probability is 0.00000423\n",
      "For class 4, the predicted probability is 0.00000000\n",
      "For class 5, the predicted probability is 0.00000004\n",
      "For class 6, the predicted probability is 0.00000000\n",
      "For class 7, the predicted probability is 0.00000009\n",
      "For class 8, the predicted probability is 0.00000001\n",
      "For class 9, the predicted probability is 0.00157011\n"
     ]
    }
   ],
   "source": [
    "for k, v in enumerate(clf.predict_proba(sample_train)[0]):\n",
    "    print(f\"For class {k}, the predicted probability is {v:.8f}\")"
   ]
  },
  {
   "cell_type": "code",
   "execution_count": 24,
   "metadata": {
    "slideshow": {
     "slide_type": "fragment"
    }
   },
   "outputs": [
    {
     "name": "stdout",
     "output_type": "stream",
     "text": [
      "That digit is a 2\n"
     ]
    }
   ],
   "source": [
    "print(f\"That digit is acutally a {y[i]}\") "
   ]
  },
  {
   "cell_type": "code",
   "execution_count": 30,
   "metadata": {},
   "outputs": [
    {
     "name": "stdout",
     "output_type": "stream",
     "text": [
      "For class 0, the predicted probability is 0.00000125\n",
      "For class 1, the predicted probability is 0.00000001\n",
      "For class 2, the predicted probability is 0.99842426\n",
      "For class 3, the predicted probability is 0.00000423\n",
      "For class 4, the predicted probability is 0.00000000\n",
      "For class 5, the predicted probability is 0.00000004\n",
      "For class 6, the predicted probability is 0.00000000\n",
      "For class 7, the predicted probability is 0.00000009\n",
      "For class 8, the predicted probability is 0.00000001\n",
      "For class 9, the predicted probability is 0.00157011\n"
     ]
    }
   ],
   "source": [
    "# Let's train our model for longer and see predictions\n",
    "clf = LogisticRegression(multi_class='multinomial', # Explicitly define the problem as multiclass\n",
    "                         solver='newton-cg',        # It is best practices to explicitly define your solver\n",
    "                         max_iter=1_000\n",
    "                        )\n",
    "clf.fit(X, y)\n",
    "\n",
    "for k, v in enumerate(clf.predict_proba(sample_train)[0]):\n",
    "    print(f\"For class {k}, the predicted probability is {v:.8f}\")"
   ]
  },
  {
   "cell_type": "markdown",
   "metadata": {},
   "source": [
    "This can extend to thousands, millions, and billions of classes.\n",
    "\n",
    "It is what is used for Deep Learning as the last step that maps neural network activation to probability of category"
   ]
  },
  {
   "cell_type": "markdown",
   "metadata": {
    "slideshow": {
     "slide_type": "slide"
    }
   },
   "source": [
    "<center><h2>Takeaways</h2></center>\n",
    "\n",
    "- Multiclass classification is putting a data instance into a single category out of more than two category options.\n",
    "- Any machine learning can be adopted to multiclass classification. One-vs-the-rest (OvR) is hack. It is better to use.\n",
    "- Softmax is useful for multiclass prediction."
   ]
  },
  {
   "cell_type": "markdown",
   "metadata": {
    "slideshow": {
     "slide_type": "slide"
    }
   },
   "source": [
    "<br>"
   ]
  },
  {
   "cell_type": "markdown",
   "metadata": {
    "slideshow": {
     "slide_type": "slide"
    }
   },
   "source": [
    "Bonus Material\n",
    "-----"
   ]
  },
  {
   "cell_type": "markdown",
   "metadata": {
    "slideshow": {
     "slide_type": "slide"
    }
   },
   "source": [
    "<center><h2>Multiclass Naive Bayes</h2></center>\n",
    "\n",
    "<center><img src=\"../images/naive_bayes.png\" width=\"75%\"/></center>\n",
    "\n",
    "k is the number of classes\n",
    "\n"
   ]
  },
  {
   "cell_type": "markdown",
   "metadata": {
    "slideshow": {
     "slide_type": "fragment"
    }
   },
   "source": [
    "For new data, calculate the $P(C_1), P(C_2),  \\ldots P(C_k)$.   \n",
    "Then pick the most likely class."
   ]
  },
  {
   "cell_type": "markdown",
   "metadata": {
    "slideshow": {
     "slide_type": "slide"
    }
   },
   "source": [
    "[pycm](https://github.com/sepandhaghighi/pycm) - Multi-class confusion matrix library in Python"
   ]
  },
  {
   "cell_type": "markdown",
   "metadata": {
    "slideshow": {
     "slide_type": "slide"
    }
   },
   "source": [
    "<center><h2>one-vs.-one (OvO) Training Scheme</h2></center>\n",
    "\n",
    "Trains K (K − 1) / 2 binary classifiers for a K-way multiclass problem\n",
    "\n",
    "Each receives the samples of a pair of classes from the original training set, and must learn to distinguish these two classes. \n",
    "\n",
    "At prediction time, a voting scheme is applied: all K (K − 1) / 2 classifiers are applied to an unseen sample and the class that got the highest number of \"+1\" predictions gets predicted by the combined classifier.\n",
    "\n",
    "Disadvantages:\n",
    "\n",
    "1. Does not scale for large of k.\n",
    "1. Ambiguous decision bounds\n"
   ]
  }
 ],
 "metadata": {
  "anaconda-cloud": {},
  "celltoolbar": "Slideshow",
  "kernelspec": {
   "display_name": "Python 3",
   "language": "python",
   "name": "python3"
  },
  "language_info": {
   "codemirror_mode": {
    "name": "ipython",
    "version": 3
   },
   "file_extension": ".py",
   "mimetype": "text/x-python",
   "name": "python",
   "nbconvert_exporter": "python",
   "pygments_lexer": "ipython3",
   "version": "3.8.5"
  },
  "toc": {
   "base_numbering": 1,
   "nav_menu": {},
   "number_sections": false,
   "sideBar": false,
   "skip_h1_title": false,
   "title_cell": "Table of Contents",
   "title_sidebar": "Contents",
   "toc_cell": true,
   "toc_position": {},
   "toc_section_display": true,
   "toc_window_display": false
  }
 },
 "nbformat": 4,
 "nbformat_minor": 1
}
