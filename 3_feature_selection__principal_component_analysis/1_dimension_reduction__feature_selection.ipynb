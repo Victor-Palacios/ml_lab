{
 "cells": [
  {
   "cell_type": "markdown",
   "metadata": {
    "slideshow": {
     "slide_type": "skip"
    },
    "toc": true
   },
   "source": [
    "<h1>Table of Contents<span class=\"tocSkip\"></span></h1>\n",
    "<div class=\"toc\"><ul class=\"toc-item\"><li><span><a href=\"#Dimensionality-Reduction\" data-toc-modified-id=\"Dimensionality-Reduction-1\">Dimensionality Reduction</a></span></li><li><span><a href=\"#Learning-Outcomes\" data-toc-modified-id=\"Learning-Outcomes-2\">Learning Outcomes</a></span></li><li><span><a href=\"#What-is-Dimensionality-Reduction?\" data-toc-modified-id=\"What-is-Dimensionality-Reduction?-3\">What is Dimensionality Reduction?</a></span></li><li><span><a href=\"#Why-do-Dimensionality-Reduction?\" data-toc-modified-id=\"Why-do-Dimensionality-Reduction?-4\">Why do Dimensionality Reduction?</a></span></li><li><span><a href=\"#&quot;Curse-of-Dimensionality&quot;\" data-toc-modified-id=\"&quot;Curse-of-Dimensionality&quot;-5\">\"Curse of Dimensionality\"</a></span></li><li><span><a href=\"#As-dimensions-increase,-there-are-far-fewer-number-of-points-for-the-same-area\" data-toc-modified-id=\"As-dimensions-increase,-there-are-far-fewer-number-of-points-for-the-same-area-6\">As dimensions increase, there are far fewer number of points for the same area</a></span></li><li><span><a href=\"#2-types-of-Dimensionality-Reduction\" data-toc-modified-id=\"2-types-of-Dimensionality-Reduction-7\">2 types of Dimensionality Reduction</a></span></li><li><span><a href=\"#What-are-common-examples-of-feature-projection?\" data-toc-modified-id=\"What-are-common-examples-of-feature-projection?-8\">What are common examples of feature projection?</a></span></li><li><span><a href=\"#scikit-learn's-`feature_selection`-module\" data-toc-modified-id=\"scikit-learn's-`feature_selection`-module-9\">scikit-learn's `feature_selection` module</a></span></li><li><span><a href=\"#3-Strategies-for-Feature-Selection\" data-toc-modified-id=\"3-Strategies-for-Feature-Selection-10\">3 Strategies for Feature Selection</a></span></li><li><span><a href=\"#1)-Filter-Strategy\" data-toc-modified-id=\"1)-Filter-Strategy-11\">1) Filter Strategy</a></span></li><li><span><a href=\"#VarianceThreshold\" data-toc-modified-id=\"VarianceThreshold-12\">VarianceThreshold</a></span></li><li><span><a href=\"#What-We-Talk-About-When-We-Talk-About-Variance\" data-toc-modified-id=\"What-We-Talk-About-When-We-Talk-About-Variance-13\">What We Talk About When We Talk About Variance</a></span></li><li><span><a href=\"#Why-Remove-Features-With-Low-Variance?\" data-toc-modified-id=\"Why-Remove-Features-With-Low-Variance?-14\">Why Remove Features With Low Variance?</a></span></li><li><span><a href=\"#SelectKBest\" data-toc-modified-id=\"SelectKBest-15\">SelectKBest</a></span></li><li><span><a href=\"#χ2-(chi-squared)-\" data-toc-modified-id=\"χ2-(chi-squared)--16\">χ2 (chi-squared) </a></span></li><li><span><a href=\"#2)-Wrapper-Strategy\" data-toc-modified-id=\"2)-Wrapper-Strategy-17\">2) Wrapper Strategy</a></span></li><li><span><a href=\"#Recursive-Feature-Elimination\" data-toc-modified-id=\"Recursive-Feature-Elimination-18\">Recursive Feature Elimination</a></span></li><li><span><a href=\"#3)-Embedded-Strategy-\" data-toc-modified-id=\"3)-Embedded-Strategy--19\">3) Embedded Strategy </a></span></li><li><span><a href=\"#What-are-common-algorithms-that-perform-feature-selection?\" data-toc-modified-id=\"What-are-common-algorithms-that-perform-feature-selection?-20\">What are common algorithms that perform feature selection?</a></span></li><li><span><a href=\"#What-is-the-heck-is-an-ExtraTreesClassifier?\" data-toc-modified-id=\"What-is-the-heck-is-an-ExtraTreesClassifier?-21\">What is the heck is an ExtraTreesClassifier?</a></span></li><li><span><a href=\"#Always-be-Pipelining\" data-toc-modified-id=\"Always-be-Pipelining-22\">Always be Pipelining</a></span></li><li><span><a href=\"#Feature-Projection-for-Dimensionality-Reduction\" data-toc-modified-id=\"Feature-Projection-for-Dimensionality-Reduction-23\">Feature Projection for Dimensionality Reduction</a></span></li><li><span><a href=\"#Feature-Projection-is-in-scikit-learn's-`decomposition`-Module-\" data-toc-modified-id=\"Feature-Projection-is-in-scikit-learn's-`decomposition`-Module--24\">Feature Projection is in scikit-learn's `decomposition` Module </a></span></li><li><span><a href=\"#Takeaways\" data-toc-modified-id=\"Takeaways-25\">Takeaways</a></span></li><li><span><a href=\"#Sources-of-Inspiration\" data-toc-modified-id=\"Sources-of-Inspiration-26\">Sources of Inspiration</a></span></li><li><span><a href=\"#The-Best-Data-Visualizations-are-Feature-Projection-Methods\" data-toc-modified-id=\"The-Best-Data-Visualizations-are-Feature-Projection-Methods-27\">The Best Data Visualizations are Feature Projection Methods</a></span></li><li><span><a href=\"#Takeaways\" data-toc-modified-id=\"Takeaways-28\">Takeaways</a></span></li><li><span><a href=\"#Bonus-Materials\" data-toc-modified-id=\"Bonus-Materials-29\">Bonus Materials</a></span></li><li><span><a href=\"#When-should-we-add-features-to-a-model?\" data-toc-modified-id=\"When-should-we-add-features-to-a-model?-30\">When should we add features to a model?</a></span></li><li><span><a href=\"#Discrete-Dimensionality-Reduction\" data-toc-modified-id=\"Discrete-Dimensionality-Reduction-31\">Discrete Dimensionality Reduction</a></span></li><li><span><a href=\"#Dimensionality-Reduction-for-Visualization\" data-toc-modified-id=\"Dimensionality-Reduction-for-Visualization-32\">Dimensionality Reduction for Visualization</a></span></li></ul></div>"
   ]
  },
  {
   "cell_type": "markdown",
   "metadata": {
    "slideshow": {
     "slide_type": "slide"
    }
   },
   "source": [
    "<center><h2>Dimensionality Reduction</h2></center>\n",
    "<br>\n",
    "\n",
    "<center><img src=\"http://wordyenglish.com/flatland/i/flatland_cover.png\" width=\"75%\"/></center>\n",
    "<br>\n",
    "<center><img src=\"https://imgs.xkcd.com/comics/flatland.png\" width=\"100%\"/></center>"
   ]
  },
  {
   "cell_type": "markdown",
   "metadata": {
    "slideshow": {
     "slide_type": "skip"
    }
   },
   "source": [
    "[Flatland: A Romance of Many Dimensions (Illustrated) by Edwin Abbott Abbott](http://www.gutenberg.org/ebooks/201) "
   ]
  },
  {
   "cell_type": "markdown",
   "metadata": {},
   "source": [
    "This is one of my favorite topics. It is about how you perceive the world. Your frame of reference for the world is one of the most important parts of life.\n",
    "\n",
    "This also deals with one of the two primary superpowers data scientists have:\n",
    "\n",
    "- Handling high dimensional space\n",
    "\n",
    "(The other one is thinking probabilistically.)"
   ]
  },
  {
   "cell_type": "markdown",
   "metadata": {
    "slideshow": {
     "slide_type": "slide"
    }
   },
   "source": [
    "<center><h2>Learning Outcomes</h2></center>\n",
    "\n",
    "__By the end of this session, you should be able to__:\n",
    "\n",
    "- Define Dimensionality Reduction in own words.\n",
    "- Explain the difference between Feature Selection and Feature Projection.\n",
    "- Define and provide examples of the 3 Feature Selection strategies:\n",
    "    1. Filter\n",
    "    2. Wrapper\n",
    "    3. Embedded"
   ]
  },
  {
   "cell_type": "markdown",
   "metadata": {
    "slideshow": {
     "slide_type": "slide"
    }
   },
   "source": [
    "<center><h2>What is Dimensionality Reduction?</h2></center>\n",
    "<br>\n",
    "<br>\n",
    "Learn a mapping of feature dimensions that reduces the number of dimensions while keeping important properties.\n",
    "\n",
    "One way to measure important properties is high mutual information with project goal or target labels."
   ]
  },
  {
   "cell_type": "markdown",
   "metadata": {
    "slideshow": {
     "slide_type": "slide"
    }
   },
   "source": [
    "<center><h2>Why do Dimensionality Reduction?</h2></center>\n",
    "<br>\n",
    "<br>\n",
    "\n",
    "- Compensate for humans' inability to understand high dimensional data.\n",
    "\n",
    "- Express features in a more meaningful way.\n",
    "\n",
    "- Combat the curse of dimensionality."
   ]
  },
  {
   "cell_type": "markdown",
   "metadata": {},
   "source": [
    "<center><h2>\"Curse of Dimensionality\"</h2></center>\n",
    "<br>\n",
    "<center><img src=\"../images/curse.png\" width=\"75%\"/></center>\n",
    "\n",
    "An unintuitive geometric phenomena in high dimensional spaces.  \n",
    "\n",
    "Roughly it says:\n",
    "\n",
    "> The number of points needed to evenly sample a D dimensional cube grows __exponentially__ with D.\n",
    "\n",
    "As Charlie Munger says \"Always invert\":\n",
    "\n",
    "> If you have a fixed number of points of increasing dimension (i.e. you describe the points with more and more measurements), the __average distance between the points grows exponentially__."
   ]
  },
  {
   "cell_type": "markdown",
   "metadata": {},
   "source": [
    "To illustrate, let's sample a fixed number of points from unit hypercubes of increasing dimension."
   ]
  },
  {
   "cell_type": "code",
   "execution_count": 32,
   "metadata": {},
   "outputs": [],
   "source": [
    "reset -fs"
   ]
  },
  {
   "cell_type": "code",
   "execution_count": 57,
   "metadata": {},
   "outputs": [],
   "source": [
    "import numpy as np\n",
    "import matplotlib.patches as patches\n",
    "import matplotlib.pyplot as plt\n",
    "from matplotlib import cm\n",
    "\n",
    "%matplotlib inline"
   ]
  },
  {
   "cell_type": "code",
   "execution_count": 64,
   "metadata": {},
   "outputs": [],
   "source": [
    "# Define number of points and dimensions for simulation \n",
    "n_points = 1_000\n",
    "dimensions = range(1, 10)\n",
    "samples = {dim: np.random.uniform(size=n_points*dim).reshape((n_points, dim)) \n",
    "           for dim in dimensions}"
   ]
  },
  {
   "cell_type": "markdown",
   "metadata": {},
   "source": [
    "For each of these samples, lets measure how much of the data lies inside a small cube of increasing size centered at a corner of the unit cube.\n",
    "\n",
    "Like this for our two dimensional data:"
   ]
  },
  {
   "cell_type": "code",
   "execution_count": 65,
   "metadata": {},
   "outputs": [],
   "source": [
    "def num_points_within(sample, x):\n",
    "    \"Count the number of points in sample within a distance x of the origin in each direction.\"\n",
    "    within = (sample <= x)              # Predicate\n",
    "    all_within = np.all(within, axis=1) # Check predicate\n",
    "    return np.sum(all_within)           # Total that pass predicate "
   ]
  },
  {
   "cell_type": "code",
   "execution_count": 66,
   "metadata": {},
   "outputs": [
    {
     "data": {
      "image/png": "[encoded data removed]",
      "text/plain": [
       "<Figure size 1152x432 with 2 Axes>"
      ]
     },
     "metadata": {
      "needs_background": "light"
     },
     "output_type": "display_data"
    }
   ],
   "source": [
    "# See how number points in a given area changes as a function of dimension range\n",
    "fig, axs = plt.subplots(1, 2, figsize=(16, 6))\n",
    "ticks = np.linspace(0.1, 1, num=20)\n",
    "two_dim_data = samples[2]\n",
    "ax = axs[0]\n",
    "ax.scatter(two_dim_data[:, 0], two_dim_data[:, 1])\n",
    "for edge_len in reversed(ticks):\n",
    "    ax.add_patch(patches.Rectangle((0, 0), edge_len, edge_len, \n",
    "                                   color=cm.gray(0.25 + 0.5*edge_len), \n",
    "                                   linewidth=3, fill=False, alpha=0.5))\n",
    "ax.set_xlim((0, 1))\n",
    "ax.set_ylim((0, 1))\n",
    "ax.set_title(\"Uniformly Sample Points in Unit Square\")\n",
    "\n",
    "ax = axs[1]\n",
    "density = [num_points_within(two_dim_data, edge_len) for edge_len in ticks]\n",
    "ax.plot(ticks, density)\n",
    "ax.set_title(\"Number of Points within Sub-Square\")\n",
    "ax.set_xlabel(\"Side Length of Sub-Square\")\n",
    "ax.set_ylabel(\"N Points\");"
   ]
  },
  {
   "cell_type": "markdown",
   "metadata": {},
   "source": [
    "The curve on the right shows how the number of points in a square changes as the size of the square increases to envelop the *entire* large square.\n",
    "\n",
    "Now let's run this simulation but __change the dimension__ of the larger square."
   ]
  },
  {
   "cell_type": "code",
   "execution_count": 67,
   "metadata": {
    "scrolled": true
   },
   "outputs": [
    {
     "data": {
      "image/png": "[encoded data removed]",
      "text/plain": [
       "<Figure size 576x432 with 1 Axes>"
      ]
     },
     "metadata": {
      "needs_background": "light"
     },
     "output_type": "display_data"
    }
   ],
   "source": [
    "# See how number points in a given area changes as a function of number of dimensions\n",
    "\n",
    "fig, ax = plt.subplots(1, figsize=(8, 6))\n",
    "ticks = np.linspace(0.1, 1, num=25)\n",
    "\n",
    "for i, (dim, sample) in enumerate(samples.items()):\n",
    "    density = [num_points_within(sample, edge_len) for edge_len in ticks]\n",
    "    ax.plot(ticks, \n",
    "            density, \n",
    "            label=f\"Dimension {dim}\", \n",
    "            color=plt.cm.Set1(i)\n",
    "           )\n",
    "    \n",
    "ax.legend(loc=\"upper left\")\n",
    "ax.set_title(\"Number of Points Within a Sub-Square\")\n",
    "ax.set_xlabel(\"Side Length of Sub-Square\")\n",
    "ax.set_ylabel(\"N Points\");"
   ]
  },
  {
   "cell_type": "markdown",
   "metadata": {},
   "source": [
    "<center><h2>As dimensions increase, there are far fewer number of points for the same area</h2></center>\n",
    "\n",
    "In larger dimensions less and less of that data is near the fixed corner of the cube.\n",
    "\n",
    "For algorithms that make predictions by looking for training samples that are other data, we need an increasingly vast amount of data to construct accurate models.\n",
    "\n",
    "This is why  k-nearest neighbors algorithm (k-NN) suffers from the Curse of Dimensionality."
   ]
  },
  {
   "cell_type": "markdown",
   "metadata": {
    "slideshow": {
     "slide_type": "slide"
    }
   },
   "source": [
    "<center><h2>2 types of Dimensionality Reduction</h2></center>\n",
    "<br>\n",
    "<br>\n",
    "\n",
    "1. Feature selection - learn a subset of existing features.\n",
    "<br>\n",
    "<br>\n",
    "1. Feature projection - learn a projection into new dimensional space."
   ]
  },
  {
   "cell_type": "markdown",
   "metadata": {},
   "source": [
    "<center><h2>What are common examples of feature projection?</h2></center>\n",
    "\n",
    "- Principal Component Analysis (PCA) \n",
    "- Embedding, including word embeddings\n",
    "- Uniform Manifold Approximation and Projection (UMAP)"
   ]
  },
  {
   "cell_type": "markdown",
   "metadata": {},
   "source": [
    "<center><h2>scikit-learn's `feature_selection` module</h2></center>\n",
    "\n",
    "Let's take a look [https://scikit-learn.org/stable/modules/feature_selection.html](https://scikit-learn.org/stable/modules/feature_selection.html)"
   ]
  },
  {
   "cell_type": "markdown",
   "metadata": {
    "slideshow": {
     "slide_type": "slide"
    }
   },
   "source": [
    "<center><h2>3 Strategies for Feature Selection</h2></center>\n",
    "<br>\n",
    "<br>\n",
    "\n",
    "1. Filter strategy\n",
    "<br>\n",
    "<br>\n",
    "1. Wrapper strategy\n",
    "<br>\n",
    "<br>\n",
    "1. Embedded strategy "
   ]
  },
  {
   "cell_type": "markdown",
   "metadata": {
    "slideshow": {
     "slide_type": "slide"
    }
   },
   "source": [
    "<center><h2>1) Filter Strategy</h2></center>\n",
    "<br>\n",
    "<br>\n",
    "<center><img src=\"../images/filter.png\" width=\"100%\"/></center>\n",
    "\n",
    "Select features based only on general properties <br>(e.g., information gain or correlation).\n",
    "\n",
    "Features are selected regardless of the algorithm / model. "
   ]
  },
  {
   "cell_type": "code",
   "execution_count": 38,
   "metadata": {
    "slideshow": {
     "slide_type": "skip"
    }
   },
   "outputs": [],
   "source": [
    "reset -fs"
   ]
  },
  {
   "cell_type": "code",
   "execution_count": 39,
   "metadata": {
    "slideshow": {
     "slide_type": "skip"
    }
   },
   "outputs": [],
   "source": [
    "from warnings import filterwarnings\n",
    "filterwarnings('ignore')"
   ]
  },
  {
   "cell_type": "markdown",
   "metadata": {},
   "source": [
    "<center><h2>VarianceThreshold</h2></center>\n",
    "\n",
    "> removes all features whose variance doesn’t meet some threshold. By default, it removes all zero-variance features, i.e. features that have the same value in all samples."
   ]
  },
  {
   "cell_type": "code",
   "execution_count": 40,
   "metadata": {
    "slideshow": {
     "slide_type": "slide"
    }
   },
   "outputs": [],
   "source": [
    "from sklearn.feature_selection import VarianceThreshold\n",
    "\n",
    "# VarianceThreshold?"
   ]
  },
  {
   "cell_type": "markdown",
   "metadata": {
    "slideshow": {
     "slide_type": "fragment"
    }
   },
   "source": [
    "`VarianceThreshold` is a __filter__ strategy since it does not look at the model information."
   ]
  },
  {
   "cell_type": "markdown",
   "metadata": {
    "slideshow": {
     "slide_type": "slide"
    }
   },
   "source": [
    "<center><h2>What We Talk About When We Talk About Variance</h2></center>\n",
    "<br>\n",
    "<br>\n",
    "\n",
    "$$s^2 = \\frac{1}{N} \\sum_{i=1}^N(x_i - \\bar x)^2$$  \n",
    "<br>\n",
    "<br>\n",
    "\n",
    "<center>In Dimension Reduction, variance is short for univariate feature variance. </center>"
   ]
  },
  {
   "cell_type": "markdown",
   "metadata": {
    "slideshow": {
     "slide_type": "slide"
    }
   },
   "source": [
    "<center><h2>Why Remove Features With Low Variance?</h2></center>\n",
    "\n",
    "As features approach lowers variance, features are less random (i.e., reduced entropy). \n",
    "\n",
    "Most algorithms perform better with a \"reasonable\" amount of variance."
   ]
  },
  {
   "cell_type": "markdown",
   "metadata": {
    "slideshow": {
     "slide_type": "fragment"
    }
   },
   "source": [
    "The most extreme case is a feature with zero variance (i.e., a constant / no entropy).\n",
    "\n",
    "A ML algorithm can __not__ learn to predict a target from a feature with zero variance."
   ]
  },
  {
   "cell_type": "markdown",
   "metadata": {
    "slideshow": {
     "slide_type": "skip"
    }
   },
   "source": [
    "Larger variance is an issue if it introduces sparsity."
   ]
  },
  {
   "cell_type": "code",
   "execution_count": 41,
   "metadata": {},
   "outputs": [
    {
     "data": {
      "text/plain": [
       "array([[0, 1],\n",
       "       [1, 0],\n",
       "       [0, 0],\n",
       "       [1, 1],\n",
       "       [1, 0],\n",
       "       [1, 1]])"
      ]
     },
     "execution_count": 41,
     "metadata": {},
     "output_type": "execute_result"
    }
   ],
   "source": [
    "\"\"\"\n",
    "As an example, suppose that we have a dataset with boolean features, \n",
    "and we want to remove all features that are either one or zero (on or off) \n",
    "in more than 80% of the samples. \n",
    "Boolean features are Bernoulli random variables, \n",
    "and the variance of such variables is given by\n",
    "Var[X] = p(1-p)\n",
    "\"\"\"\n",
    "X = [[0, 0, 1], \n",
    "     [0, 1, 0], \n",
    "     [1, 0, 0], \n",
    "     [0, 1, 1], \n",
    "     [0, 1, 0], \n",
    "     [0, 1, 1]]\n",
    "sel = VarianceThreshold(threshold=(.8 * (1 - .8)))\n",
    "sel.fit_transform(X)"
   ]
  },
  {
   "cell_type": "markdown",
   "metadata": {},
   "source": [
    "[Source](https://scikit-learn.org/stable/modules/feature_selection.html#removing-features-with-low-variance)"
   ]
  },
  {
   "cell_type": "markdown",
   "metadata": {},
   "source": [
    "<center><h2>SelectKBest</h2></center>\n",
    "\n",
    "> removes all but the  highest scoring features"
   ]
  },
  {
   "cell_type": "code",
   "execution_count": 42,
   "metadata": {
    "slideshow": {
     "slide_type": "slide"
    }
   },
   "outputs": [],
   "source": [
    "from sklearn.feature_selection import SelectKBest\n",
    "\n",
    "# SelectKBest?"
   ]
  },
  {
   "cell_type": "markdown",
   "metadata": {
    "slideshow": {
     "slide_type": "fragment"
    }
   },
   "source": [
    "`SelectKBest` is a __filter__ strategy since it does not look at the model information."
   ]
  },
  {
   "cell_type": "code",
   "execution_count": 43,
   "metadata": {
    "slideshow": {
     "slide_type": "skip"
    }
   },
   "outputs": [],
   "source": [
    "from sklearn.datasets import load_iris\n",
    "\n",
    "iris = load_iris()"
   ]
  },
  {
   "cell_type": "code",
   "execution_count": 44,
   "metadata": {
    "slideshow": {
     "slide_type": "slide"
    }
   },
   "outputs": [
    {
     "data": {
      "text/plain": [
       "(150, 4)"
      ]
     },
     "execution_count": 44,
     "metadata": {},
     "output_type": "execute_result"
    }
   ],
   "source": [
    "iris = load_iris()\n",
    "X, y = iris.data, iris.target\n",
    "X.shape"
   ]
  },
  {
   "cell_type": "code",
   "execution_count": 45,
   "metadata": {
    "slideshow": {
     "slide_type": "fragment"
    }
   },
   "outputs": [
    {
     "data": {
      "text/plain": [
       "(150, 2)"
      ]
     },
     "execution_count": 45,
     "metadata": {},
     "output_type": "execute_result"
    }
   ],
   "source": [
    "from sklearn.feature_selection import chi2\n",
    "\n",
    "X_new = SelectKBest(chi2, k=2).fit_transform(X, y)\n",
    "X_new.shape"
   ]
  },
  {
   "cell_type": "markdown",
   "metadata": {
    "slideshow": {
     "slide_type": "slide"
    }
   },
   "source": [
    "<center><h2>χ2 (chi-squared) </h2></center>\n",
    "<br>\n",
    "\n",
    "$$ χ^2 = \\sum_{i=1}^n \\frac{(O_i - E_i)^2}{E_i} $$  \n",
    "\n",
    "Chi-square test measures dependence between discrete random variables.\n",
    "\n",
    "Can be used to select the features that are the most likely to be independent of class, therefore irrelevant for classification."
   ]
  },
  {
   "cell_type": "markdown",
   "metadata": {
    "slideshow": {
     "slide_type": "slide"
    }
   },
   "source": [
    "<center><img src=\"../images/hqdefault.jpg\" width=\"85%\"/></center>"
   ]
  },
  {
   "cell_type": "code",
   "execution_count": 46,
   "metadata": {},
   "outputs": [],
   "source": [
    "from sklearn.feature_selection import chi2\n",
    "\n",
    "# help(chi2)"
   ]
  },
  {
   "cell_type": "code",
   "execution_count": 47,
   "metadata": {
    "code_folding": [],
    "slideshow": {
     "slide_type": "slide"
    }
   },
   "outputs": [
    {
     "name": "stdout",
     "output_type": "stream",
     "text": [
      "15.29\n"
     ]
    }
   ],
   "source": [
    "# Calculate chi-square to check if a die is loaded\n",
    "observed = [22, 24, 38, 30, 46, 44]\n",
    "expected = [sum(observed) / len(observed)] * len(observed)\n",
    "\n",
    "chi_squared = 0\n",
    "for i, o in enumerate(observed):\n",
    "    chi_squared += (o-expected[i])**2 / expected[i]\n",
    "print(f\"{chi_squared:.2f}\")"
   ]
  },
  {
   "cell_type": "markdown",
   "metadata": {
    "slideshow": {
     "slide_type": "skip"
    }
   },
   "source": [
    "[Source](https://www.youtube.com/watch?v=1Ldl5Zfcm1Y)"
   ]
  },
  {
   "cell_type": "markdown",
   "metadata": {
    "slideshow": {
     "slide_type": "slide"
    }
   },
   "source": [
    "<center><h2>2) Wrapper Strategy</h2></center>\n",
    "\n",
    "<center><img src=\"../images/wrapper.png\" width=\"75%\"/></center>\n",
    "\n",
    "Iteratively evaluate subsets of variables.\n",
    "\n",
    "Examples:\n",
    "\n",
    "- Sequential feature selection algorithms\n",
    "- Recursive feature elimination"
   ]
  },
  {
   "cell_type": "markdown",
   "metadata": {
    "slideshow": {
     "slide_type": "skip"
    }
   },
   "source": [
    "Also most genetic algorithms use the wrapper strategy."
   ]
  },
  {
   "cell_type": "markdown",
   "metadata": {
    "slideshow": {
     "slide_type": "slide"
    }
   },
   "source": [
    "<center><h2>Recursive Feature Elimination</h2></center>\n",
    "\n",
    "The algorithm is fit over and over.\n",
    "\n",
    "Each time the weakest feature(s) are removed until the specified number of features is reached. "
   ]
  },
  {
   "cell_type": "code",
   "execution_count": 48,
   "metadata": {
    "slideshow": {
     "slide_type": "slide"
    }
   },
   "outputs": [],
   "source": [
    "from sklearn.feature_selection import RFECV\n",
    "\n",
    "# RFECV?"
   ]
  },
  {
   "cell_type": "markdown",
   "metadata": {
    "slideshow": {
     "slide_type": "slide"
    }
   },
   "source": [
    "<center><h2>3) Embedded Strategy </h2></center>\n",
    "<center><img src=\"../images/embedded.png\" width=\"65%\"/></center>\n",
    "An algorithm's fitting process can inherently selection features, thus simultaneously performing feature selection and supervised machine learning (e.g., regression or classification).\n",
    "\n"
   ]
  },
  {
   "cell_type": "markdown",
   "metadata": {
    "slideshow": {
     "slide_type": "slide"
    }
   },
   "source": [
    "<center><h2>What are common algorithms that perform feature selection?</h2></center>\n",
    "\n",
    "- Regularized Regression (e.g., Lasso / L1 linear regression)\n",
    "- Tree-based methods"
   ]
  },
  {
   "cell_type": "code",
   "execution_count": 49,
   "metadata": {},
   "outputs": [
    {
     "name": "stdout",
     "output_type": "stream",
     "text": [
      "(150, 4)\n"
     ]
    }
   ],
   "source": [
    "from sklearn.datasets          import load_iris\n",
    "from sklearn.ensemble          import ExtraTreesClassifier\n",
    "from sklearn.feature_selection import SelectFromModel\n",
    "\n",
    "X, y = load_iris(return_X_y=True)\n",
    "print(X.shape)"
   ]
  },
  {
   "cell_type": "markdown",
   "metadata": {},
   "source": [
    "<center><h2>What is the heck is an ExtraTreesClassifier?</h2></center>\n",
    "\n",
    "ExtraTreesClassifier is kinda a lighter weight random forest\n",
    "\n",
    "> ExtraTreesClassifierr always tests random splits over fraction of features (in contrast to RandomForest, which tests all possible splits over fraction of features)\n",
    "\n",
    "> ExtraTreesClassifier are cheaper to train\n",
    "\n",
    "[Source](https://stackoverflow.com/questions/22409855/randomforestclassifier-vs-extratreesclassifier-in-scikit-learn)"
   ]
  },
  {
   "cell_type": "code",
   "execution_count": 50,
   "metadata": {},
   "outputs": [
    {
     "name": "stdout",
     "output_type": "stream",
     "text": [
      "[0.08953778 0.07254684 0.39191076 0.44600463]\n"
     ]
    }
   ],
   "source": [
    "clf = ExtraTreesClassifier(n_estimators=50)\n",
    "clf = clf.fit(X, y)\n",
    "print(clf.feature_importances_)"
   ]
  },
  {
   "cell_type": "code",
   "execution_count": 51,
   "metadata": {},
   "outputs": [
    {
     "name": "stdout",
     "output_type": "stream",
     "text": [
      "(150, 2)\n"
     ]
    }
   ],
   "source": [
    "model = SelectFromModel(clf, prefit=True)\n",
    "X_new = model.transform(X)\n",
    "print(X_new.shape)  "
   ]
  },
  {
   "cell_type": "markdown",
   "metadata": {},
   "source": [
    "<center><h2>Always be Pipelining</h2></center>\n",
    "\n",
    "```python\n",
    "clf = Pipeline([\n",
    "  ('feature_selection', SelectFromModel(LinearSVC(penalty=\"l1\"))),\n",
    "  ('classification', RandomForestClassifier())\n",
    "])\n",
    "clf.fit(X, y)\n",
    "```"
   ]
  },
  {
   "cell_type": "markdown",
   "metadata": {
    "slideshow": {
     "slide_type": "slide"
    }
   },
   "source": [
    "<center><h2>Feature Projection for Dimensionality Reduction</h2></center>\n",
    "<br>\n",
    "<br>\n",
    "<br>\n",
    "<center>Learn a mapping to a <b>new</b> set of dimensions.</center>"
   ]
  },
  {
   "cell_type": "markdown",
   "metadata": {
    "slideshow": {
     "slide_type": "slide"
    }
   },
   "source": [
    "<center><h2>Feature Projection is in scikit-learn's `decomposition` Module </h2></center>\n",
    "\n",
    "Let's read the documentation   \n",
    "https://scikit-learn.org/stable/modules/classes.html#module-sklearn.decomposition\n",
    "\n"
   ]
  },
  {
   "cell_type": "markdown",
   "metadata": {
    "slideshow": {
     "slide_type": "slide"
    }
   },
   "source": [
    "We only have time to cover the most important algorithm - Principal Component Analysis (PCA).\n",
    "\n",
    "IMHO - The next most important algorithm is Non-Negative Matrix Factorization (NMF). NMF is a way to cluster text documents.\n",
    "\n",
    "__Honorable Mentions for decomposition Algorithms__:\n",
    "\n",
    "Factor Analysis (FA) and Independent Component Analysis (ICA) are commonly used in certain sub-fields. Their use is not wide spread in Data Science.\n",
    "\n",
    "DictionaryLearning learns a sparse re-encoding of the data. That is common in dimensional fields with low signal. Computational advertising is one example."
   ]
  },
  {
   "cell_type": "markdown",
   "metadata": {
    "slideshow": {
     "slide_type": "slide"
    }
   },
   "source": [
    "<center><h2>Takeaways</h2></center>\n",
    "\n",
    "- Feature Engineering (FE) might have bigger impact than algorithm selection and model tuning\n",
    "- FE is impactive when working in new domains, especially ones that are not digital native.\n",
    "- The goal of FE is change the raw data to best possible feature for a ML algorithm.\n",
    "- It is both an art (heuristic based) and a science (systematic and can use ML)"
   ]
  },
  {
   "cell_type": "markdown",
   "metadata": {
    "slideshow": {
     "slide_type": "skip"
    }
   },
   "source": [
    "<center><h2>Sources of Inspiration</h2></center>\n",
    "\n",
    "- https://en.wikipedia.org/wiki/Feature_selection\n",
    "- https://sebastianraschka.com/faq/docs/feature_sele_categories.html"
   ]
  },
  {
   "cell_type": "markdown",
   "metadata": {
    "slideshow": {
     "slide_type": "slide"
    }
   },
   "source": [
    "<center><h2>The Best Data Visualizations are Feature Projection Methods</h2></center>\n",
    "<br>\n",
    "<br>\n",
    "Humans can only visualize in 1-3 dimensions.\n",
    "\n",
    "Interesting data often has __many__ more dimensions.\n",
    "\n"
   ]
  },
  {
   "cell_type": "markdown",
   "metadata": {
    "slideshow": {
     "slide_type": "skip"
    }
   },
   "source": [
    "Feature Selection does not work well for data visualization."
   ]
  },
  {
   "cell_type": "markdown",
   "metadata": {
    "slideshow": {
     "slide_type": "slide"
    }
   },
   "source": [
    "<center><h2>Takeaways</h2></center>\n",
    "\n",
    "- Dimensionality Reduction learns a lower number of features by either subsetting (Feature Selection) or learning new dimensions (Feature Projection).\n",
    "- Feature Selection is done by:\n",
    "    + Filter - Remove features based on a model-independent criteria.\n",
    "    + Wrapper - Repeat the model fitting process, based on the results remove features.\n",
    "    + Embedded - In the model fitting processing, remove features."
   ]
  },
  {
   "cell_type": "markdown",
   "metadata": {
    "slideshow": {
     "slide_type": "slide"
    }
   },
   "source": [
    " "
   ]
  },
  {
   "cell_type": "markdown",
   "metadata": {
    "slideshow": {
     "slide_type": "slide"
    }
   },
   "source": [
    "Bonus Materials\n",
    "------"
   ]
  },
  {
   "cell_type": "markdown",
   "metadata": {},
   "source": [
    "Curse of Dimensionality means most data is in the corners in high dimensional space\n",
    "\n",
    "> if you pick a random point in a unit square (a 1×1 square), it will have only about a 0.4% chance of being located less than 0.001 from a border( In other words, it is very unlikely that a random point will be extreme along any dimension). But in a 10,000-dimensional unit hypercube (a 1×1×1×1×1×1…×1 cube with ten thousand 1s), this probability is greater than 99.99999%. Most points in a high dimensional hypercube are very close to the border.\n",
    "\n",
    "https://datascience.stackexchange.com/questions/45690/many-things-behave-differently-in-high-dimensional-space"
   ]
  },
  {
   "cell_type": "markdown",
   "metadata": {},
   "source": [
    "<center><h2>When should we add features to a model?</h2></center>\n",
    "\n",
    "Adding features either increases or maintains the predictive ability of a model. In other words, adding features will never make a model worse.\n",
    "\n",
    "We often do not know which features to add. Thus we should add as many features as possible.\n",
    "\n",
    "Sometimes we want fewer features in our final model (See Occam's Razor). We should then do feature selection."
   ]
  },
  {
   "cell_type": "markdown",
   "metadata": {
    "slideshow": {
     "slide_type": "slide"
    }
   },
   "source": [
    "<center><h2>Discrete Dimensionality Reduction</h2></center>\n",
    "\n",
    "[Factor Analysis](https://en.wikipedia.org/wiki/Factor_analysis)\n",
    "\n",
    "\n",
    "Very useful for survey data."
   ]
  },
  {
   "cell_type": "markdown",
   "metadata": {
    "slideshow": {
     "slide_type": "slide"
    }
   },
   "source": [
    "Dimensionality Reduction for Visualization\n",
    "------\n",
    "\n",
    "<center><img src=\"https://lvdmaaten.github.io/tsne/examples/caltech101_tsne.jpg\" width=\"25%\"/></center>\n",
    "\n",
    "[Larger version of image](https://lvdmaaten.github.io/tsne/examples/caltech101_tsne.jpg)\n",
    "\n",
    "T-distributed Stochastic Neighbor Embedding (t-SNE) is currently popular.\n",
    "\n",
    "Uses KL divergence!\n",
    "\n",
    "(There are many others)"
   ]
  },
  {
   "cell_type": "code",
   "execution_count": 52,
   "metadata": {
    "slideshow": {
     "slide_type": "slide"
    }
   },
   "outputs": [],
   "source": [
    "# In scikit-learn\n",
    "\n",
    "from sklearn.manifold import TSNE"
   ]
  },
  {
   "cell_type": "markdown",
   "metadata": {
    "slideshow": {
     "slide_type": "skip"
    }
   },
   "source": [
    "Source:\n",
    "\n",
    "- https://lvdmaaten.github.io/tsne/\n",
    "- Data Reduction Techniques for Scientific Visualization and Data Analysis https://pdfs.semanticscholar.org/e555/db81c878deb01f0e8003bc90a30898e3d518.pdf\n"
   ]
  }
 ],
 "metadata": {
  "kernelspec": {
   "display_name": "Python 3",
   "language": "python",
   "name": "python3"
  },
  "language_info": {
   "codemirror_mode": {
    "name": "ipython",
    "version": 3
   },
   "file_extension": ".py",
   "mimetype": "text/x-python",
   "name": "python",
   "nbconvert_exporter": "python",
   "pygments_lexer": "ipython3",
   "version": "3.8.5"
  },
  "toc": {
   "base_numbering": 1,
   "nav_menu": {},
   "number_sections": false,
   "sideBar": false,
   "skip_h1_title": false,
   "title_cell": "Table of Contents",
   "title_sidebar": "Contents",
   "toc_cell": true,
   "toc_position": {},
   "toc_section_display": true,
   "toc_window_display": false
  }
 },
 "nbformat": 4,
 "nbformat_minor": 2
}
