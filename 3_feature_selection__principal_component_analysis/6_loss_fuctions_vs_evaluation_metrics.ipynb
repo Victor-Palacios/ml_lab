{
 "cells": [
  {
   "cell_type": "markdown",
   "metadata": {
    "slideshow": {
     "slide_type": "skip"
    },
    "toc": true
   },
   "source": [
    "<h1>Table of Contents<span class=\"tocSkip\"></span></h1>\n",
    "<div class=\"toc\"><ul class=\"toc-item\"><li><span><a href=\"#Loss-Functions-vs-Evaluation-Metrics\" data-toc-modified-id=\"Loss-Functions-vs-Evaluation-Metrics-1\">Loss Functions vs Evaluation Metrics</a></span></li><li><span><a href=\"#Learning-Outcomes\" data-toc-modified-id=\"Learning-Outcomes-2\">Learning Outcomes</a></span></li><li><span><a href=\"#Machine-Learning-Process\" data-toc-modified-id=\"Machine-Learning-Process-3\">Machine Learning Process</a></span></li><li><span><a href=\"#What-is-the-relationship-between-an-error-and-a-loss?\" data-toc-modified-id=\"What-is-the-relationship-between-an-error-and-a-loss?-4\">What is the relationship between an error and a loss?</a></span></li><li><span><a href=\"#What-is-a-loss-function?\" data-toc-modified-id=\"What-is-a-loss-function?-5\">What is a loss function?</a></span></li><li><span><a href=\"#What-are-examples-of-loss-functions?\" data-toc-modified-id=\"What-are-examples-of-loss-functions?-6\">What are examples of loss functions?</a></span></li><li><span><a href=\"#What-is-the-difference-between-optimization-and-machine-learning-as-fields-of-study?\" data-toc-modified-id=\"What-is-the-difference-between-optimization-and-machine-learning-as-fields-of-study?-7\">What is the difference between optimization and machine learning as fields of study?</a></span></li><li><span><a href=\"#Evaluation-Metric\" data-toc-modified-id=\"Evaluation-Metric-8\">Evaluation Metric</a></span></li><li><span><a href=\"#What-are-examples-of-evaluation-metrics?\" data-toc-modified-id=\"What-are-examples-of-evaluation-metrics?-9\">What are examples of evaluation metrics?</a></span></li><li><span><a href=\"#Loss-Functions-vs-Evaluation-Metrics\" data-toc-modified-id=\"Loss-Functions-vs-Evaluation-Metrics-10\">Loss Functions vs Evaluation Metrics</a></span></li><li><span><a href=\"#What-gets-measured-gets-managed\" data-toc-modified-id=\"What-gets-measured-gets-managed-11\">What gets measured gets managed</a></span></li><li><span><a href=\"#What-is-the-difference-between-a-loss-function-and-evaluation-metric?\" data-toc-modified-id=\"What-is-the-difference-between-a-loss-function-and-evaluation-metric?-12\">What is the difference between a loss function and evaluation metric?</a></span></li><li><span><a href=\"#scikit-learn's-loss-functions\" data-toc-modified-id=\"scikit-learn's-loss-functions-13\">scikit-learn's loss functions</a></span></li><li><span><a href=\"#scikit-learn's-evaluation-metrics\" data-toc-modified-id=\"scikit-learn's-evaluation-metrics-14\">scikit-learn's evaluation metrics</a></span></li><li><span><a href=\"#Let's-build-our-own-custom-evaluation-metric\" data-toc-modified-id=\"Let's-build-our-own-custom-evaluation-metric-15\">Let's build our own custom evaluation metric</a></span></li><li><span><a href=\"#Different-job-positions-optimize-different-functions-for-different-metrics\" data-toc-modified-id=\"Different-job-positions-optimize-different-functions-for-different-metrics-16\">Different job positions optimize different functions for different metrics</a></span></li><li><span><a href=\"#What-are-examples-of-business-metrics?\" data-toc-modified-id=\"What-are-examples-of-business-metrics?-17\">What are examples of business metrics?</a></span></li><li><span><a href=\"#&quot;North-Star&quot;-metric\" data-toc-modified-id=\"&quot;North-Star&quot;-metric-18\">\"North Star\" metric</a></span></li><li><span><a href=\"#Move-beyond-test-dataset-performance\" data-toc-modified-id=\"Move-beyond-test-dataset-performance-19\">Move beyond test dataset performance</a></span></li><li><span><a href=\"#Takeaways\" data-toc-modified-id=\"Takeaways-20\">Takeaways</a></span></li><li><span><a href=\"#Sources-of-Inspiration\" data-toc-modified-id=\"Sources-of-Inspiration-21\">Sources of Inspiration</a></span></li><li><span><a href=\"#Bonus-Material\" data-toc-modified-id=\"Bonus-Material-22\">Bonus Material</a></span></li><li><span><a href=\"#McNamara-Fallacy\" data-toc-modified-id=\"McNamara-Fallacy-23\">McNamara Fallacy</a></span></li></ul></div>"
   ]
  },
  {
   "cell_type": "markdown",
   "metadata": {
    "slideshow": {
     "slide_type": "slide"
    }
   },
   "source": [
    "<center><h2>Loss Functions vs Evaluation Metrics</h2></center>\n",
    "\n",
    "<center><img src=\"../images/1_x7P7gqjo8k2_bj2rTQWAfg.jpeg\" width=\"50%\"/></center>"
   ]
  },
  {
   "cell_type": "markdown",
   "metadata": {
    "slideshow": {
     "slide_type": "slide"
    }
   },
   "source": [
    "<center><h2>Learning Outcomes</h2></center>\n",
    "\n",
    "__By the end of this notebook, you should be able to__:\n",
    "\n",
    "- Define:\n",
    "    - Machine learning errors\n",
    "    - Loss function\n",
    "    - Evaluation metrics\n",
    "- Discuss the relationship between machine learning goals and business goals.\n",
    "- Explain how scikit-learn handles loss functions and evaluation metrics."
   ]
  },
  {
   "cell_type": "markdown",
   "metadata": {
    "slideshow": {
     "slide_type": "slide"
    }
   },
   "source": [
    "<center><h2>Machine Learning Process</h2></center>\n",
    "\n",
    "<center><img src=\"../images/ml_steps.png\" width=\"100%\"/></center>"
   ]
  },
  {
   "cell_type": "markdown",
   "metadata": {
    "slideshow": {
     "slide_type": "fragment"
    }
   },
   "source": [
    "Given our features, we want our model to make fewer missed predictions."
   ]
  },
  {
   "cell_type": "markdown",
   "metadata": {
    "slideshow": {
     "slide_type": "slide"
    }
   },
   "source": [
    "<center><h2>What is the relationship between an error and a loss?</h2></center>\n",
    "\n",
    "\n",
    "Error is a missed prediction. $Error = y - \\hat y$\n",
    "\n",
    "Loss is a __weighted__ missed prediction."
   ]
  },
  {
   "cell_type": "markdown",
   "metadata": {
    "slideshow": {
     "slide_type": "slide"
    }
   },
   "source": [
    "<center><h2>What is a loss function?</h2></center>\n",
    "\n",
    "- Maps an event onto a real number representing the error associated with predictions made by the current model weights."
   ]
  },
  {
   "cell_type": "markdown",
   "metadata": {
    "slideshow": {
     "slide_type": "fragment"
    }
   },
   "source": [
    "- Minimized by the optimizer to change model weights."
   ]
  },
  {
   "cell_type": "markdown",
   "metadata": {
    "slideshow": {
     "slide_type": "fragment"
    }
   },
   "source": [
    "- Also called the cost function.  Sometimes a loss function is used for a single data point and cost function is used for aggregation, typically mean across all datapoints)\n",
    "- Also called objective function. That is the more general term, often used in the field Optimization."
   ]
  },
  {
   "cell_type": "markdown",
   "metadata": {
    "slideshow": {
     "slide_type": "slide"
    }
   },
   "source": [
    "<center><h2>What are examples of loss functions?</h2></center>"
   ]
  },
  {
   "cell_type": "markdown",
   "metadata": {
    "slideshow": {
     "slide_type": "fragment"
    }
   },
   "source": [
    "- Regression\n",
    "    - Mean Square Error (MSE) $L = \\frac{1}{n}\\sum_{i=0}^n(y - \\hat y)^2$\n",
    "    - Mean Absolute Error (MAE)  $L = \\frac{1}{n}\\sum_{i=0}^n|y - \\hat y|$ \n",
    "    - There are many more (e.g., Huber and [other](https://heartbeat.fritz.ai/5-regression-loss-functions-all-machine-learners-should-know-4fb140e9d4b0?gi=ff365d078879))\n"
   ]
  },
  {
   "cell_type": "markdown",
   "metadata": {
    "slideshow": {
     "slide_type": "fragment"
    }
   },
   "source": [
    "- Classification\n",
    "    - 0-1 loss function $L = I(y ≠ \\hat y)$ (I is the indicator function)\n",
    "    - Categorical cross-entropy\n",
    "    - Log loss\n",
    "    - Kullback–Leibler divergence (aka, relative entropy) "
   ]
  },
  {
   "cell_type": "markdown",
   "metadata": {
    "slideshow": {
     "slide_type": "slide"
    }
   },
   "source": [
    "<center><h2>What is the difference between optimization and machine learning as fields of study?</h2></center>"
   ]
  },
  {
   "cell_type": "markdown",
   "metadata": {
    "slideshow": {
     "slide_type": "fragment"
    }
   },
   "source": [
    "Optimization only cares about training error.\n",
    "\n",
    "Machine learning also cares about generalization error."
   ]
  },
  {
   "cell_type": "markdown",
   "metadata": {
    "slideshow": {
     "slide_type": "slide"
    }
   },
   "source": [
    "<center><h2>Evaluation Metric</h2></center>\n",
    "\n",
    "<center><img src=\"../images/naked.jpg\" width=\"40%\"/></center>\n",
    "\n",
    "A number used to judge the performance of your model.\n",
    "\n",
    "The evaluation metric for model validation has to be the same throughout the the hyperparameter search process in order fairly compare different models."
   ]
  },
  {
   "cell_type": "markdown",
   "metadata": {
    "slideshow": {
     "slide_type": "fragment"
    }
   },
   "source": [
    "Nothing to do with the optimization process."
   ]
  },
  {
   "cell_type": "markdown",
   "metadata": {
    "slideshow": {
     "slide_type": "slide"
    }
   },
   "source": [
    "<center><h2>What are examples of evaluation metrics?</h2></center>"
   ]
  },
  {
   "cell_type": "markdown",
   "metadata": {
    "slideshow": {
     "slide_type": "fragment"
    }
   },
   "source": [
    "- R<sup>2</sup>\n",
    "- Accuracy\n",
    "- True Positive / False Positive / True Negative / False Negative\n",
    "- Precision / Recall / F Score"
   ]
  },
  {
   "cell_type": "markdown",
   "metadata": {},
   "source": [
    "<center><h2>Loss Functions vs Evaluation Metrics</h2></center>\n",
    "\n",
    "<center><img src=\"http://broadwayeducators.com/wp-content/uploads/2015/03/rehearsing-50.jpg\" width=\"75%\"/></center>\n",
    "<center>Loss function is feedback from the director during rehearsal</center>\n",
    "<br>\n",
    "<br>\n",
    "<center><img src=\"http://resizer.shared.arcpublishing.com/7gQMn8qp7nUaLKvwO1jnf2waUPE=/arc-anglerfish-arc2-prod-bonnier/public/F3XN4IDT7QE6CA3II7KEPFGTYM.jpg\" width=\"75%\"/></center>\n",
    "<center>Evaluation metric is audience applause for final performance</center>\n",
    "\n"
   ]
  },
  {
   "cell_type": "markdown",
   "metadata": {},
   "source": [
    "<center><img src=\"http://alerttech.net/wp-content/uploads/2016/05/quote-what-gets-measured-gets-managed-peter-drucker-54-72-04.jpg\" width=\"75%\"/></center>"
   ]
  },
  {
   "cell_type": "markdown",
   "metadata": {},
   "source": [
    "<center><h2>What gets measured gets managed</h2></center>\n",
    "\n",
    "Loss functions:\n",
    "\n",
    "- Only measure prediction error \n",
    "\n",
    "Evaluation metrics:\n",
    "\n",
    "- Can measure prediction error\n",
    "- Complexity of model\n",
    "- Combine prediction error and complexity\n",
    "- Size of model\n",
    "- Speed\n",
    "    - Speed of updating\n",
    "    - Speed of prediction\n",
    "- Ease of use\n",
    "- Robustness\n",
    "- Interoperability / explainability\n",
    "- Sell-ability\n",
    "- Computational cost (energy use)\n",
    "-  fairness\n",
    "- Many other requirements. "
   ]
  },
  {
   "cell_type": "markdown",
   "metadata": {
    "slideshow": {
     "slide_type": "slide"
    }
   },
   "source": [
    "<center><h2>What is the difference between a loss function and evaluation metric?</h2></center>\n",
    "\n",
    "Loss function related to engineering - find a reasonable solution to a well-defined problem.\n",
    "\n",
    "Loss functions have to have special properties:\n",
    "\n",
    "- Goes down as model performance goes up.\n",
    "- Loss functions are only for optimization, thus has to works well with optimizers. Optimization techniques tend to be extremely limited to effectively and efficiently find a solution.\n",
    "    - Differentiable so gradient decent optimization can be applied.\n",
    "    - Has a nice gradient. For example, we don't use cubed loss (or higher functions) for in regression\n",
    "\n",
    "Evaluation metrics are research and development - explore and report back."
   ]
  },
  {
   "cell_type": "markdown",
   "metadata": {
    "slideshow": {
     "slide_type": "fragment"
    }
   },
   "source": [
    "__All loss functions can be evaluation metrics.__   \n",
    "__However, not all evaluation metrics can be loss functions.__"
   ]
  },
  {
   "cell_type": "markdown",
   "metadata": {
    "slideshow": {
     "slide_type": "skip"
    }
   },
   "source": [
    "[Source](https://stackoverflow.com/questions/47302085/what-is-metrics-in-keras)"
   ]
  },
  {
   "cell_type": "markdown",
   "metadata": {},
   "source": [
    "\n",
    "\n",
    "| Loss Function | Evaluation Metric  |  \n",
    "|:-------|:------|\n",
    "| Can only be one per model | Can be many per model |\n",
    "| Only measures performance on training set | Measure performance on both training, validation, and test set|  \n",
    "| Only measure prediction error | Can measure prediction error and many things| \n",
    "| Computer-centric | Human-centric |\n",
    "\n"
   ]
  },
  {
   "cell_type": "markdown",
   "metadata": {},
   "source": [
    "<center><h2>Check for understanding</h2></center>\n",
    "\n",
    "Can Loss Function and Evaluation Metric be the same?"
   ]
  },
  {
   "cell_type": "markdown",
   "metadata": {},
   "source": [
    "Yes! They can be the same. That means the computer and the humans are using the same scorecard. That is good situation since because both groups are aligned. However, that means the human must think like the computer. \n",
    "\n",
    "In most situations Loss Function and Evaluation Metric should be different. Functions that work well for optimization are often difficult for less-techncial people to understand. For example, most CEOs are not going to understand MSE. It would be better to frame the results in business metrics, such as missed revenue. "
   ]
  },
  {
   "cell_type": "markdown",
   "metadata": {
    "slideshow": {
     "slide_type": "slide"
    }
   },
   "source": [
    "<center><h2>scikit-learn's loss functions</h2></center>\n",
    "\n",
    "Scikit-learn uses a standard set of loss functions. Linear model loss functions [here](https://scikit-learn.org/stable/modules/linear_model.html)."
   ]
  },
  {
   "cell_type": "markdown",
   "metadata": {
    "slideshow": {
     "slide_type": "fragment"
    }
   },
   "source": [
    "Does not custom loss function. See discussion [here](https://github.com/scikit-learn/scikit-learn/issues/4424)."
   ]
  },
  {
   "cell_type": "markdown",
   "metadata": {
    "slideshow": {
     "slide_type": "fragment"
    }
   },
   "source": [
    "Function calls in Python are sloooooow. A loss function can be called thousands of times on a single model to find its parameters. Thus, scikit-learn only supports a small number of standard loss functions."
   ]
  },
  {
   "cell_type": "markdown",
   "metadata": {
    "slideshow": {
     "slide_type": "slide"
    }
   },
   "source": [
    "<center><h2>scikit-learn's evaluation metrics</h2></center>\n",
    "\n",
    "Scikit-learn has many, many metrics [here](https://scikit-learn.org/stable/modules/classes.html#regression-metrics)."
   ]
  },
  {
   "cell_type": "markdown",
   "metadata": {
    "slideshow": {
     "slide_type": "fragment"
    }
   },
   "source": [
    "Scikit-learn regression metrics [here](https://scikit-learn.org/stable/modules/model_evaluation.html#regression-metrics)."
   ]
  },
  {
   "cell_type": "markdown",
   "metadata": {
    "slideshow": {
     "slide_type": "fragment"
    }
   },
   "source": [
    "Scikit-learn allows you to easily define custom evaluations metrics."
   ]
  },
  {
   "cell_type": "markdown",
   "metadata": {},
   "source": [
    "<center><h2>Let's build our own custom evaluation metric</h2></center>\n",
    "\n",
    "Remember how I talked about cubed error as not appropriate for a loss function. Well cubed error can be a evaluation function.\n",
    "\n",
    "How should code it up?\n",
    "\n",
    "1. ~steal~ be inspired by other's code. Let's start with [scikit-learn mse](https://scikit-learn.org/stable/modules/generated/sklearn.metrics.mean_squared_error.html)\n",
    "2. Explore results\n",
    "3. Confirm with tests"
   ]
  },
  {
   "cell_type": "code",
   "execution_count": 28,
   "metadata": {},
   "outputs": [],
   "source": [
    "import numpy as np\n",
    "\n",
    "def mean_cubed_error(y_true, y_pred):\n",
    "    \"\"\"Mean cubed error regression loss.\n",
    "    \n",
    "    If 2 (squared) is good, 3 (cubed) is gooder!\n",
    "    A terrible hack of https://github.com/scikit-learn/scikit-learn/blob/b3ea3ed6a/sklearn/metrics/_regression.py#L274\n",
    "    Take absolute value so errors are always positive.\n",
    "    \"\"\"\n",
    "    output_errors = np.average(np.abs((y_true - y_pred) ** 3), axis=0)\n",
    "    return output_errors\n",
    "    \n",
    "# Every function that does computation should have a unit test\n",
    "assert mean_cubed_error(np.array([0]), np.array([0])) == 0\n",
    "assert mean_cubed_error(np.array([1]), np.array([2])) == 1\n",
    "assert mean_cubed_error(np.array([1]), np.array([3])) == 8\n",
    "assert mean_cubed_error(np.array([0, 1]), np.array([0, 2])) == .5"
   ]
  },
  {
   "cell_type": "code",
   "execution_count": 29,
   "metadata": {},
   "outputs": [
    {
     "name": "stdout",
     "output_type": "stream",
     "text": [
      "Mean squared error:     2,807.75\n",
      "Mean cubed error:     212,703.26\n"
     ]
    }
   ],
   "source": [
    "# Re-use our previous code\n",
    "from sklearn.datasets        import load_diabetes\n",
    "from sklearn.linear_model    import LinearRegression\n",
    "from sklearn.metrics         import mean_squared_error\n",
    "from sklearn.model_selection import train_test_split\n",
    "from sklearn.pipeline        import Pipeline\n",
    "from sklearn.preprocessing   import StandardScaler\n",
    "\n",
    "X, y = load_diabetes(return_X_y=True)\n",
    "X_train, X_validation, y_train, y_validation= train_test_split(X, y)\n",
    "\n",
    "pipe = Pipeline([('scaler', StandardScaler()), \n",
    "                 ('lr',     LinearRegression())])\n",
    "\n",
    "pipe.fit(X_train, y_train)\n",
    "y_pred = pipe.predict(X_validation)\n",
    "mse = mean_squared_error(y_validation, y_pred)\n",
    "print(f\"Mean squared error: {mse:>12,.2f}\")\n",
    "\n",
    "mce = mean_cubed_error(y_validation, y_pred)\n",
    "print(f\"Mean cubed error:   {mce:>12,.2f}\")"
   ]
  },
  {
   "cell_type": "code",
   "execution_count": 30,
   "metadata": {},
   "outputs": [],
   "source": [
    "# Let's integrate our custom with the scikit-learn package\n",
    "\n",
    "from sklearn.metrics import make_scorer\n",
    "\n",
    "cubed_scorer = make_scorer(mean_cubed_error)\n",
    "\n",
    "# Now can play nicely with other part of scikit-learn, like cross validation (CV)"
   ]
  },
  {
   "cell_type": "markdown",
   "metadata": {
    "slideshow": {
     "slide_type": "slide"
    }
   },
   "source": [
    "<center><h2>Different job positions optimize different functions for different metrics</h2></center>"
   ]
  },
  {
   "cell_type": "markdown",
   "metadata": {
    "slideshow": {
     "slide_type": "fragment"
    }
   },
   "source": [
    "\n",
    "Data Scientists optimize the loss function to improve model evaluation metrics."
   ]
  },
  {
   "cell_type": "markdown",
   "metadata": {
    "slideshow": {
     "slide_type": "fragment"
    }
   },
   "source": [
    "Product Managers optimize the business function to improve business metrics."
   ]
  },
  {
   "cell_type": "markdown",
   "metadata": {
    "slideshow": {
     "slide_type": "slide"
    }
   },
   "source": [
    "<center><h2>What are examples of business metrics?</h2></center>"
   ]
  },
  {
   "cell_type": "markdown",
   "metadata": {
    "slideshow": {
     "slide_type": "fragment"
    }
   },
   "source": [
    "- Profit"
   ]
  },
  {
   "cell_type": "markdown",
   "metadata": {
    "slideshow": {
     "slide_type": "fragment"
    }
   },
   "source": [
    "- Revenue \n",
    "- Profit/revenue per employee (one of my favorites because it measures the business efficiency)\n",
    "- Long term value (LTV)\n",
    "- Customer acquisition cost (CAC) \n",
    "- Return on investment (ROI)"
   ]
  },
  {
   "cell_type": "markdown",
   "metadata": {
    "slideshow": {
     "slide_type": "skip"
    }
   },
   "source": [
    "That is why machine learning is not widely adopted. \n",
    "\n",
    "Business leaders do not see the direct relationship between it and business value."
   ]
  },
  {
   "cell_type": "markdown",
   "metadata": {
    "slideshow": {
     "slide_type": "slide"
    }
   },
   "source": [
    "<center><h2>\"North Star\" metric</h2></center>\n",
    "\n",
    "A single number that the project is delivering for the business and data scientist can directly improve.\n",
    "\n",
    "Everyone uses the same scorecard to judge current champion model 🏆."
   ]
  },
  {
   "cell_type": "markdown",
   "metadata": {},
   "source": [
    "<center><h2>Move beyond test dataset performance</h2></center>\n",
    "\n",
    "Supervised learning algorithms have become really good at achieving high evaluation metric performance on test datasets. As valuable as this is, unfortunately maximizing average test set accuracy isn’t always enough. \n",
    "\n",
    "Avoid this conversation:\n",
    "\n",
    "> Machine learning engineer: It did well on the test set!\n",
    "\n",
    "> Customer / Product manager: But it doesn’t work for in the application.\n",
    "\n",
    "> Machine learning engineer: But . . . It did well on the test set!\n",
    "\n",
    "You need care about robustness and generalization.\n",
    "\n",
    "In a production deployment, performance can degrade due to concept drift (where the function mapping from x->y changes; say, the model predicts housing prices y and inflation causes prices to rise) and data drift (where the input distribution changes). One important subset of data drift relates to performance on classes that are rare in or absent from the training set. Test evaluation is overall (typically average). However, business do not always care about averages. Some items are more important than others.\n",
    "\n",
    "You job is to solve the problem at hand. Test dataset performance is a step towards that. \n",
    "\n",
    "<center><img src=\"https://i.pinimg.com/originals/92/6a/d7/926ad768eddc13dad179e383f71d061c.jpg\" width=\"75%\"/></center>\n",
    "\n",
    "You may need visualizations, larger datasets, more robust algorithms, performance audits, deployment processes like human-in-the-loop, and other tools.\n",
    "\n",
    "Source - Communication with Andrew Ng"
   ]
  },
  {
   "cell_type": "markdown",
   "metadata": {
    "slideshow": {
     "slide_type": "slide"
    }
   },
   "source": [
    "<center><h2>Takeaways</h2></center>\n",
    "\n",
    "- Loss is a weighted missed prediction.\n",
    "- Evaluation metrics can be independent of the loss function and should be aligned with business.\n",
    "- Scikit-learn favors traditional loss functions and custom evaluation metrics."
   ]
  },
  {
   "cell_type": "markdown",
   "metadata": {
    "slideshow": {
     "slide_type": "slide"
    }
   },
   "source": [
    "<br>"
   ]
  },
  {
   "cell_type": "markdown",
   "metadata": {},
   "source": [
    "<center><h2>Sources of Inspiration</h2></center>\n",
    "\n",
    "- https://datascience.stackexchange.com/questions/82224/match-between-objective-function-and-evaluation-metric/88512#88512\n",
    "- https://codeascraft.com/2020/08/03/causal-inference-to-pick-north-star-metric-for-algorithms-to-optimize-business-kpi/\n",
    "- https://stats.stackexchange.com/questions/321460/dice-coefficient-loss-function-vs-cross-entropy/344244#344244\n",
    "- https://ai.googleblog.com/2020/04/optimizing-multiple-loss-functions-with.html\n",
    "- https://towardsdatascience.com/metric-learning-loss-functions-5b67b3da99a5"
   ]
  },
  {
   "cell_type": "markdown",
   "metadata": {
    "slideshow": {
     "slide_type": "slide"
    }
   },
   "source": [
    "<center><h2>Bonus Material</h2></center>"
   ]
  },
  {
   "cell_type": "markdown",
   "metadata": {},
   "source": [
    "<center><h2>McNamara Fallacy</h2></center>\n",
    "\n",
    "The McNamara Fallacy is named after former US Secretary of Defense, Robert McNamara, who, during the Vietnam War, based his related decisions on quantitative metrics which were easily obtainable while ignoring others. This led to his treatment of body counts (easily obtainable metric) as the sole indicator of success, at the expense of all other quantitative measures.\n",
    "\n",
    "Without dispensing much mental power, it should be relatively straightforward to see how a simple body count comparison could lead you astray when evaluating your performance on the battlefield. As one simple example, perhaps the enemy is pushing into your territory with disproportionate numbers of fighters and taking control as they do, but are losing slightly more bodies than you are as they do so. As another, perhaps the enemy is taking your fighters prisoner at a much higher rate than you are killing theirs. And so on.\n",
    "\n",
    "Putting the statistical blinders on and placing all of your trust in a single, simple metric wasn't good enough to paint a full picture of what was happening in Vietnam, and it's not going to paint a full picture of whatever it is that you are doing."
   ]
  }
 ],
 "metadata": {
  "kernelspec": {
   "display_name": "Python 3",
   "language": "python",
   "name": "python3"
  },
  "language_info": {
   "codemirror_mode": {
    "name": "ipython",
    "version": 3
   },
   "file_extension": ".py",
   "mimetype": "text/x-python",
   "name": "python",
   "nbconvert_exporter": "python",
   "pygments_lexer": "ipython3",
   "version": "3.8.5"
  },
  "toc": {
   "base_numbering": 1,
   "nav_menu": {},
   "number_sections": false,
   "sideBar": false,
   "skip_h1_title": false,
   "title_cell": "Table of Contents",
   "title_sidebar": "Contents",
   "toc_cell": true,
   "toc_position": {},
   "toc_section_display": true,
   "toc_window_display": false
  }
 },
 "nbformat": 4,
 "nbformat_minor": 2
}
