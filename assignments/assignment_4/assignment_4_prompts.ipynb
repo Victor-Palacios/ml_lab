{
  "cells": [
    {
      "cell_type": "markdown",
      "source": [
        "<h1>Table of Contents<span class=\"tocSkip\"></span></h1>\n",
        "<div class=\"toc\"><ul class=\"toc-item\"><li><span><a href=\"#Assignment-#4:-Imbalanced-data\" data-toc-modified-id=\"Assignment-#4:-Imbalanced-data-1\">Assignment #4: Imbalanced data</a></span></li><li><span><a href=\"#Instructions\" data-toc-modified-id=\"Instructions-2\">Instructions</a></span></li><li><span><a href=\"#Rubric\" data-toc-modified-id=\"Rubric-3\">Rubric</a></span></li><li><span><a href=\"#Hints\" data-toc-modified-id=\"Hints-4\">Hints</a></span></li></ul></div>"
      ],
      "metadata": {
        "nbgrader": {
          "grade": false,
          "grade_id": "cell-dd55f790ea5b2b8d",
          "locked": true,
          "schema_version": 3,
          "solution": false,
          "task": false
        },
        "toc": true
      }
    },
    {
      "cell_type": "markdown",
      "source": [
        "Assignment #4: Imbalanced data\n",
        "----\n",
        "<br>\n",
        "<br>\n",
        "<center><img src=\"https://i.imgur.com/l2nHgCi.png\" width=\"75%\"/></center>\n",
        "\n",
        "Can a linear model learn to predict extremely unbalanced data (i.e., fraud / not-fraud for credit card transactions)?\n",
        "\n",
        "| Feature | Definition |  Key |\n",
        "|:-------|:------|:------|\n",
        "|Time | Time elapsed between each transaction and the first transaction in seconds. |\n",
        "|V1 … V28 | Numeric variables from Principal Component Analysis (PCA). <br>To protect the confidentiality of the transactions no other information is available. |\n",
        "|Amount | Transaction amount |\n",
        "|Class | Target | 0 = Not Fraud,<br> 1 = Fraud |"
      ],
      "metadata": {
        "nbgrader": {
          "grade": false,
          "grade_id": "cell-db84f424969cdde6",
          "locked": true,
          "schema_version": 3,
          "solution": false,
          "task": false
        }
      }
    },
    {
      "cell_type": "markdown",
      "source": [
        "Instructions\n",
        "--------\n",
        "\n",
        "- This is a team assignment. Teams are randomly assigned through Canvas. A single notebook will be submitted per team.\n",
        "- The only resources you can use are:\n",
        "    * Course materials\n",
        "    * scikit-learn and related packages documentation\n",
        "    * Your team mates\n",
        "- You should not use or reference anything else, including, but not limited to, non-team classmates and Internet websites.\n",
        "- Complete each TODO.\n",
        "- No other imports are allowed in this notebook.\n",
        "- Do not remove anything from this notebook.\n",
        "- Do not set `random_state` or any random state. Your model should be robust to small variations.\n",
        "- Prediction on unseen is the primary goal of machine learning, thus a significant number of points are based on your model's performance on hold-out data that you do not have access to.\n",
        "- See [coding guidelines](https://github.com/brianspiering/ml_lab/blob/main/resources/coding_guidelines.md), [coding review rubric](https://github.com/brianspiering/ml_lab/blob/main/resources/code_review_rubric.md), and course materials for how code will be evaluated.\n",
        "- For the sake of consistency and speed everyone is going to use the same preprocessing and classifier.\n",
        "\n",
        "```python\n",
        "pipe = make_pipeline(\n",
        "                    StandardScaler(),\n",
        "                    LogisticRegression(solver='liblinear',\n",
        "                                       class_weight=None,)\n",
        "                    )\n",
        "```\n",
        "- The difference in evaluation performance on test will only be do how you handle class imbalances with `imblearn` package.\n",
        "- __Only submit final code.__ There should be no extra code or commented out code. You can do cross-validation however you want, but that code is not to appear in this notebook.\n",
        "\n\n",
        "Rubric\n",
        "-------\n",
        "\n",
        "Total: __ / 14 points\n",
        "\n",
        "- __ / 2 points - Followed all directions as written and intended.\n",
        "- __ / 2 points - Code runs completely on first try on instructor's computer.\n",
        "- __ / 2 points - Use imblearn package\n",
        "- __ / 1 point - Explicitly set imblearn hyperparameters.\n",
        "- __ / 1 point - Meets all coding guidelines / Idiomatic scikit-learn code.\n",
        "- __ / 2 points - Passed Level 1 test set performance. These point are all or none passed on tests.\n",
        "- __ / 2 points - Passed Level 2 test set performance. These point are all or none passed on tests.\n",
        "- __ / 2 points - Passed Level 3 test set performance. These point are all or none passed on tests.\n",
        "\n\n",
        "Hints\n",
        "------\n",
        "\n",
        "- Each person should attempt it individually. Then combine individual efforts in Deepnote.\n",
        "- Perform EDA in a separate notebook. I suggest the `pandas_profiling` package\n",
        "    ```\n",
        "    from pandas_profiling import ProfileReport\n",
        "    profile = ProfileReport(df, title=\"Pandas Profiling Report\")\n",
        "    profile.to_widgets()\n",
        "    profile.to_file(\"Pandas Profiling Report.html\")\n",
        "   ```\n",
        "- When using a new package, such as imbalanced-learn, read the [docs](https://imbalanced-learn.org/stable/). In particular, the user guide and examples are helpful.\n",
        "- It is your choice how to handle class imbalances using the imports provided.\n",
        "- The baseline performance of the given pipe is 0.77 on test dataset.\n",
        "- Start early! Even using RandomizedSearchCV only on imblearn hyperparameters, it takes a far bit of wall time to do automated hyperparameter search."
      ],
      "metadata": {}
    },
    {
      "cell_type": "code",
      "source": [
        "reset -fs"
      ],
      "outputs": [],
      "execution_count": 21,
      "metadata": {
        "_cell_guid": "7be856b9-7903-5cf3-19b3-fce7ece95502",
        "nbgrader": {
          "grade": false,
          "grade_id": "cell-299b781f08ccd66b",
          "locked": true,
          "schema_version": 3,
          "solution": false,
          "task": false
        }
      }
    },
    {
      "cell_type": "code",
      "source": [
        "# Imports\n",
        "# Do NOT import anything else\n",
        "import imblearn\n",
        "from   imblearn.pipeline          import make_pipeline # scikit-learn Pipeline does not work with imblearn\n",
        "import numpy as np\n",
        "import pandas as pd\n",
        "from   sklearn.linear_model       import LogisticRegression\n",
        "from   sklearn.metrics            import balanced_accuracy_score \n",
        "from   sklearn.model_selection    import RandomizedSearchCV\n",
        "from   sklearn.preprocessing      import StandardScaler"
      ],
      "outputs": [],
      "execution_count": 2,
      "metadata": {
        "_cell_guid": "21256b6b-21dd-5dbb-7e8a-43af8b852cdd",
        "deletable": false,
        "editable": false,
        "nbgrader": {
          "grade": false,
          "grade_id": "cell-590f8aa80c798cb4",
          "locked": true,
          "schema_version": 3,
          "solution": false,
          "task": false
        }
      }
    },
    {
      "cell_type": "code",
      "source": [
        "# Load data\n",
        "path = \"./\"\n",
        "X = pd.read_csv(path+\"assignment_4_X_train.csv\", header=0)\n",
        "y = pd.read_csv(path+\"assignment_4_y_train.csv\", header=0)\n",
        "y = y.values.ravel()"
      ],
      "outputs": [],
      "execution_count": 3,
      "metadata": {
        "_cell_guid": "81da29db-3d0f-60bf-3b67-0fd8dd336353",
        "nbgrader": {
          "grade": false,
          "grade_id": "cell-9d2cbd54efeceaca",
          "locked": true,
          "schema_version": 3,
          "solution": false,
          "task": false
        }
      }
    },
    {
      "cell_type": "code",
      "source": [
        "# TODO: Create your best model for the data\n",
        "\n"
      ],
      "outputs": [],
      "execution_count": 24,
      "metadata": {}
    },
    {
      "cell_type": "code",
      "source": [
        "# Expect pipe object\n",
        "assert \"pipe\" in dir()"
      ],
      "outputs": [],
      "execution_count": 26,
      "metadata": {
        "deletable": false,
        "editable": false
      }
    },
    {
      "cell_type": "code",
      "source": [
        "# # Evaluate final model on test set\n",
        "# # This code is commented out because you do not have access to the test set\n",
        "# path = \"../\"\n",
        "# X_test   = pd.read_csv(path+\"instructor/assignment_4_X_test.csv\", header=0)\n",
        "# y_test   = pd.read_csv(path+\"instructor/assignment_4_y_test.csv\", header=0)\n",
        "# y_test   = y_test.values.ravel()\n",
        "# y_pred   = pipe.predict(X_test)\n",
        "# acc_test = balanced_accuracy_score(y_test, y_pred)\n",
        "# print(f\"{acc_test:,.2f}\")\n",
        "# assert acc_test >= 0.79\n",
        "# print(\"Passed Level 1 test set performance 🙂\")\n",
        "\n",
        "# assert acc_test >= 0.84\n",
        "# print(\"Passed Level 2 test set performance 🙂\")\n",
        "\n",
        "# assert acc_test >= 0.89\n",
        "# print(\"Passed Level 3 test set performance 🙂\")"
      ],
      "outputs": [],
      "execution_count": 1,
      "metadata": {}
    },
    {
      "cell_type": "markdown",
      "source": [
        "<br>\n",
        "<br> \n",
        "<br>\n",
        "\n----"
      ],
      "metadata": {
        "nbgrader": {
          "grade": false,
          "grade_id": "cell-882dfe32dca0cd9e",
          "locked": true,
          "schema_version": 3,
          "solution": false,
          "task": false
        }
      }
    }
  ],
  "metadata": {
    "_change_revision": 440,
    "_is_fork": false,
    "celltoolbar": "Edit Metadata",
    "kernelspec": {
      "name": "python3",
      "language": "python",
      "display_name": "Python 3"
    },
    "language_info": {
      "name": "python",
      "version": "3.8.5",
      "mimetype": "text/x-python",
      "codemirror_mode": {
        "name": "ipython",
        "version": 3
      },
      "pygments_lexer": "ipython3",
      "nbconvert_exporter": "python",
      "file_extension": ".py"
    },
    "toc": {
      "toc_position": {},
      "skip_h1_title": false,
      "number_sections": false,
      "title_cell": "Table of Contents",
      "toc_window_display": false,
      "base_numbering": 1,
      "toc_section_display": true,
      "title_sidebar": "Contents",
      "toc_cell": true,
      "nav_menu": {},
      "sideBar": false
    },
    "kernel_info": {
      "name": "python3"
    },
    "nteract": {
      "version": "0.12.3"
    }
  },
  "nbformat": 4,
  "nbformat_minor": 1
}