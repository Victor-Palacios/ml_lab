{
 "cells": [
  {
   "cell_type": "markdown",
   "metadata": {
    "slideshow": {
     "slide_type": "skip"
    },
    "toc": true
   },
   "source": [
    "<h1>Table of Contents<span class=\"tocSkip\"></span></h1>\n",
    "<div class=\"toc\"><ul class=\"toc-item\"><li><span><a href=\"#Beyond-GMM---Kernel-Density-Estimation-(KDE)\" data-toc-modified-id=\"Beyond-GMM---Kernel-Density-Estimation-(KDE)-1\">Beyond GMM - Kernel Density Estimation (KDE)</a></span></li><li><span><a href=\"#Learning-Outcomes\" data-toc-modified-id=\"Learning-Outcomes-2\">Learning Outcomes</a></span></li><li><span><a href=\"#Parametric-Models\" data-toc-modified-id=\"Parametric-Models-3\">Parametric Models</a></span></li><li><span><a href=\"#Parametric-Models\" data-toc-modified-id=\"Parametric-Models-4\">Parametric Models</a></span></li><li><span><a href=\"#Parametric-Models\" data-toc-modified-id=\"Parametric-Models-5\">Parametric Models</a></span></li><li><span><a href=\"#Nonparametric-Models\" data-toc-modified-id=\"Nonparametric-Models-6\">Nonparametric Models</a></span></li><li><span><a href=\"#Nonparametric-Models\" data-toc-modified-id=\"Nonparametric-Models-7\">Nonparametric Models</a></span></li><li><span><a href=\"#Histogram\" data-toc-modified-id=\"Histogram-8\">Histogram</a></span></li><li><span><a href=\"#Parametric-vs-Nonparametric-Models\" data-toc-modified-id=\"Parametric-vs-Nonparametric-Models-9\">Parametric vs Nonparametric Models</a></span></li><li><span><a href=\"#Check-for-understanding\" data-toc-modified-id=\"Check-for-understanding-10\">Check for understanding</a></span></li><li><span><a href=\"#Why-nonparametric-models-should-be-your-first-choice\" data-toc-modified-id=\"Why-nonparametric-models-should-be-your-first-choice-11\">Why nonparametric models should be your first choice</a></span></li><li><span><a href=\"#Kernel-Density-Estimation-(KDE)\" data-toc-modified-id=\"Kernel-Density-Estimation-(KDE)-12\">Kernel Density Estimation (KDE)</a></span></li><li><span><a href=\"#Kernel-Density-Estimation-(KDE)\" data-toc-modified-id=\"Kernel-Density-Estimation-(KDE)-13\">Kernel Density Estimation (KDE)</a></span></li><li><span><a href=\"#What-is-a-Kernel?\" data-toc-modified-id=\"What-is-a-Kernel?-14\">What is a Kernel?</a></span></li><li><span><a href=\"#Applying-Kernels\" data-toc-modified-id=\"Applying-Kernels-15\">Applying Kernels</a></span></li><li><span><a href=\"#There-is-no-fitting-/-training-step-since-there-are-no-parameters-to-estimate.\" data-toc-modified-id=\"There-is-no-fitting-/-training-step-since-there-are-no-parameters-to-estimate.-16\">There is no fitting / training step since there are no parameters to estimate.</a></span></li><li><span><a href=\"#KDE-Kernels\" data-toc-modified-id=\"KDE-Kernels-17\">KDE Kernels</a></span></li><li><span><a href=\"#Gaussian-kernels\" data-toc-modified-id=\"Gaussian-kernels-18\">Gaussian kernels</a></span></li><li><span><a href=\"#KDE--Bandwidth\" data-toc-modified-id=\"KDE--Bandwidth-19\">KDE  Bandwidth</a></span></li><li><span><a href=\"#Check-for-understanding\" data-toc-modified-id=\"Check-for-understanding-20\">Check for understanding</a></span></li><li><span><a href=\"#Kernel-density-estimation-(KDE)-for-nonparametric-density-based-clustering\" data-toc-modified-id=\"Kernel-density-estimation-(KDE)-for-nonparametric-density-based-clustering-21\">Kernel density estimation (KDE) for nonparametric density-based clustering</a></span></li><li><span><a href=\"#Kernel-Density-Estimation-Advantages:\" data-toc-modified-id=\"Kernel-Density-Estimation-Advantages:-22\">Kernel Density Estimation Advantages:</a></span></li><li><span><a href=\"#What-can-you-do-with-KDE-estimates?\" data-toc-modified-id=\"What-can-you-do-with-KDE-estimates?-23\">What can you do with KDE estimates?</a></span></li><li><span><a href=\"#scikit-learn's-MeanShift-Kernel\" data-toc-modified-id=\"scikit-learn's-MeanShift-Kernel-24\">scikit-learn's MeanShift Kernel</a></span></li><li><span><a href=\"#Takeaways\" data-toc-modified-id=\"Takeaways-25\">Takeaways</a></span></li><li><span><a href=\"#Further-Study\" data-toc-modified-id=\"Further-Study-26\">Further Study</a></span></li></ul></div>"
   ]
  },
  {
   "cell_type": "markdown",
   "metadata": {
    "slideshow": {
     "slide_type": "slide"
    }
   },
   "source": [
    "<center><h2>Parametric Models</h2></center>\n",
    "\n",
    "Assume a functional form of the data, thus there is a fixed number of parameters to fit during modeling."
   ]
  },
  {
   "cell_type": "markdown",
   "metadata": {
    "slideshow": {
     "slide_type": "slide"
    }
   },
   "source": [
    "<center><h2>Parametric Models</h2></center>"
   ]
  },
  {
   "cell_type": "markdown",
   "metadata": {
    "slideshow": {
     "slide_type": "fragment"
    }
   },
   "source": [
    "If I assume my data is distributed as a Gaussian, what parameters do I estimate?"
   ]
  },
  {
   "cell_type": "markdown",
   "metadata": {
    "slideshow": {
     "slide_type": "fragment"
    }
   },
   "source": [
    " μ, σ"
   ]
  },
  {
   "cell_type": "markdown",
   "metadata": {
    "slideshow": {
     "slide_type": "fragment"
    }
   },
   "source": [
    "If I assume my data is distributed as a Poisson, what parameters do I estimate?"
   ]
  },
  {
   "cell_type": "markdown",
   "metadata": {
    "slideshow": {
     "slide_type": "fragment"
    }
   },
   "source": [
    "λ"
   ]
  },
  {
   "cell_type": "markdown",
   "metadata": {
    "slideshow": {
     "slide_type": "slide"
    }
   },
   "source": [
    "<center><h2>Parametric Models</h2></center>\n",
    "<br>\n",
    "<br>\n",
    "\n",
    "Parametric models have fixed complexity, as measured by number of parameter, regardless of the size of the data.\n",
    "\n",
    "No matter how many data points I have, I will only estimate μ and σ for a Gaussian distribution and estimate λ for a Poisson distribution."
   ]
  },
  {
   "cell_type": "markdown",
   "metadata": {
    "slideshow": {
     "slide_type": "slide"
    }
   },
   "source": [
    "<center><h2>Nonparametric Models</h2></center>\n",
    "<br>\n",
    "\n",
    "Do __not__ assume a functional form of the data, thus there are no fixed number of parameters to fit during training.\n",
    "\n"
   ]
  },
  {
   "cell_type": "markdown",
   "metadata": {
    "slideshow": {
     "slide_type": "fragment"
    }
   },
   "source": [
    "Different types of nonparametric:\n",
    "\n",
    "1. No parameters to estimate.\n",
    "2. Number of parameters to estimate can grow with the size of the data."
   ]
  },
  {
   "cell_type": "markdown",
   "metadata": {
    "slideshow": {
     "slide_type": "skip"
    }
   },
   "source": [
    "The numbers parameters to estimate could be sub-linear, linear, or super-linear function of data size.\n",
    "\n",
    "If you assume the set of parameters could be a function, then there are an infinite number of parameters."
   ]
  },
  {
   "cell_type": "markdown",
   "metadata": {
    "slideshow": {
     "slide_type": "slide"
    }
   },
   "source": [
    "<center><h2>Nonparametric Models</h2></center>\n",
    "<br>\n",
    "\n",
    "Nonparametric modesl are constructed from information derived from the data, thus nonparametric models can grow in complexity with the complexity and size of the data."
   ]
  },
  {
   "cell_type": "markdown",
   "metadata": {
    "slideshow": {
     "slide_type": "slide"
    }
   },
   "source": [
    "<center><h2>Histogram</h2></center>\n",
    "\n",
    "<center><img src=\"../images/hist.png\" width=\"75%\"/></center>\n",
    "\n",
    "A nonparametric method to estimate the distribution of data. Make __no__ assumptions about any particular shape for the distribution."
   ]
  },
  {
   "cell_type": "markdown",
   "metadata": {
    "slideshow": {
     "slide_type": "slide"
    }
   },
   "source": [
    "<center><h2>Parametric vs Nonparametric Models</h2></center>\n",
    "\n",
    "Parametric models make stronger assumptions, thus they are more rigid and faster to fit than nonparametric models.\n",
    "\n"
   ]
  },
  {
   "cell_type": "markdown",
   "metadata": {
    "slideshow": {
     "slide_type": "fragment"
    }
   },
   "source": [
    "Nonparametric models make weaker assumptions, thus they are more flexible and slower to fit than parametric models."
   ]
  },
  {
   "cell_type": "markdown",
   "metadata": {
    "slideshow": {
     "slide_type": "skip"
    }
   },
   "source": [
    "Source: Murphy, Kevin (2012). Machine Learning: A Probabilistic Perspective. MIT)"
   ]
  },
  {
   "cell_type": "markdown",
   "metadata": {
    "slideshow": {
     "slide_type": "slide"
    }
   },
   "source": [
    "<center><h2>Check for understanding</h2></center>\n",
    "\n",
    "For the following models, parametric or nonparametric?\n",
    "\n",
    "- Linear Regression\n",
    "- k-nearest neighbors algorithm (k-NN)\n",
    "- Gaussian Mixture Model (GMM)\n",
    "- Naive Bayes"
   ]
  },
  {
   "cell_type": "markdown",
   "metadata": {
    "slideshow": {
     "slide_type": "slide"
    }
   },
   "source": [
    "Parametric Models:\n",
    "    \n",
    "- Linear Regression  \n",
    "- Gaussian Mixture Model (GMM)\n",
    "- Naive Bayes (if using multinomial or Gaussian distribution)"
   ]
  },
  {
   "cell_type": "markdown",
   "metadata": {
    "slideshow": {
     "slide_type": "fragment"
    }
   },
   "source": [
    "Nonparametric Models:\n",
    "   \n",
    "- k-nearest neighbors algorithm (k-NN)\n",
    "- Naive Bayes (if using kernel)"
   ]
  },
  {
   "cell_type": "markdown",
   "metadata": {
    "slideshow": {
     "slide_type": "slide"
    }
   },
   "source": [
    "<center><h2>Why nonparametric models should be your first choice</h2></center>"
   ]
  },
  {
   "cell_type": "markdown",
   "metadata": {
    "slideshow": {
     "slide_type": "fragment"
    }
   },
   "source": [
    "- Often, you don't know very much about the domain and your assumptions are often wrong."
   ]
  },
  {
   "cell_type": "markdown",
   "metadata": {
    "slideshow": {
     "slide_type": "fragment"
    }
   },
   "source": [
    "- Let the data speak for itself."
   ]
  },
  {
   "cell_type": "markdown",
   "metadata": {
    "slideshow": {
     "slide_type": "fragment"
    }
   },
   "source": [
    "- Compute is cheap."
   ]
  }
 ],
 "metadata": {
  "anaconda-cloud": {},
  "celltoolbar": "Slideshow",
  "kernelspec": {
   "display_name": "Python 3",
   "language": "python",
   "name": "python3"
  },
  "language_info": {
   "codemirror_mode": {
    "name": "ipython",
    "version": 3
   },
   "file_extension": ".py",
   "mimetype": "text/x-python",
   "name": "python",
   "nbconvert_exporter": "python",
   "pygments_lexer": "ipython3",
   "version": "3.8.5"
  },
  "toc": {
   "base_numbering": 1,
   "nav_menu": {},
   "number_sections": false,
   "sideBar": false,
   "skip_h1_title": false,
   "title_cell": "Table of Contents",
   "title_sidebar": "Contents",
   "toc_cell": true,
   "toc_position": {},
   "toc_section_display": true,
   "toc_window_display": false
  }
 },
 "nbformat": 4,
 "nbformat_minor": 1
}
