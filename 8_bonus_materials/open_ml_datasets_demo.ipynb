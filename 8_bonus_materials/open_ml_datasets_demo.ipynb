{
 "cells": [
  {
   "cell_type": "markdown",
   "id": "considered-jungle",
   "metadata": {
    "toc": true
   },
   "source": [
    "<h1>Table of Contents<span class=\"tocSkip\"></span></h1>\n",
    "<div class=\"toc\"><ul class=\"toc-item\"><li><span><a href=\"#OpenML-package\" data-toc-modified-id=\"OpenML-package-1\">OpenML package</a></span><ul class=\"toc-item\"><li><span><a href=\"#Sources-of-Inspiration\" data-toc-modified-id=\"Sources-of-Inspiration-1.1\">Sources of Inspiration</a></span></li></ul></li></ul></div>"
   ]
  },
  {
   "cell_type": "markdown",
   "id": "going-communication",
   "metadata": {},
   "source": [
    "<center><img src=\"../images/open_ml.jpg\" width=\"75%\"/></center>\n",
    "\n",
    "Openml is an online platform that aims at improving Open Machine Learning by providing an open, collaborative, frictionless, automated machine learning environment.\n",
    "\n",
    "You can fetch the dataset from the openml platform by using fetch_openml function from scikit-learn."
   ]
  },
  {
   "cell_type": "code",
   "execution_count": 1,
   "id": "pregnant-jason",
   "metadata": {},
   "outputs": [],
   "source": [
    "reset -fs"
   ]
  },
  {
   "cell_type": "code",
   "execution_count": null,
   "id": "statewide-flood",
   "metadata": {},
   "outputs": [],
   "source": [
    "from sklearn.datasets import fetch_openml"
   ]
  },
  {
   "cell_type": "code",
   "execution_count": 4,
   "id": "marine-government",
   "metadata": {},
   "outputs": [],
   "source": [
    "# titanic = fetch_openml(name='titanic', \n",
    "#                        version=1) # Allows for dataset versioning. Important for different options and fixing mistakes\n",
    "# titanic"
   ]
  },
  {
   "cell_type": "code",
   "execution_count": null,
   "id": "express-necessity",
   "metadata": {},
   "outputs": [],
   "source": [
    "titanic = fetch_openml(name='titanic', \n",
    "                       version=2) \n",
    "titanic"
   ]
  },
  {
   "cell_type": "code",
   "execution_count": null,
   "id": "broken-pasta",
   "metadata": {},
   "outputs": [],
   "source": [
    "titanic.DESCR"
   ]
  },
  {
   "cell_type": "code",
   "execution_count": null,
   "id": "legendary-pledge",
   "metadata": {},
   "outputs": [],
   "source": [
    "titanic = fetch_openml(name='titanic', \n",
    "                       version=1,\n",
    "                       as_frame=True)\n",
    "titanic"
   ]
  },
  {
   "cell_type": "code",
   "execution_count": null,
   "id": "advised-internet",
   "metadata": {},
   "outputs": [],
   "source": [
    "print(titanic.DESCR)"
   ]
  },
  {
   "cell_type": "markdown",
   "id": "isolated-wells",
   "metadata": {},
   "source": [
    "__The structure and quality of the raw data matters!__\n",
    "\n",
    "We'll cover encoding strings (and other things) next session."
   ]
  },
  {
   "cell_type": "code",
   "execution_count": null,
   "id": "outdoor-skirt",
   "metadata": {},
   "outputs": [],
   "source": [
    "titanic.details"
   ]
  },
  {
   "cell_type": "markdown",
   "id": "prerequisite-thought",
   "metadata": {},
   "source": [
    "Let's read the documentation\n",
    "\n",
    "https://scikit-learn.org/stable/modules/generated/sklearn.datasets.fetch_openml.html"
   ]
  },
  {
   "cell_type": "markdown",
   "id": "composite-print",
   "metadata": {},
   "source": [
    "# OpenML package\n",
    "\n",
    "https://openml.github.io/openml-python/develop/index.html"
   ]
  },
  {
   "cell_type": "markdown",
   "id": "attractive-physics",
   "metadata": {},
   "source": [
    "[openml cheatsheet](https://openml.github.io/openml-tutorial/slides_pdf/OpenML%20Python%20cheat%20sheet.pdf)"
   ]
  },
  {
   "cell_type": "code",
   "execution_count": null,
   "id": "baking-terminology",
   "metadata": {},
   "outputs": [],
   "source": [
    "from openml.datasets import list_datasets\n",
    "\n",
    "# list_datasets()"
   ]
  },
  {
   "cell_type": "code",
   "execution_count": null,
   "id": "compound-acrylic",
   "metadata": {},
   "outputs": [],
   "source": [
    "# Another example\n",
    "from sklearn.datasets import fetch_openml\n",
    "\n",
    "bank_marketing = fetch_openml(name=\"bank-marketing\") # fetch by name\n",
    "# bank_marketing = fetch_openml(data_id=1461)          # fetch by id\n",
    "\n",
    "# Seperate independent variables and target variable \n",
    "X = bank_marketing.data \n",
    "y = bank_marketing.target"
   ]
  },
  {
   "cell_type": "markdown",
   "id": "danish-commissioner",
   "metadata": {},
   "source": [
    "<center><h2>Sources of Inspiration</h2></center>\n",
    "\n",
    "- https://scikit-learn.org/stable/modules/generated/sklearn.datasets.fetch_openml.html"
   ]
  },
  {
   "cell_type": "markdown",
   "id": "heavy-friend",
   "metadata": {},
   "source": [
    "<br>\n",
    "<br> \n",
    "<br>\n",
    "\n",
    "----"
   ]
  }
 ],
 "metadata": {
  "kernelspec": {
   "display_name": "Python 3",
   "language": "python",
   "name": "python3"
  },
  "language_info": {
   "codemirror_mode": {
    "name": "ipython",
    "version": 3
   },
   "file_extension": ".py",
   "mimetype": "text/x-python",
   "name": "python",
   "nbconvert_exporter": "python",
   "pygments_lexer": "ipython3",
   "version": "3.8.5"
  },
  "toc": {
   "base_numbering": 1,
   "nav_menu": {},
   "number_sections": false,
   "sideBar": false,
   "skip_h1_title": false,
   "title_cell": "Table of Contents",
   "title_sidebar": "Contents",
   "toc_cell": true,
   "toc_position": {},
   "toc_section_display": true,
   "toc_window_display": false
  }
 },
 "nbformat": 4,
 "nbformat_minor": 5
}
