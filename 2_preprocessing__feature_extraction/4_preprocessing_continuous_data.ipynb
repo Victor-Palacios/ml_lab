{
 "cells": [
  {
   "cell_type": "markdown",
   "metadata": {
    "slideshow": {
     "slide_type": "skip"
    },
    "toc": true
   },
   "source": [
    "<h1>Table of Contents<span class=\"tocSkip\"></span></h1>\n",
    "<div class=\"toc\"><ul class=\"toc-item\"><li><span><a href=\"#Preprocessing-Continuous-Data\" data-toc-modified-id=\"Preprocessing-Continuous-Data-1\">Preprocessing Continuous Data</a></span></li><li><span><a href=\"#Learning-Outcomes\" data-toc-modified-id=\"Learning-Outcomes-2\">Learning Outcomes</a></span></li><li><span><a href=\"#Binning,-aka-Quantization\" data-toc-modified-id=\"Binning,-aka-Quantization-3\">Binning, aka Quantization</a></span></li><li><span><a href=\"#Why-would-you-purposely-lose-information-by-downsampling-your-data?\" data-toc-modified-id=\"Why-would-you-purposely-lose-information-by-downsampling-your-data?-4\">Why would you purposely lose information by downsampling your data?</a></span></li><li><span><a href=\"#What-is-Normalization?\" data-toc-modified-id=\"What-is-Normalization?-5\">What is Normalization?</a></span></li><li><span><a href=\"#Common-Normalization-Techniques\" data-toc-modified-id=\"Common-Normalization-Techniques-6\">Common Normalization Techniques</a></span></li><li><span><a href=\"#Scaling,-aka-min-max-scaling\" data-toc-modified-id=\"Scaling,-aka-min-max-scaling-7\">Scaling, aka min-max scaling</a></span></li><li><span><a href=\"#When-to-and-when-not-to-scale\" data-toc-modified-id=\"When-to-and-when-not-to-scale-8\">When to and when not to scale</a></span></li><li><span><a href=\"#Standardization,-aka-Variance-Scaling\" data-toc-modified-id=\"Standardization,-aka-Variance-Scaling-9\">Standardization, aka Variance Scaling</a></span></li><li><span><a href=\"#Standardization-does-NOT-change-the-type-of-distribution.\" data-toc-modified-id=\"Standardization-does-NOT-change-the-type-of-distribution.-10\">Standardization does NOT change the type of distribution.</a></span></li><li><span><a href=\"#Check-for-understanding\" data-toc-modified-id=\"Check-for-understanding-11\">Check for understanding</a></span></li><li><span><a href=\"#preprocessing.Normalizer\" data-toc-modified-id=\"preprocessing.Normalizer-12\">preprocessing.Normalizer</a></span></li><li><span><a href=\"#Log-Transformation\" data-toc-modified-id=\"Log-Transformation-13\">Log Transformation</a></span></li><li><span><a href=\"#Transforming-a-Feature-to-be-Normally-Distributed\" data-toc-modified-id=\"Transforming-a-Feature-to-be-Normally-Distributed-14\">Transforming a Feature to be Normally Distributed</a></span></li><li><span><a href=\"#Quantile-Transformation-Steps\" data-toc-modified-id=\"Quantile-Transformation-Steps-15\">Quantile Transformation Steps</a></span></li><li><span><a href=\"#&quot;Target&quot;-Engineering\" data-toc-modified-id=\"&quot;Target&quot;-Engineering-16\">\"Target\" Engineering</a></span></li><li><span><a href=\"#Steps-for-Target-Transformation\" data-toc-modified-id=\"Steps-for-Target-Transformation-17\">Steps for Target Transformation</a></span></li><li><span><a href=\"#-TransformedTargetRegressor-goes-into-pipelines-(of-course)\" data-toc-modified-id=\"-TransformedTargetRegressor-goes-into-pipelines-(of-course)-18\"> TransformedTargetRegressor goes into pipelines (of course)</a></span></li><li><span><a href=\"#Takeaways\" data-toc-modified-id=\"Takeaways-19\">Takeaways</a></span></li><li><span><a href=\"#Bonus-Material\" data-toc-modified-id=\"Bonus-Material-20\">Bonus Material</a></span></li><li><span><a href=\"#Check-for-understanding\" data-toc-modified-id=\"Check-for-understanding-21\">Check for understanding</a></span></li><li><span><a href=\"#2-Types-of-Transformations\" data-toc-modified-id=\"2-Types-of-Transformations-22\">2 Types of Transformations</a></span></li><li><span><a href=\"#Linear-Transformations\" data-toc-modified-id=\"Linear-Transformations-23\">Linear Transformations</a></span></li><li><span><a href=\"#Nonlinear-Transformations\" data-toc-modified-id=\"Nonlinear-Transformations-24\">Nonlinear Transformations</a></span></li><li><span><a href=\"#Check-for-understanding\" data-toc-modified-id=\"Check-for-understanding-25\">Check for understanding</a></span></li></ul></div>"
   ]
  },
  {
   "cell_type": "markdown",
   "metadata": {
    "slideshow": {
     "slide_type": "slide"
    }
   },
   "source": [
    "<center><h2>Preprocessing Continuous Data</h2></center>\n",
    "<br>\n",
    "<br>\n",
    "<center><img src=\"../images/1_2T5rbjOBGVFdSvtlhCqlNg.png\" width=\"100%\"/></center>"
   ]
  },
  {
   "cell_type": "markdown",
   "metadata": {
    "slideshow": {
     "slide_type": "slide"
    }
   },
   "source": [
    "<center><h2>Learning Outcomes</h2></center>\n",
    "\n",
    "__By the end of this session, you should be able to__:\n",
    "\n",
    "- Identify common issues with continuous data.\n",
    "- List the common methods of preprocessing continuous data.\n",
    "- Compare and contrast the common methods of preprocessing continuous data."
   ]
  },
  {
   "cell_type": "markdown",
   "metadata": {
    "slideshow": {
     "slide_type": "slide"
    }
   },
   "source": [
    "<center><h2>Binning, aka Quantization</h2></center> \n",
    "<br>\n",
    "<center><img src=\"../images/bins.png\" width=\"70%\"/></center>\n",
    "\n",
    "Discretize continuous values into a smaller number of \"bins\".\n",
    "\n",
    "The result is converting interval data to ordinal categories."
   ]
  },
  {
   "cell_type": "markdown",
   "metadata": {
    "slideshow": {
     "slide_type": "skip"
    }
   },
   "source": [
    "Learn more: https://blog.dominodatalab.com/feature-engineering-framework-techniques/"
   ]
  },
  {
   "cell_type": "markdown",
   "metadata": {
    "slideshow": {
     "slide_type": "slide"
    }
   },
   "source": [
    "<center><h2>Why would you purposely lose information by downsampling your data?</h2></center>"
   ]
  },
  {
   "cell_type": "markdown",
   "metadata": {
    "slideshow": {
     "slide_type": "fragment"
    }
   },
   "source": [
    "1) Helps your goal (e.g., categorize people's age by decade for marketing)."
   ]
  },
  {
   "cell_type": "markdown",
   "metadata": {
    "slideshow": {
     "slide_type": "fragment"
    }
   },
   "source": [
    "2) Improve signal-to-noise ratio (e.g., aggregate GPS data)."
   ]
  },
  {
   "cell_type": "markdown",
   "metadata": {
    "slideshow": {
     "slide_type": "skip"
    }
   },
   "source": [
    "Fitting a model to bins reduces the impact that small fluctuates in the data has on the model, often small fluctuates are just noise. Each bin \"smooths\" out the fluctuates/noises in sections of the data.\n",
    "\n",
    "Source: https://datascience.stackexchange.com/questions/19782/what-is-the-rationale-for-discretization-of-continuous-features-and-when-should/23860#23860"
   ]
  },
  {
   "cell_type": "code",
   "execution_count": 2,
   "metadata": {
    "slideshow": {
     "slide_type": "skip"
    }
   },
   "outputs": [],
   "source": [
    "reset -fs"
   ]
  },
  {
   "cell_type": "code",
   "execution_count": 3,
   "metadata": {
    "slideshow": {
     "slide_type": "skip"
    }
   },
   "outputs": [],
   "source": [
    "import numpy as np"
   ]
  },
  {
   "cell_type": "code",
   "execution_count": 4,
   "metadata": {
    "slideshow": {
     "slide_type": "slide"
    }
   },
   "outputs": [],
   "source": [
    "from sklearn.preprocessing import KBinsDiscretizer\n",
    "\n",
    "# KBinsDiscretizer?"
   ]
  },
  {
   "cell_type": "code",
   "execution_count": 32,
   "metadata": {
    "slideshow": {
     "slide_type": "slide"
    }
   },
   "outputs": [
    {
     "name": "stdout",
     "output_type": "stream",
     "text": [
      "0.0\n",
      "2.5\n",
      "5.0\n",
      "7.5\n",
      "10.0\n"
     ]
    }
   ],
   "source": [
    "# Generate data evenly space continuous data\n",
    "data = np.linspace(start=0, stop=10, num=5)\n",
    "print(*data, sep=\"\\n\")"
   ]
  },
  {
   "cell_type": "code",
   "execution_count": 6,
   "metadata": {
    "slideshow": {
     "slide_type": "fragment"
    }
   },
   "outputs": [
    {
     "name": "stdout",
     "output_type": "stream",
     "text": [
      "[[1. 0. 0.]\n",
      " [1. 0. 0.]\n",
      " [0. 1. 0.]\n",
      " [0. 0. 1.]\n",
      " [0. 0. 1.]]\n"
     ]
    }
   ],
   "source": [
    "# Bin it\n",
    "est = KBinsDiscretizer(n_bins=3)\n",
    "data_scaled = est.fit_transform(data.reshape(-1, 1))\n",
    "# Look that the one-hot encoded categories\n",
    "print(data_scaled.toarray())"
   ]
  },
  {
   "cell_type": "markdown",
   "metadata": {
    "slideshow": {
     "slide_type": "slide"
    }
   },
   "source": [
    "<center><h2>What is Normalization?</h2></center>\n",
    "\n",
    "\"Normalization\" is process that makes something more regular.\n",
    "\n",
    "Features are often orders of magnitude different from each other. Normalization transforms features to be on a similar scale.\n",
    "\n",
    "\"Normalization\" means different things to different people so I prefer to use a more precise language. \n",
    "\n",
    "I have people do the the wrong transformation on a project because someone use the word \"Normalization\"."
   ]
  },
  {
   "cell_type": "markdown",
   "metadata": {
    "slideshow": {
     "slide_type": "slide"
    }
   },
   "source": [
    "<center><h2>Common Normalization Techniques</h2></center>\n",
    "\n",
    "- Rescale\n",
    "- Standardization\n",
    "- Transform\n",
    "    - Log transform is a common example\n",
    "    - Complex transformation to make sure your data is normally distribution"
   ]
  },
  {
   "cell_type": "markdown",
   "metadata": {
    "slideshow": {
     "slide_type": "skip"
    }
   },
   "source": [
    "Source: https://stats.stackexchange.com/questions/244507/what-algorithms-need-feature-scaling-beside-from-svm"
   ]
  },
  {
   "cell_type": "markdown",
   "metadata": {
    "slideshow": {
     "slide_type": "slide"
    }
   },
   "source": [
    "<center><h2>Scaling, aka min-max scaling</h2></center>\n",
    "<br>\n",
    "<center><img src=\"../images/min_max.png\" width=\"65%\"/></center>\n",
    "\n",
    "Rescales the values into a new range, typically [0,1].  "
   ]
  },
  {
   "cell_type": "code",
   "execution_count": 7,
   "metadata": {
    "slideshow": {
     "slide_type": "skip"
    }
   },
   "outputs": [],
   "source": [
    "reset -fs"
   ]
  },
  {
   "cell_type": "code",
   "execution_count": 8,
   "metadata": {
    "slideshow": {
     "slide_type": "skip"
    }
   },
   "outputs": [],
   "source": [
    "import matplotlib.pyplot as plt\n",
    "import numpy as np\n",
    "import pandas as pd\n",
    "import seaborn as sns\n",
    "import sklearn\n",
    "\n",
    "import warnings\n",
    "warnings.filterwarnings('ignore')\n",
    "\n",
    "palette = \"Dark2\"\n",
    "%matplotlib inline"
   ]
  },
  {
   "cell_type": "code",
   "execution_count": 9,
   "metadata": {
    "slideshow": {
     "slide_type": "slide"
    }
   },
   "outputs": [],
   "source": [
    "from sklearn.preprocessing import MinMaxScaler\n",
    "\n",
    "# help(MinMaxScaler)"
   ]
  },
  {
   "cell_type": "code",
   "execution_count": 10,
   "metadata": {
    "slideshow": {
     "slide_type": "slide"
    }
   },
   "outputs": [
    {
     "data": {
      "image/png": "[encoded data removed]",
      "text/plain": [
       "<Figure size 432x288 with 1 Axes>"
      ]
     },
     "metadata": {
      "needs_background": "light"
     },
     "output_type": "display_data"
    }
   ],
   "source": [
    "# Let's try it with uniform data\n",
    "data = np.random.uniform(low=-5, high=13, size=1_000)\n",
    "sns.distplot(data);\n",
    "\n",
    "scaler = MinMaxScaler(feature_range=(0, 1))\n",
    "data_scaled = scaler.fit_transform(data.reshape(-1, 1))\n",
    "sns.distplot(data_scaled);"
   ]
  },
  {
   "cell_type": "code",
   "execution_count": 11,
   "metadata": {
    "slideshow": {
     "slide_type": "slide"
    }
   },
   "outputs": [
    {
     "data": {
      "image/png": "[encoded data removed]",
      "text/plain": [
       "<Figure size 432x288 with 1 Axes>"
      ]
     },
     "metadata": {
      "needs_background": "light"
     },
     "output_type": "display_data"
    }
   ],
   "source": [
    "# Let's try it with exponential data\n",
    "data = np.random.exponential(scale=1, size=10_000)+2\n",
    "sns.distplot(data);\n",
    "\n",
    "scaler = MinMaxScaler(feature_range=(0, 1))\n",
    "data_scaled = scaler.fit_transform(data.reshape(-1, 1))\n",
    "sns.distplot(data_scaled);"
   ]
  },
  {
   "cell_type": "code",
   "execution_count": 12,
   "metadata": {
    "slideshow": {
     "slide_type": "slide"
    }
   },
   "outputs": [
    {
     "data": {
      "image/png": "[encoded data removed]",
      "text/plain": [
       "<Figure size 432x288 with 1 Axes>"
      ]
     },
     "metadata": {
      "needs_background": "light"
     },
     "output_type": "display_data"
    }
   ],
   "source": [
    "# Let's try it with normal data\n",
    "data = np.random.normal(loc=3.0, scale=2, size=1_000)\n",
    "sns.distplot(data);\n",
    "\n",
    "scaler = MinMaxScaler(feature_range=(0, 1))\n",
    "data_scaled = scaler.fit_transform(data.reshape(-1, 1))\n",
    "sns.distplot(data_scaled);"
   ]
  },
  {
   "cell_type": "markdown",
   "metadata": {},
   "source": [
    "<center><h2>When to and when not to scale</h2></center>\n",
    "\n",
    "Scaling to a range is a good choice when both of the following conditions are met:\n",
    "\n",
    "1. You know the approximate upper and lower bounds on your data with few or no outliers.\n",
    "2. Your data is approximately uniformly distributed across that range.\n",
    "\n",
    "A good example is age. Most age values falls between 0 and 90, and every part of the range has a substantial number of people.\n",
    "\n",
    "In contrast, you would not use scaling on income, because only a few people have very high incomes. The upper bound of the linear scale for income would be very high, and most people would be squeezed into a small part of the scale.\n",
    "\n",
    "\n",
    "MinMaxScaler often greatly compresses the data. Thus, extreme values lose their \"extremeness\".\n",
    "\n",
    "[Source](https://developers.google.com/machine-learning/data-prep/transform/normalization)"
   ]
  },
  {
   "cell_type": "markdown",
   "metadata": {
    "slideshow": {
     "slide_type": "slide"
    }
   },
   "source": [
    "<center><h2>Standardization, aka Variance Scaling</h2></center>\n",
    "\n",
    "Rescales data to have a mean ($\\mu$) of 0 and standard deviation ($\\sigma$) of 1 (unit variance).\n",
    "\n",
    "$$ \\widetilde{x} = \\frac{x - x_{mean}}{x_{\\sigma}} $$        "
   ]
  },
  {
   "cell_type": "markdown",
   "metadata": {
    "slideshow": {
     "slide_type": "skip"
    }
   },
   "source": [
    "\n",
    "\n",
    "Source: https://stats.stackexchange.com/questions/10289/whats-the-difference-between-normalization-and-standardization"
   ]
  },
  {
   "cell_type": "code",
   "execution_count": 13,
   "metadata": {
    "slideshow": {
     "slide_type": "slide"
    }
   },
   "outputs": [],
   "source": [
    "from sklearn.preprocessing import StandardScaler\n",
    "\n",
    "# help(StandardScaler)"
   ]
  },
  {
   "cell_type": "code",
   "execution_count": 14,
   "metadata": {
    "slideshow": {
     "slide_type": "slide"
    }
   },
   "outputs": [
    {
     "data": {
      "image/png": "[encoded data removed]",
      "text/plain": [
       "<Figure size 432x288 with 1 Axes>"
      ]
     },
     "metadata": {
      "needs_background": "light"
     },
     "output_type": "display_data"
    }
   ],
   "source": [
    "# Let's try it with uniform data\n",
    "data = np.random.uniform(low=-5, high=13, size=10_000)\n",
    "sns.distplot(data);\n",
    "\n",
    "scaler = StandardScaler()\n",
    "data_scaled = scaler.fit_transform(data.reshape(-1, 1))\n",
    "sns.distplot(data_scaled);"
   ]
  },
  {
   "cell_type": "code",
   "execution_count": 15,
   "metadata": {
    "slideshow": {
     "slide_type": "slide"
    }
   },
   "outputs": [
    {
     "data": {
      "image/png": "[encoded data removed]",
      "text/plain": [
       "<Figure size 432x288 with 1 Axes>"
      ]
     },
     "metadata": {
      "needs_background": "light"
     },
     "output_type": "display_data"
    }
   ],
   "source": [
    "# Let's try it with exponential data\n",
    "data = np.random.exponential(scale=1, size=10_000)+10\n",
    "sns.distplot(data);\n",
    "\n",
    "scaler = StandardScaler()\n",
    "data_scaled = scaler.fit_transform(data.reshape(-1, 1))\n",
    "sns.distplot(data_scaled);"
   ]
  },
  {
   "cell_type": "code",
   "execution_count": 16,
   "metadata": {
    "slideshow": {
     "slide_type": "slide"
    }
   },
   "outputs": [
    {
     "data": {
      "image/png": "[encoded data removed]",
      "text/plain": [
       "<Figure size 432x288 with 1 Axes>"
      ]
     },
     "metadata": {
      "needs_background": "light"
     },
     "output_type": "display_data"
    }
   ],
   "source": [
    "# Let's try it with normal data\n",
    "data = np.random.normal(loc=3.0, scale=2, size=10_000)\n",
    "sns.distplot(data);\n",
    "\n",
    "scaler = StandardScaler()\n",
    "data_scaled = scaler.fit_transform(data.reshape(-1, 1))\n",
    "sns.distplot(data_scaled);"
   ]
  },
  {
   "cell_type": "markdown",
   "metadata": {
    "slideshow": {
     "slide_type": "slide"
    }
   },
   "source": [
    "<center><h2>Standardization does NOT change the type of distribution.</h2></center>\n",
    "\n",
    "In other words, the distribution will stay in the same family (but with different parameters)."
   ]
  },
  {
   "cell_type": "markdown",
   "metadata": {
    "slideshow": {
     "slide_type": "slide"
    }
   },
   "source": [
    "<center><h2>Check for understanding</h2></center>\n",
    "\n",
    "Why is rescaling useful?"
   ]
  },
  {
   "cell_type": "markdown",
   "metadata": {
    "slideshow": {
     "slide_type": "fragment"
    }
   },
   "source": [
    "Creates a better shaped loss function for gradient decent and regularization."
   ]
  },
  {
   "cell_type": "markdown",
   "metadata": {
    "slideshow": {
     "slide_type": "skip"
    }
   },
   "source": [
    "Learn more [here](https://jermwatt.github.io/machine_learning_refined/notes/9_Feature_engineer_select/9_3_Scaling.html) and [here](https://medium.com/@urvashilluniya/why-data-normalization-is-necessary-for-machine-learning-models-681b65a05029)"
   ]
  },
  {
   "cell_type": "markdown",
   "metadata": {},
   "source": [
    "Why is rescaling not useful?\n"
   ]
  },
  {
   "cell_type": "markdown",
   "metadata": {},
   "source": [
    "1. When units on your features are meaningful. Distance makes a difference, for example k-NN.\n",
    "\n",
    "2. It increases the sparse of your data. More values will be zero. \n",
    "\n",
    "3. Just another step. Adding steps makes the process more complex and slower.\n",
    "\n",
    "Learn more [here](https://stats.stackexchange.com/questions/189652/is-it-a-good-practice-to-always-scale-normalize-data-for-machine-learning)"
   ]
  },
  {
   "cell_type": "markdown",
   "metadata": {},
   "source": [
    "<center><h2>preprocessing.Normalizer</h2></center>\n",
    "\n",
    "[sklearn.preprocessing.Normalizer](https://scikit-learn.org/stable/modules/generated/sklearn.preprocessing.Normalizer.html)\n",
    "\n",
    "Normalize samples features individually to unit norm. \n",
    "\n",
    "Mostly useful for controlling the size of a vector in an iterative process, e.g. a parameter vector during training, to avoid numerical instabilities due to large values.\n",
    "\n",
    "Most common use case is text classification or clustering."
   ]
  },
  {
   "cell_type": "markdown",
   "metadata": {
    "slideshow": {
     "slide_type": "slide"
    }
   },
   "source": [
    "<center><h2>Log Transformation</h2></center>\n",
    "\n",
    "$$ \\widetilde{x} = log(x) $$  \n",
    "\n",
    "Expands the range of small numbers.   \n",
    "Compresses the range of large numbers.\n"
   ]
  },
  {
   "cell_type": "markdown",
   "metadata": {
    "slideshow": {
     "slide_type": "fragment"
    }
   },
   "source": [
    "Useful when the data follows a power law distribution."
   ]
  },
  {
   "cell_type": "markdown",
   "metadata": {
    "slideshow": {
     "slide_type": "skip"
    }
   },
   "source": [
    "Source:  https://developers.google.com/machine-learning/data-prep/transform/normalization"
   ]
  },
  {
   "cell_type": "code",
   "execution_count": 17,
   "metadata": {
    "slideshow": {
     "slide_type": "slide"
    }
   },
   "outputs": [],
   "source": [
    "from sklearn.preprocessing import FunctionTransformer\n",
    "\n",
    "# help(FunctionTransformer)"
   ]
  },
  {
   "cell_type": "code",
   "execution_count": 18,
   "metadata": {
    "slideshow": {
     "slide_type": "slide"
    }
   },
   "outputs": [
    {
     "data": {
      "image/png": "[encoded data removed]",
      "text/plain": [
       "<Figure size 432x288 with 1 Axes>"
      ]
     },
     "metadata": {
      "needs_background": "light"
     },
     "output_type": "display_data"
    }
   ],
   "source": [
    "# Let's try it with exponential data\n",
    "data = np.random.exponential(scale=1, size=10_000)+2\n",
    "sns.distplot(data);\n",
    "\n",
    "\n",
    "transformer = FunctionTransformer(np.log1p, validate=False)\n",
    "data_scaled = transformer.fit_transform(data.reshape(-1, 1))\n",
    "sns.distplot(data_scaled);"
   ]
  },
  {
   "cell_type": "markdown",
   "metadata": {
    "slideshow": {
     "slide_type": "slide"
    }
   },
   "source": [
    "<center><h2>Transforming a Feature to be Normally Distributed</h2></center>\n",
    "\n",
    "There are many, many techniques to force a empirical distribution to be normally distributed.\n",
    " \n",
    "__Quantile Transformation__ is your true friend, a type of rank-based inverse normal transformation.\n",
    "\n",
    "Fit a separate model for each quantile that transforms that section of data to be either be normal (or uniform).\n",
    "\n",
    "Quantile Transformation is a non-linear transformation."
   ]
  },
  {
   "cell_type": "markdown",
   "metadata": {
    "slideshow": {
     "slide_type": "slide"
    }
   },
   "source": [
    "<center><h2>Quantile Transformation Steps</h2></center>\n",
    "\n",
    "1) Calculate empirical quantiles."
   ]
  },
  {
   "cell_type": "markdown",
   "metadata": {
    "slideshow": {
     "slide_type": "fragment"
    }
   },
   "source": [
    "2) Map the original values to a uniform distribution by estimating a transformation of the cumulative distribution function (CDF)."
   ]
  },
  {
   "cell_type": "markdown",
   "metadata": {
    "slideshow": {
     "slide_type": "skip"
    }
   },
   "source": [
    "<center><img src=\"../images/uniform.png\" width=\"75%\"/></center>"
   ]
  },
  {
   "cell_type": "markdown",
   "metadata": {
    "slideshow": {
     "slide_type": "fragment"
    }
   },
   "source": [
    "3) Those values are then mapped to the desired output distribution (typically normal) by translating and then inverting the CDF. "
   ]
  },
  {
   "cell_type": "markdown",
   "metadata": {
    "slideshow": {
     "slide_type": "fragment"
    }
   },
   "source": [
    "Features values of new/unseen data that fall below or above the fitted range will be mapped to the bounds of the output distribution. "
   ]
  },
  {
   "cell_type": "markdown",
   "metadata": {
    "slideshow": {
     "slide_type": "skip"
    }
   },
   "source": [
    "Sources:\n",
    "    \n",
    "- https://scikit-learn.org/stable/modules/generated/sklearn.preprocessing.QuantileTransformer.html\n",
    "- https://github.com/scikit-learn/scikit-learn/blob/a24c8b46/sklearn/preprocessing/data.py#L2078\n",
    "- https://stats.stackexchange.com/questions/325570/quantile-transformation-with-gaussian-distribution-sklearn-implementation\n",
    "- https://www.ncbi.nlm.nih.gov/pmc/articles/PMC2921808/"
   ]
  },
  {
   "cell_type": "code",
   "execution_count": 19,
   "metadata": {
    "slideshow": {
     "slide_type": "slide"
    }
   },
   "outputs": [],
   "source": [
    "from sklearn.preprocessing import QuantileTransformer\n",
    "\n",
    "# help(QuantileTransformer)"
   ]
  },
  {
   "cell_type": "code",
   "execution_count": 20,
   "metadata": {
    "slideshow": {
     "slide_type": "slide"
    }
   },
   "outputs": [
    {
     "data": {
      "image/png": "[encoded data removed]",
      "text/plain": [
       "<Figure size 432x288 with 1 Axes>"
      ]
     },
     "metadata": {
      "needs_background": "light"
     },
     "output_type": "display_data"
    }
   ],
   "source": [
    "# Let's try it with uniform data\n",
    "data = np.random.uniform(low=0, high=1, size=1_000)\n",
    "sns.distplot(data);\n",
    "\n",
    "transformer = QuantileTransformer(output_distribution='normal')\n",
    "data_scaled = transformer.fit_transform(data.reshape(-1, 1))\n",
    "sns.distplot(data_scaled);"
   ]
  },
  {
   "cell_type": "code",
   "execution_count": 21,
   "metadata": {
    "slideshow": {
     "slide_type": "slide"
    }
   },
   "outputs": [
    {
     "data": {
      "image/png": "[encoded data removed]",
      "text/plain": [
       "<Figure size 432x288 with 1 Axes>"
      ]
     },
     "metadata": {
      "needs_background": "light"
     },
     "output_type": "display_data"
    }
   ],
   "source": [
    "# Let's try it with exponential data\n",
    "data = np.random.exponential(scale=1, size=10_000)-1\n",
    "sns.distplot(data);\n",
    "\n",
    "transformer = QuantileTransformer(output_distribution='normal')\n",
    "data_scaled = transformer.fit_transform(data.reshape(-1, 1))\n",
    "sns.distplot(data_scaled);"
   ]
  },
  {
   "cell_type": "code",
   "execution_count": 22,
   "metadata": {
    "slideshow": {
     "slide_type": "slide"
    }
   },
   "outputs": [
    {
     "data": {
      "image/png": "[encoded data removed]",
      "text/plain": [
       "<Figure size 432x288 with 1 Axes>"
      ]
     },
     "metadata": {
      "needs_background": "light"
     },
     "output_type": "display_data"
    }
   ],
   "source": [
    "# Let's try it with bimodal exponential data\n",
    "data_1 = np.random.exponential(scale=1, size=10_000)-10\n",
    "data_2 = np.random.exponential(scale=1, size=10_000)+10\n",
    "data = np.concatenate([data_1, data_2])\n",
    "sns.distplot(data);\n",
    "\n",
    "transformer = QuantileTransformer(output_distribution='normal')\n",
    "data_scaled = transformer.fit_transform(data.reshape(-1, 1))\n",
    "sns.distplot(data_scaled);"
   ]
  },
  {
   "cell_type": "code",
   "execution_count": 23,
   "metadata": {
    "slideshow": {
     "slide_type": "slide"
    }
   },
   "outputs": [
    {
     "data": {
      "image/png": "[encoded data removed]",
      "text/plain": [
       "<Figure size 432x288 with 1 Axes>"
      ]
     },
     "metadata": {
      "needs_background": "light"
     },
     "output_type": "display_data"
    }
   ],
   "source": [
    "# Long journey back\n",
    "# trans.inverse_transform?\n",
    "sns.distplot(transformer.inverse_transform(data_scaled));"
   ]
  },
  {
   "cell_type": "markdown",
   "metadata": {
    "slideshow": {
     "slide_type": "slide"
    }
   },
   "source": [
    "<center><h2>\"Target\" Engineering</h2></center>\n",
    "\n",
    "Thus far, we have been covering __feature__ engineering. \n",
    "\n",
    "We might want to transform targets. For example, regression uses numeric targets."
   ]
  },
  {
   "cell_type": "code",
   "execution_count": 24,
   "metadata": {
    "slideshow": {
     "slide_type": "skip"
    }
   },
   "outputs": [],
   "source": [
    "from sklearn.datasets import load_boston\n",
    "from sklearn.preprocessing import QuantileTransformer\n",
    "from sklearn.linear_model import LinearRegression\n",
    "from sklearn.model_selection import train_test_split"
   ]
  },
  {
   "cell_type": "code",
   "execution_count": 25,
   "metadata": {
    "slideshow": {
     "slide_type": "slide"
    }
   },
   "outputs": [],
   "source": [
    "boston = load_boston()\n",
    "X, y = boston.data, boston.target\n",
    "X_train, X_test, y_train, y_test = train_test_split(X, y, random_state=0)"
   ]
  },
  {
   "cell_type": "code",
   "execution_count": 26,
   "metadata": {
    "slideshow": {
     "slide_type": "fragment"
    }
   },
   "outputs": [],
   "source": [
    "transformer = QuantileTransformer(output_distribution='normal', n_quantiles=379)\n",
    "regressor = LinearRegression()"
   ]
  },
  {
   "cell_type": "code",
   "execution_count": 27,
   "metadata": {},
   "outputs": [],
   "source": [
    "from sklearn.compose import TransformedTargetRegressor\n",
    "\n",
    "# help(TransformedTargetRegressor)"
   ]
  },
  {
   "cell_type": "code",
   "execution_count": 28,
   "metadata": {},
   "outputs": [],
   "source": [
    "# Define it\n",
    "transformed_target_regr = TransformedTargetRegressor(regressor=regressor,\n",
    "                                                     transformer=transformer)"
   ]
  },
  {
   "cell_type": "code",
   "execution_count": 29,
   "metadata": {
    "slideshow": {
     "slide_type": "fragment"
    }
   },
   "outputs": [
    {
     "name": "stdout",
     "output_type": "stream",
     "text": [
      "                    MSE\n",
      "Raw predict        29.78\n",
      "Transformed fit    27.12\n"
     ]
    }
   ],
   "source": [
    "# Compare performance to see if transformation helps\n",
    "from sklearn.metrics import mean_squared_error\n",
    "print(f\"{'MSE':>23}\")\n",
    "\n",
    "raw_target_regr = LinearRegression().fit(X_train, y_train)\n",
    "mse_raw = mean_squared_error(y_test, raw_target_regr.predict(X_test))\n",
    "print(f\"Raw predict {mse_raw:>12.2f}\")\n",
    "\n",
    "transformed_target_regr.fit(X_train, y_train) \n",
    "mse_transformed = mean_squared_error(y_test, transformed_target_regr.predict(X_test))\n",
    "print(f\"Transformed fit {mse_transformed:>8.2f}\")\n",
    "\n",
    "# Peformance went up because we better matching the assumptions of linear regression. "
   ]
  },
  {
   "cell_type": "markdown",
   "metadata": {
    "slideshow": {
     "slide_type": "skip"
    }
   },
   "source": [
    "Source: https://scikit-learn.org/stable/modules/compose.html#transforming-target-in-regression"
   ]
  },
  {
   "cell_type": "markdown",
   "metadata": {
    "slideshow": {
     "slide_type": "slide"
    }
   },
   "source": [
    "<center><h2>Steps for Target Transformation</h2></center>\n",
    "\n",
    "1. Gather targets.\n",
    "1. Visually inspect targets.\n",
    "1. Decide that the targets should be transformed.\n",
    "1. Let QuantileTransformer learn the transformation. \n",
    "1. Let TransformedTargetRegressor learn and predict the targets."
   ]
  },
  {
   "cell_type": "markdown",
   "metadata": {
    "slideshow": {
     "slide_type": "skip"
    }
   },
   "source": [
    "No need to manually keep track of scaled data.\n",
    "\n",
    "`TransformedTargetRegressor.predict()` will return values in original scale.\n",
    "\n",
    "\n",
    "It automatically calls `transformer.inverse_func(regressor.predict(X))`   \n",
    "Source: https://scikit-learn.org/stable/modules/generated/sklearn.compose.TransformedTargetRegressor.html"
   ]
  },
  {
   "cell_type": "markdown",
   "metadata": {},
   "source": [
    "<center><h2> TransformedTargetRegressor goes into pipelines (of course)</h2></center>"
   ]
  },
  {
   "cell_type": "code",
   "execution_count": 30,
   "metadata": {},
   "outputs": [
    {
     "data": {
      "text/plain": [
       "Pipeline(steps=[('scaler', StandardScaler()),\n",
       "                ('regressor',\n",
       "                 TransformedTargetRegressor(regressor=LinearRegression(),\n",
       "                                            transformer=QuantileTransformer(n_quantiles=379,\n",
       "                                                                            output_distribution='normal')))])"
      ]
     },
     "execution_count": 30,
     "metadata": {},
     "output_type": "execute_result"
    }
   ],
   "source": [
    "from sklearn.pipeline import Pipeline \n",
    "\n",
    "pipe = Pipeline([('scaler',     StandardScaler()), \n",
    "                 ('regressor',  TransformedTargetRegressor(regressor=regressor, transformer=transformer))])\n",
    "\n",
    "pipe.fit(X_train, y_train) "
   ]
  },
  {
   "cell_type": "markdown",
   "metadata": {
    "slideshow": {
     "slide_type": "slide"
    }
   },
   "source": [
    "<center><h2>Takeaways</h2></center>\n",
    "\n",
    "- Binning takes a numerical variable and converts to a ordinal variable.\n",
    "- Normalization is a collection of techniques that transforms data to be on the same scale.\n",
    "- Scaling is mapping the data from original range to a new range.\n",
    "- Quantile transformation is the most effective method transform a dataset to be normally distributed."
   ]
  },
  {
   "cell_type": "markdown",
   "metadata": {
    "slideshow": {
     "slide_type": "slide"
    }
   },
   "source": [
    "<br>\n",
    "<br> \n",
    "<br>\n",
    "\n",
    "----"
   ]
  },
  {
   "cell_type": "markdown",
   "metadata": {
    "slideshow": {
     "slide_type": "slide"
    }
   },
   "source": [
    "Bonus Material\n",
    "-----"
   ]
  },
  {
   "cell_type": "markdown",
   "metadata": {},
   "source": [
    "[More examples of how scaling changes features](https://scikit-learn.org/stable/auto_examples/preprocessing/plot_all_scaling.html)"
   ]
  },
  {
   "cell_type": "markdown",
   "metadata": {},
   "source": [
    "<center><h2>Check for understanding</h2></center>\n",
    "\n",
    "Do we re-fit preprocessing for test data?\n",
    "\n",
    "No - Preprocessing fit step only applies to the training data. Those functions (and associated parameters) are then applied to the test set.\n",
    "\n",
    "Re-fit preprocessing for test data is a type of data leakage. \n",
    "\n",
    "Think of the specific example of getting a single test record and trying to standardize it. What is the standard deviation of a single data point?\n",
    "\n",
    "Repeat after me - __YOU NEVER SEE THE TEST DATA__\n",
    "\n",
    "(It is artifact of what I call \"academic\" machine learning that the test is even possibly available.)"
   ]
  },
  {
   "cell_type": "markdown",
   "metadata": {
    "slideshow": {
     "slide_type": "slide"
    }
   },
   "source": [
    "<center><h2>2 Types of Transformations</h2></center>\n",
    "\n",
    "<center><img src=\"../images/lin_nonlin.jpg\" width=\"55%\"/></center>\n",
    "<center><img src=\"../images/linear transformation.png\" width=\"75%\"/></center>\n",
    "\n",
    "1. Linear functions - preserves linear relationships between variables.\n",
    "2. Nonlinear functions - changes the linear relationships between variables."
   ]
  },
  {
   "cell_type": "markdown",
   "metadata": {
    "slideshow": {
     "slide_type": "skip"
    }
   },
   "source": [
    "Image Source: https://www.researchgate.net/publication/276464597_New_techniques_for_motion-artifact-free_in_vivo_cardiac_microscopy/figures?lo=1"
   ]
  },
  {
   "cell_type": "markdown",
   "metadata": {
    "slideshow": {
     "slide_type": "skip"
    }
   },
   "source": [
    "- Linear preserves the operations of addition and scalar multiplication\n",
    "- Nonlinear does __NOT__ preserves the operations of addition and scalar multiplication \n",
    "\n",
    "Learn more: https://en.wikipedia.org/wiki/Linear_map"
   ]
  },
  {
   "cell_type": "markdown",
   "metadata": {
    "slideshow": {
     "slide_type": "slide"
    }
   },
   "source": [
    "<center><h2>Linear Transformations</h2></center>\n",
    "\n",
    "<center><img src=\"../images/linear.png\" width=\"75%\"/></center>\n",
    "\n",
    "Each data value is added or multiplied by the same constant.  \n",
    "Examples:  Translation, rescaling, rotation, or standardization."
   ]
  },
  {
   "cell_type": "markdown",
   "metadata": {
    "slideshow": {
     "slide_type": "slide"
    }
   },
   "source": [
    "<center><h2>Nonlinear Transformations</h2></center>\n",
    "\n",
    "<center><img src=\"../images/kernel_trick1.png\" width=\"25%\"/></center>\n",
    "<center><img src=\"../images/kernel_trick2.png\" width=\"25%\"/></center>\n",
    "\n",
    "Each data value is added or multiplied by a different value (e.g., squaring each value).  \n",
    "Examples: Most kernels"
   ]
  },
  {
   "cell_type": "markdown",
   "metadata": {
    "slideshow": {
     "slide_type": "slide"
    }
   },
   "source": [
    "<center><h2>Check for understanding</h2></center>\n",
    "\n",
    "On your own:\n",
    "\n",
    "Which specific machine learning algorithms are sensitive to feature scaling? What is common among them?\n",
    "\n",
    "Which specific machine learning algorithms are __not__ sensitive to feature scaling? What is common among them?"
   ]
  },
  {
   "cell_type": "markdown",
   "metadata": {
    "slideshow": {
     "slide_type": "slide"
    }
   },
   "source": [
    "K-nearest neighbors algorithm (k-NN) and support vector machines (SVM) are sensitive to feature scaling because k-NN use across-dimension distances and SVM learns a hyperplane."
   ]
  },
  {
   "cell_type": "markdown",
   "metadata": {
    "slideshow": {
     "slide_type": "fragment"
    }
   },
   "source": [
    "Naive Bayes and tree-based models are __not__ sensitive to feature scaling learn because they learn features independently."
   ]
  },
  {
   "cell_type": "markdown",
   "metadata": {
    "slideshow": {
     "slide_type": "fragment"
    }
   },
   "source": [
    "For linear regression it depends … \n",
    "\n",
    "For OLS and unregularized regression, rescaling is optional. Rescaling is required for gradient descent because each step is calculated relative to each dimension. Rescaling is required for regularized models because we directly comparing coefficient sizes."
   ]
  },
  {
   "cell_type": "markdown",
   "metadata": {},
   "source": [
    "<br>\n",
    "<br> \n",
    "<br>\n",
    "\n",
    "----"
   ]
  }
 ],
 "metadata": {
  "celltoolbar": "Slideshow",
  "kernelspec": {
   "display_name": "Python 3",
   "language": "python",
   "name": "python3"
  },
  "language_info": {
   "codemirror_mode": {
    "name": "ipython",
    "version": 3
   },
   "file_extension": ".py",
   "mimetype": "text/x-python",
   "name": "python",
   "nbconvert_exporter": "python",
   "pygments_lexer": "ipython3",
   "version": "3.8.5"
  },
  "toc": {
   "base_numbering": 1,
   "nav_menu": {},
   "number_sections": false,
   "sideBar": false,
   "skip_h1_title": false,
   "title_cell": "Table of Contents",
   "title_sidebar": "Contents",
   "toc_cell": true,
   "toc_position": {},
   "toc_section_display": true,
   "toc_window_display": false
  }
 },
 "nbformat": 4,
 "nbformat_minor": 2
}
