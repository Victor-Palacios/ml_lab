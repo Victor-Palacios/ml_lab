{
 "cells": [
  {
   "cell_type": "markdown",
   "metadata": {
    "slideshow": {
     "slide_type": "skip"
    },
    "toc": true
   },
   "source": [
    "<h1>Table of Contents<span class=\"tocSkip\"></span></h1>\n",
    "<div class=\"toc\"><ul class=\"toc-item\"><li><span><a href=\"#scikit-learn's-Pipeline\" data-toc-modified-id=\"scikit-learn's-Pipeline-1\">scikit-learn's Pipeline</a></span></li><li><span><a href=\"#Pipeline-works-well-with-Cross-Validation\" data-toc-modified-id=\"Pipeline-works-well-with-Cross-Validation-2\">Pipeline works well with Cross Validation</a></span></li><li><span><a href=\"#Pipeline-works-with-RandomizedSearchCV\" data-toc-modified-id=\"Pipeline-works-with-RandomizedSearchCV-3\">Pipeline works with RandomizedSearchCV</a></span></li><li><span><a href=\"#Check-for-understanding\" data-toc-modified-id=\"Check-for-understanding-4\">Check for understanding</a></span></li><li><span><a href=\"#Always-CV-Across-Features-and-Algorithms\" data-toc-modified-id=\"Always-CV-Across-Features-and-Algorithms-5\">Always CV Across Features and Algorithms</a></span></li><li><span><a href=\"#Search-Across-Algorithms\" data-toc-modified-id=\"Search-Across-Algorithms-6\">Search Across Algorithms</a></span></li><li><span><a href=\"#Many-options-for-Hyperparameter-Search\" data-toc-modified-id=\"Many-options-for-Hyperparameter-Search-7\">Many options for Hyperparameter Search</a></span></li><li><span><a href=\"#Protip\" data-toc-modified-id=\"Protip-8\">Protip</a></span></li><li><span><a href=\"#Takeaways\" data-toc-modified-id=\"Takeaways-9\">Takeaways</a></span></li><li><span><a href=\"#Further-Study\" data-toc-modified-id=\"Further-Study-10\">Further Study</a></span></li><li><span><a href=\"#Bonus-Material\" data-toc-modified-id=\"Bonus-Material-11\">Bonus Material</a></span></li></ul></div>"
   ]
  },
  {
   "cell_type": "markdown",
   "metadata": {
    "slideshow": {
     "slide_type": "slide"
    }
   },
   "source": [
    "<center><h2>scikit-learn's Pipeline</h2></center>\n",
    "\n"
   ]
  },
  {
   "cell_type": "code",
   "execution_count": 30,
   "metadata": {
    "slideshow": {
     "slide_type": "skip"
    }
   },
   "outputs": [],
   "source": [
    "reset -fs"
   ]
  },
  {
   "cell_type": "code",
   "execution_count": 31,
   "metadata": {
    "slideshow": {
     "slide_type": "skip"
    }
   },
   "outputs": [],
   "source": [
    "import numpy as np\n",
    "\n",
    "import warnings\n",
    "warnings.filterwarnings('ignore')\n",
    "\n",
    "%matplotlib inline"
   ]
  },
  {
   "cell_type": "markdown",
   "metadata": {
    "slideshow": {
     "slide_type": "slide"
    }
   },
   "source": [
    "Pipeline works well with Cross Validation\n",
    "-----\n",
    "\n",
    "A Pipeline makes it easier to compose estimators, providing simple behavior under cross-validation"
   ]
  },
  {
   "cell_type": "code",
   "execution_count": 32,
   "metadata": {},
   "outputs": [],
   "source": [
    "# Load and split the data\n",
    "from sklearn.datasets        import load_iris\n",
    "from sklearn.model_selection import train_test_split\n",
    "\n",
    "iris = load_iris()\n",
    "X_train, X_test, y_train, y_test = train_test_split(iris.data, \n",
    "                                                    iris.target, \n",
    "                                                    test_size=0.2)"
   ]
  },
  {
   "cell_type": "code",
   "execution_count": 33,
   "metadata": {},
   "outputs": [],
   "source": [
    "from sklearn.decomposition import PCA\n",
    "from sklearn.preprocessing import StandardScaler\n",
    "from sklearn.pipeline      import Pipeline\n",
    "from sklearn.tree          import DecisionTreeClassifier\n",
    "\n",
    "pipe_dt = Pipeline([('scl', StandardScaler()),\n",
    "                    ('pca', PCA(n_components=2)),\n",
    "                    ('clf', DecisionTreeClassifier())])"
   ]
  },
  {
   "cell_type": "code",
   "execution_count": 34,
   "metadata": {},
   "outputs": [
    {
     "data": {
      "text/html": [
       "<style>div.sk-top-container {color: black;background-color: white;}div.sk-toggleable {background-color: white;}label.sk-toggleable__label {cursor: pointer;display: block;width: 100%;margin-bottom: 0;padding: 0.2em 0.3em;box-sizing: border-box;text-align: center;}div.sk-toggleable__content {max-height: 0;max-width: 0;overflow: hidden;text-align: left;background-color: #f0f8ff;}div.sk-toggleable__content pre {margin: 0.2em;color: black;border-radius: 0.25em;background-color: #f0f8ff;}input.sk-toggleable__control:checked~div.sk-toggleable__content {max-height: 200px;max-width: 100%;overflow: auto;}div.sk-estimator input.sk-toggleable__control:checked~label.sk-toggleable__label {background-color: #d4ebff;}div.sk-label input.sk-toggleable__control:checked~label.sk-toggleable__label {background-color: #d4ebff;}input.sk-hidden--visually {border: 0;clip: rect(1px 1px 1px 1px);clip: rect(1px, 1px, 1px, 1px);height: 1px;margin: -1px;overflow: hidden;padding: 0;position: absolute;width: 1px;}div.sk-estimator {font-family: monospace;background-color: #f0f8ff;margin: 0.25em 0.25em;border: 1px dotted black;border-radius: 0.25em;box-sizing: border-box;}div.sk-estimator:hover {background-color: #d4ebff;}div.sk-parallel-item::after {content: \"\";width: 100%;border-bottom: 1px solid gray;flex-grow: 1;}div.sk-label:hover label.sk-toggleable__label {background-color: #d4ebff;}div.sk-serial::before {content: \"\";position: absolute;border-left: 1px solid gray;box-sizing: border-box;top: 2em;bottom: 0;left: 50%;}div.sk-serial {display: flex;flex-direction: column;align-items: center;background-color: white;}div.sk-item {z-index: 1;}div.sk-parallel {display: flex;align-items: stretch;justify-content: center;background-color: white;}div.sk-parallel-item {display: flex;flex-direction: column;position: relative;background-color: white;}div.sk-parallel-item:first-child::after {align-self: flex-end;width: 50%;}div.sk-parallel-item:last-child::after {align-self: flex-start;width: 50%;}div.sk-parallel-item:only-child::after {width: 0;}div.sk-dashed-wrapped {border: 1px dashed gray;margin: 0.2em;box-sizing: border-box;padding-bottom: 0.1em;background-color: white;position: relative;}div.sk-label label {font-family: monospace;font-weight: bold;background-color: white;display: inline-block;line-height: 1.2em;}div.sk-label-container {position: relative;z-index: 2;text-align: center;}div.sk-container {display: inline-block;position: relative;}</style><div class=\"sk-top-container\"><div class=\"sk-container\"><div class=\"sk-item sk-dashed-wrapped\"><div class=\"sk-label-container\"><div class=\"sk-label sk-toggleable\"><input class=\"sk-toggleable__control sk-hidden--visually\" id=\"a76fec32-a918-4672-a6f1-b40b9a6c2659\" type=\"checkbox\" ><label class=\"sk-toggleable__label\" for=\"a76fec32-a918-4672-a6f1-b40b9a6c2659\">Pipeline</label><div class=\"sk-toggleable__content\"><pre>Pipeline(steps=[('scl', StandardScaler()), ('pca', PCA(n_components=2)),\n",
       "                ('clf', DecisionTreeClassifier())])</pre></div></div></div><div class=\"sk-serial\"><div class=\"sk-item\"><div class=\"sk-estimator sk-toggleable\"><input class=\"sk-toggleable__control sk-hidden--visually\" id=\"fe6fd8bd-e844-4d48-990e-adea1a98beda\" type=\"checkbox\" ><label class=\"sk-toggleable__label\" for=\"fe6fd8bd-e844-4d48-990e-adea1a98beda\">StandardScaler</label><div class=\"sk-toggleable__content\"><pre>StandardScaler()</pre></div></div></div><div class=\"sk-item\"><div class=\"sk-estimator sk-toggleable\"><input class=\"sk-toggleable__control sk-hidden--visually\" id=\"04518e65-8217-4900-8120-1b0fbdfdd6d3\" type=\"checkbox\" ><label class=\"sk-toggleable__label\" for=\"04518e65-8217-4900-8120-1b0fbdfdd6d3\">PCA</label><div class=\"sk-toggleable__content\"><pre>PCA(n_components=2)</pre></div></div></div><div class=\"sk-item\"><div class=\"sk-estimator sk-toggleable\"><input class=\"sk-toggleable__control sk-hidden--visually\" id=\"3a2e3d5b-88f4-4c0b-ae3c-648a50e2a1b8\" type=\"checkbox\" ><label class=\"sk-toggleable__label\" for=\"3a2e3d5b-88f4-4c0b-ae3c-648a50e2a1b8\">DecisionTreeClassifier</label><div class=\"sk-toggleable__content\"><pre>DecisionTreeClassifier()</pre></div></div></div></div></div></div></div>"
      ],
      "text/plain": [
       "Pipeline(steps=[('scl', StandardScaler()), ('pca', PCA(n_components=2)),\n",
       "                ('clf', DecisionTreeClassifier())])"
      ]
     },
     "execution_count": 34,
     "metadata": {},
     "output_type": "execute_result"
    }
   ],
   "source": [
    "# Visualize pipeline\n",
    "# This is good idea for your Final Project\n",
    "\n",
    "from sklearn import set_config\n",
    "\n",
    "set_config(display='diagram')\n",
    "\n",
    "pipe_dt"
   ]
  },
  {
   "cell_type": "code",
   "execution_count": 35,
   "metadata": {
    "slideshow": {
     "slide_type": "slide"
    }
   },
   "outputs": [
    {
     "name": "stdout",
     "output_type": "stream",
     "text": [
      "The mean training validation accuracy - 0.9000\n"
     ]
    }
   ],
   "source": [
    "from sklearn.model_selection import cross_val_score, KFold\n",
    "\n",
    "kfold = KFold(n_splits=10, random_state=42)\n",
    "\n",
    "results = cross_val_score(pipe_dt, # Put your pipeline where an Estimator would go\n",
    "                          X_train, \n",
    "                          y_train, \n",
    "                          cv=kfold)\n",
    "print(f\"The mean training validation accuracy - {results.mean():.4f}\")"
   ]
  },
  {
   "cell_type": "markdown",
   "metadata": {
    "slideshow": {
     "slide_type": "skip"
    }
   },
   "source": [
    "Source: https://machinelearningmastery.com/automate-machine-learning-workflows-pipelines-python-scikit-learn/ "
   ]
  },
  {
   "cell_type": "markdown",
   "metadata": {
    "slideshow": {
     "slide_type": "slide"
    }
   },
   "source": [
    "<center><h2>Pipeline works with RandomizedSearchCV</h2></center>\n",
    "\n",
    "<center><img src=\"../images/random_search.png\" width=\"65%\"/></center>"
   ]
  },
  {
   "cell_type": "code",
   "execution_count": 36,
   "metadata": {
    "slideshow": {
     "slide_type": "slide"
    }
   },
   "outputs": [
    {
     "data": {
      "text/html": [
       "<style>div.sk-top-container {color: black;background-color: white;}div.sk-toggleable {background-color: white;}label.sk-toggleable__label {cursor: pointer;display: block;width: 100%;margin-bottom: 0;padding: 0.2em 0.3em;box-sizing: border-box;text-align: center;}div.sk-toggleable__content {max-height: 0;max-width: 0;overflow: hidden;text-align: left;background-color: #f0f8ff;}div.sk-toggleable__content pre {margin: 0.2em;color: black;border-radius: 0.25em;background-color: #f0f8ff;}input.sk-toggleable__control:checked~div.sk-toggleable__content {max-height: 200px;max-width: 100%;overflow: auto;}div.sk-estimator input.sk-toggleable__control:checked~label.sk-toggleable__label {background-color: #d4ebff;}div.sk-label input.sk-toggleable__control:checked~label.sk-toggleable__label {background-color: #d4ebff;}input.sk-hidden--visually {border: 0;clip: rect(1px 1px 1px 1px);clip: rect(1px, 1px, 1px, 1px);height: 1px;margin: -1px;overflow: hidden;padding: 0;position: absolute;width: 1px;}div.sk-estimator {font-family: monospace;background-color: #f0f8ff;margin: 0.25em 0.25em;border: 1px dotted black;border-radius: 0.25em;box-sizing: border-box;}div.sk-estimator:hover {background-color: #d4ebff;}div.sk-parallel-item::after {content: \"\";width: 100%;border-bottom: 1px solid gray;flex-grow: 1;}div.sk-label:hover label.sk-toggleable__label {background-color: #d4ebff;}div.sk-serial::before {content: \"\";position: absolute;border-left: 1px solid gray;box-sizing: border-box;top: 2em;bottom: 0;left: 50%;}div.sk-serial {display: flex;flex-direction: column;align-items: center;background-color: white;}div.sk-item {z-index: 1;}div.sk-parallel {display: flex;align-items: stretch;justify-content: center;background-color: white;}div.sk-parallel-item {display: flex;flex-direction: column;position: relative;background-color: white;}div.sk-parallel-item:first-child::after {align-self: flex-end;width: 50%;}div.sk-parallel-item:last-child::after {align-self: flex-start;width: 50%;}div.sk-parallel-item:only-child::after {width: 0;}div.sk-dashed-wrapped {border: 1px dashed gray;margin: 0.2em;box-sizing: border-box;padding-bottom: 0.1em;background-color: white;position: relative;}div.sk-label label {font-family: monospace;font-weight: bold;background-color: white;display: inline-block;line-height: 1.2em;}div.sk-label-container {position: relative;z-index: 2;text-align: center;}div.sk-container {display: inline-block;position: relative;}</style><div class=\"sk-top-container\"><div class=\"sk-container\"><div class=\"sk-item sk-dashed-wrapped\"><div class=\"sk-label-container\"><div class=\"sk-label sk-toggleable\"><input class=\"sk-toggleable__control sk-hidden--visually\" id=\"0af08f04-26a2-48c7-bf66-1847f0aafe6f\" type=\"checkbox\" ><label class=\"sk-toggleable__label\" for=\"0af08f04-26a2-48c7-bf66-1847f0aafe6f\">RandomizedSearchCV</label><div class=\"sk-toggleable__content\"><pre>RandomizedSearchCV(cv=5,\n",
       "                   estimator=Pipeline(steps=[('scl', StandardScaler()),\n",
       "                                             ('pca', PCA(n_components=2)),\n",
       "                                             ('clf',\n",
       "                                              DecisionTreeClassifier())]),\n",
       "                   n_iter=25, n_jobs=-1,\n",
       "                   param_distributions={'clf__criterion': ['gini', 'entropy'],\n",
       "                                        'clf__max_depth': range(1, 5),\n",
       "                                        'clf__min_samples_leaf': range(3, 15),\n",
       "                                        'pca__n_components': [1, 2, 3]},\n",
       "                   verbose=False)</pre></div></div></div><div class=\"sk-parallel\"><div class=\"sk-parallel-item\"><div class=\"sk-item\"><div class=\"sk-serial\"><div class=\"sk-item\"><div class=\"sk-serial\"><div class=\"sk-item\"><div class=\"sk-estimator sk-toggleable\"><input class=\"sk-toggleable__control sk-hidden--visually\" id=\"755abf52-f1f9-404f-b70f-2dc4ddd6872c\" type=\"checkbox\" ><label class=\"sk-toggleable__label\" for=\"755abf52-f1f9-404f-b70f-2dc4ddd6872c\">StandardScaler</label><div class=\"sk-toggleable__content\"><pre>StandardScaler()</pre></div></div></div><div class=\"sk-item\"><div class=\"sk-estimator sk-toggleable\"><input class=\"sk-toggleable__control sk-hidden--visually\" id=\"59a72c20-8fd7-4e91-bc4c-1e740f55d632\" type=\"checkbox\" ><label class=\"sk-toggleable__label\" for=\"59a72c20-8fd7-4e91-bc4c-1e740f55d632\">PCA</label><div class=\"sk-toggleable__content\"><pre>PCA(n_components=2)</pre></div></div></div><div class=\"sk-item\"><div class=\"sk-estimator sk-toggleable\"><input class=\"sk-toggleable__control sk-hidden--visually\" id=\"d966d67e-56f2-4e46-8992-215b0cfd4800\" type=\"checkbox\" ><label class=\"sk-toggleable__label\" for=\"d966d67e-56f2-4e46-8992-215b0cfd4800\">DecisionTreeClassifier</label><div class=\"sk-toggleable__content\"><pre>DecisionTreeClassifier()</pre></div></div></div></div></div></div></div></div></div></div></div></div>"
      ],
      "text/plain": [
       "RandomizedSearchCV(cv=5,\n",
       "                   estimator=Pipeline(steps=[('scl', StandardScaler()),\n",
       "                                             ('pca', PCA(n_components=2)),\n",
       "                                             ('clf',\n",
       "                                              DecisionTreeClassifier())]),\n",
       "                   n_iter=25, n_jobs=-1,\n",
       "                   param_distributions={'clf__criterion': ['gini', 'entropy'],\n",
       "                                        'clf__max_depth': range(1, 5),\n",
       "                                        'clf__min_samples_leaf': range(3, 15),\n",
       "                                        'pca__n_components': [1, 2, 3]},\n",
       "                   verbose=False)"
      ]
     },
     "execution_count": 36,
     "metadata": {},
     "output_type": "execute_result"
    }
   ],
   "source": [
    "from sklearn.model_selection import RandomizedSearchCV\n",
    "\n",
    "# Grid search over each element in pipeline\n",
    "#                  <estimator>__<hyperparameter>                            \n",
    "hyperparameters = dict(pca__n_components     = [1, 2, 3],\n",
    "                       clf__max_depth        = range(1, 5),\n",
    "                       clf__criterion        = ['gini', 'entropy'],\n",
    "                       clf__min_samples_leaf = range(3, 15))\n",
    "\n",
    "clf_rand_cv = RandomizedSearchCV(estimator=pipe_dt, \n",
    "                              param_distributions=hyperparameters, \n",
    "                              n_iter=25, #25\n",
    "                              cv=5, \n",
    "                              n_jobs=-1,\n",
    "                              verbose=False)\n",
    "\n",
    "clf_rand_cv.fit(X_train, y_train)\n"
   ]
  },
  {
   "cell_type": "markdown",
   "metadata": {},
   "source": [
    "<center><h2>Check for understanding</h2></center>\n",
    "\n",
    "During CV: \n",
    "- Does each combination get only a single folder?\n",
    "- Or does each combination on 5 folds and average?"
   ]
  },
  {
   "cell_type": "code",
   "execution_count": 37,
   "metadata": {},
   "outputs": [
    {
     "name": "stdout",
     "output_type": "stream",
     "text": [
      "Fitting 5 folds for each of 25 candidates, totalling 125 fits\n"
     ]
    },
    {
     "name": "stderr",
     "output_type": "stream",
     "text": [
      "[Parallel(n_jobs=-1)]: Using backend LokyBackend with 4 concurrent workers.\n",
      "[Parallel(n_jobs=-1)]: Done 125 out of 125 | elapsed:    0.4s finished\n"
     ]
    },
    {
     "data": {
      "text/html": [
       "<style>div.sk-top-container {color: black;background-color: white;}div.sk-toggleable {background-color: white;}label.sk-toggleable__label {cursor: pointer;display: block;width: 100%;margin-bottom: 0;padding: 0.2em 0.3em;box-sizing: border-box;text-align: center;}div.sk-toggleable__content {max-height: 0;max-width: 0;overflow: hidden;text-align: left;background-color: #f0f8ff;}div.sk-toggleable__content pre {margin: 0.2em;color: black;border-radius: 0.25em;background-color: #f0f8ff;}input.sk-toggleable__control:checked~div.sk-toggleable__content {max-height: 200px;max-width: 100%;overflow: auto;}div.sk-estimator input.sk-toggleable__control:checked~label.sk-toggleable__label {background-color: #d4ebff;}div.sk-label input.sk-toggleable__control:checked~label.sk-toggleable__label {background-color: #d4ebff;}input.sk-hidden--visually {border: 0;clip: rect(1px 1px 1px 1px);clip: rect(1px, 1px, 1px, 1px);height: 1px;margin: -1px;overflow: hidden;padding: 0;position: absolute;width: 1px;}div.sk-estimator {font-family: monospace;background-color: #f0f8ff;margin: 0.25em 0.25em;border: 1px dotted black;border-radius: 0.25em;box-sizing: border-box;}div.sk-estimator:hover {background-color: #d4ebff;}div.sk-parallel-item::after {content: \"\";width: 100%;border-bottom: 1px solid gray;flex-grow: 1;}div.sk-label:hover label.sk-toggleable__label {background-color: #d4ebff;}div.sk-serial::before {content: \"\";position: absolute;border-left: 1px solid gray;box-sizing: border-box;top: 2em;bottom: 0;left: 50%;}div.sk-serial {display: flex;flex-direction: column;align-items: center;background-color: white;}div.sk-item {z-index: 1;}div.sk-parallel {display: flex;align-items: stretch;justify-content: center;background-color: white;}div.sk-parallel-item {display: flex;flex-direction: column;position: relative;background-color: white;}div.sk-parallel-item:first-child::after {align-self: flex-end;width: 50%;}div.sk-parallel-item:last-child::after {align-self: flex-start;width: 50%;}div.sk-parallel-item:only-child::after {width: 0;}div.sk-dashed-wrapped {border: 1px dashed gray;margin: 0.2em;box-sizing: border-box;padding-bottom: 0.1em;background-color: white;position: relative;}div.sk-label label {font-family: monospace;font-weight: bold;background-color: white;display: inline-block;line-height: 1.2em;}div.sk-label-container {position: relative;z-index: 2;text-align: center;}div.sk-container {display: inline-block;position: relative;}</style><div class=\"sk-top-container\"><div class=\"sk-container\"><div class=\"sk-item sk-dashed-wrapped\"><div class=\"sk-label-container\"><div class=\"sk-label sk-toggleable\"><input class=\"sk-toggleable__control sk-hidden--visually\" id=\"4f864f75-c5d0-49be-b37b-9d7bfd172f7a\" type=\"checkbox\" ><label class=\"sk-toggleable__label\" for=\"4f864f75-c5d0-49be-b37b-9d7bfd172f7a\">RandomizedSearchCV</label><div class=\"sk-toggleable__content\"><pre>RandomizedSearchCV(cv=5,\n",
       "                   estimator=Pipeline(steps=[('scl', StandardScaler()),\n",
       "                                             ('pca', PCA(n_components=2)),\n",
       "                                             ('clf',\n",
       "                                              DecisionTreeClassifier())]),\n",
       "                   n_iter=25, n_jobs=-1,\n",
       "                   param_distributions={'clf__criterion': ['gini', 'entropy'],\n",
       "                                        'clf__max_depth': range(1, 5),\n",
       "                                        'clf__min_samples_leaf': range(3, 15),\n",
       "                                        'pca__n_components': [1, 2, 3]},\n",
       "                   verbose=True)</pre></div></div></div><div class=\"sk-parallel\"><div class=\"sk-parallel-item\"><div class=\"sk-item\"><div class=\"sk-serial\"><div class=\"sk-item\"><div class=\"sk-serial\"><div class=\"sk-item\"><div class=\"sk-estimator sk-toggleable\"><input class=\"sk-toggleable__control sk-hidden--visually\" id=\"2c0a10c7-c744-45bd-b321-2a3ae2a3a9d6\" type=\"checkbox\" ><label class=\"sk-toggleable__label\" for=\"2c0a10c7-c744-45bd-b321-2a3ae2a3a9d6\">StandardScaler</label><div class=\"sk-toggleable__content\"><pre>StandardScaler()</pre></div></div></div><div class=\"sk-item\"><div class=\"sk-estimator sk-toggleable\"><input class=\"sk-toggleable__control sk-hidden--visually\" id=\"e3b60744-5a77-4033-8e1c-272f0df506e9\" type=\"checkbox\" ><label class=\"sk-toggleable__label\" for=\"e3b60744-5a77-4033-8e1c-272f0df506e9\">PCA</label><div class=\"sk-toggleable__content\"><pre>PCA(n_components=2)</pre></div></div></div><div class=\"sk-item\"><div class=\"sk-estimator sk-toggleable\"><input class=\"sk-toggleable__control sk-hidden--visually\" id=\"47827af2-09f9-442c-a609-1cf4c9ad8eeb\" type=\"checkbox\" ><label class=\"sk-toggleable__label\" for=\"47827af2-09f9-442c-a609-1cf4c9ad8eeb\">DecisionTreeClassifier</label><div class=\"sk-toggleable__content\"><pre>DecisionTreeClassifier()</pre></div></div></div></div></div></div></div></div></div></div></div></div>"
      ],
      "text/plain": [
       "RandomizedSearchCV(cv=5,\n",
       "                   estimator=Pipeline(steps=[('scl', StandardScaler()),\n",
       "                                             ('pca', PCA(n_components=2)),\n",
       "                                             ('clf',\n",
       "                                              DecisionTreeClassifier())]),\n",
       "                   n_iter=25, n_jobs=-1,\n",
       "                   param_distributions={'clf__criterion': ['gini', 'entropy'],\n",
       "                                        'clf__max_depth': range(1, 5),\n",
       "                                        'clf__min_samples_leaf': range(3, 15),\n",
       "                                        'pca__n_components': [1, 2, 3]},\n",
       "                   verbose=True)"
      ]
     },
     "execution_count": 37,
     "metadata": {},
     "output_type": "execute_result"
    }
   ],
   "source": [
    "clf_rand_cv = RandomizedSearchCV(estimator=pipe_dt, \n",
    "                              param_distributions=hyperparameters, \n",
    "                              n_iter=25, #25\n",
    "                              cv=5, \n",
    "                              n_jobs=-1,\n",
    "                              verbose=True)\n",
    "clf_rand_cv.fit(X_train, y_train)"
   ]
  },
  {
   "cell_type": "code",
   "execution_count": 38,
   "metadata": {
    "slideshow": {
     "slide_type": "slide"
    }
   },
   "outputs": [
    {
     "data": {
      "text/plain": [
       "{'pca__n_components': 2,\n",
       " 'clf__min_samples_leaf': 14,\n",
       " 'clf__max_depth': 3,\n",
       " 'clf__criterion': 'gini'}"
      ]
     },
     "execution_count": 38,
     "metadata": {},
     "output_type": "execute_result"
    }
   ],
   "source": [
    "# Best hyperparameters\n",
    "clf_rand_cv.best_params_"
   ]
  },
  {
   "cell_type": "code",
   "execution_count": 39,
   "metadata": {
    "slideshow": {
     "slide_type": "slide"
    }
   },
   "outputs": [
    {
     "data": {
      "text/html": [
       "<style>div.sk-top-container {color: black;background-color: white;}div.sk-toggleable {background-color: white;}label.sk-toggleable__label {cursor: pointer;display: block;width: 100%;margin-bottom: 0;padding: 0.2em 0.3em;box-sizing: border-box;text-align: center;}div.sk-toggleable__content {max-height: 0;max-width: 0;overflow: hidden;text-align: left;background-color: #f0f8ff;}div.sk-toggleable__content pre {margin: 0.2em;color: black;border-radius: 0.25em;background-color: #f0f8ff;}input.sk-toggleable__control:checked~div.sk-toggleable__content {max-height: 200px;max-width: 100%;overflow: auto;}div.sk-estimator input.sk-toggleable__control:checked~label.sk-toggleable__label {background-color: #d4ebff;}div.sk-label input.sk-toggleable__control:checked~label.sk-toggleable__label {background-color: #d4ebff;}input.sk-hidden--visually {border: 0;clip: rect(1px 1px 1px 1px);clip: rect(1px, 1px, 1px, 1px);height: 1px;margin: -1px;overflow: hidden;padding: 0;position: absolute;width: 1px;}div.sk-estimator {font-family: monospace;background-color: #f0f8ff;margin: 0.25em 0.25em;border: 1px dotted black;border-radius: 0.25em;box-sizing: border-box;}div.sk-estimator:hover {background-color: #d4ebff;}div.sk-parallel-item::after {content: \"\";width: 100%;border-bottom: 1px solid gray;flex-grow: 1;}div.sk-label:hover label.sk-toggleable__label {background-color: #d4ebff;}div.sk-serial::before {content: \"\";position: absolute;border-left: 1px solid gray;box-sizing: border-box;top: 2em;bottom: 0;left: 50%;}div.sk-serial {display: flex;flex-direction: column;align-items: center;background-color: white;}div.sk-item {z-index: 1;}div.sk-parallel {display: flex;align-items: stretch;justify-content: center;background-color: white;}div.sk-parallel-item {display: flex;flex-direction: column;position: relative;background-color: white;}div.sk-parallel-item:first-child::after {align-self: flex-end;width: 50%;}div.sk-parallel-item:last-child::after {align-self: flex-start;width: 50%;}div.sk-parallel-item:only-child::after {width: 0;}div.sk-dashed-wrapped {border: 1px dashed gray;margin: 0.2em;box-sizing: border-box;padding-bottom: 0.1em;background-color: white;position: relative;}div.sk-label label {font-family: monospace;font-weight: bold;background-color: white;display: inline-block;line-height: 1.2em;}div.sk-label-container {position: relative;z-index: 2;text-align: center;}div.sk-container {display: inline-block;position: relative;}</style><div class=\"sk-top-container\"><div class=\"sk-container\"><div class=\"sk-item sk-dashed-wrapped\"><div class=\"sk-label-container\"><div class=\"sk-label sk-toggleable\"><input class=\"sk-toggleable__control sk-hidden--visually\" id=\"0327297d-2045-435d-8e83-c09da81652cc\" type=\"checkbox\" ><label class=\"sk-toggleable__label\" for=\"0327297d-2045-435d-8e83-c09da81652cc\">Pipeline</label><div class=\"sk-toggleable__content\"><pre>Pipeline(steps=[('scl', StandardScaler()), ('pca', PCA(n_components=2)),\n",
       "                ('clf',\n",
       "                 DecisionTreeClassifier(max_depth=3, min_samples_leaf=14))])</pre></div></div></div><div class=\"sk-serial\"><div class=\"sk-item\"><div class=\"sk-estimator sk-toggleable\"><input class=\"sk-toggleable__control sk-hidden--visually\" id=\"b3b7a481-ad48-4f31-82aa-47aa22749d63\" type=\"checkbox\" ><label class=\"sk-toggleable__label\" for=\"b3b7a481-ad48-4f31-82aa-47aa22749d63\">StandardScaler</label><div class=\"sk-toggleable__content\"><pre>StandardScaler()</pre></div></div></div><div class=\"sk-item\"><div class=\"sk-estimator sk-toggleable\"><input class=\"sk-toggleable__control sk-hidden--visually\" id=\"48a743d5-0763-4047-9903-63d0e4dd3498\" type=\"checkbox\" ><label class=\"sk-toggleable__label\" for=\"48a743d5-0763-4047-9903-63d0e4dd3498\">PCA</label><div class=\"sk-toggleable__content\"><pre>PCA(n_components=2)</pre></div></div></div><div class=\"sk-item\"><div class=\"sk-estimator sk-toggleable\"><input class=\"sk-toggleable__control sk-hidden--visually\" id=\"8c6f9190-67f7-4c1c-8543-12933ce017b1\" type=\"checkbox\" ><label class=\"sk-toggleable__label\" for=\"8c6f9190-67f7-4c1c-8543-12933ce017b1\">DecisionTreeClassifier</label><div class=\"sk-toggleable__content\"><pre>DecisionTreeClassifier(max_depth=3, min_samples_leaf=14)</pre></div></div></div></div></div></div></div>"
      ],
      "text/plain": [
       "Pipeline(steps=[('scl', StandardScaler()), ('pca', PCA(n_components=2)),\n",
       "                ('clf',\n",
       "                 DecisionTreeClassifier(max_depth=3, min_samples_leaf=14))])"
      ]
     },
     "execution_count": 39,
     "metadata": {},
     "output_type": "execute_result"
    }
   ],
   "source": [
    "# Best algorithm with best hyperparameters\n",
    "clf_rand_cv.best_estimator_"
   ]
  },
  {
   "cell_type": "markdown",
   "metadata": {},
   "source": [
    "<center><h2>Always CV Across Features and Algorithms</h2></center>\n",
    "\n",
    "> In practice, you almost always want to search over a pipeline, instead of a single estimator. \n",
    "\n",
    "> One of the main reasons is that if you apply a pre-processing step to the whole dataset without using a pipeline, and then perform any kind of cross-validation, you would be breaking the fundamental assumption of independence between training and testing data.\n",
    "\n",
    "> Indeed, since you pre-processed the data using the whole dataset, some information about the test sets are available to the train sets. This will lead to over-estimating the generalization power of the estimator (you can read more in [this Kaggle post](https://www.kaggle.com/alexisbcook/data-leakage)).\n",
    "\n",
    "> Using a pipeline for cross-validation and searching will largely keep you from this common pitfall.\n",
    "\n",
    "Source: https://scikit-learn.org/stable/getting_started.html#automatic-parameter-searches"
   ]
  },
  {
   "cell_type": "markdown",
   "metadata": {
    "slideshow": {
     "slide_type": "slide"
    }
   },
   "source": [
    "<center><h2>Search Across Algorithms</h2></center>"
   ]
  },
  {
   "cell_type": "code",
   "execution_count": 40,
   "metadata": {},
   "outputs": [],
   "source": [
    "reset -fs"
   ]
  },
  {
   "cell_type": "code",
   "execution_count": 41,
   "metadata": {
    "slideshow": {
     "slide_type": "slide"
    }
   },
   "outputs": [],
   "source": [
    "# Create Placeholder Estimator to use different algorithms\n",
    "from sklearn.base          import BaseEstimator\n",
    "from sklearn.pipeline      import Pipeline\n",
    "\n",
    "class DummyEstimator(BaseEstimator):\n",
    "    def fit(self): pass\n",
    "    def score(self): pass\n",
    "    \n",
    "# Create a pipeline\n",
    "pipe = Pipeline([('clf', DummyEstimator())]) # Placeholder Estimator"
   ]
  },
  {
   "cell_type": "code",
   "execution_count": 42,
   "metadata": {},
   "outputs": [],
   "source": [
    "# Load and split the data\n",
    "from sklearn.datasets        import load_iris\n",
    "from sklearn.model_selection import train_test_split\n",
    "\n",
    "iris = load_iris()\n",
    "X_train, X_test, y_train, y_test = train_test_split(iris.data, \n",
    "                                                    iris.target, \n",
    "                                                    test_size=0.2)"
   ]
  },
  {
   "cell_type": "code",
   "execution_count": 43,
   "metadata": {
    "slideshow": {
     "slide_type": "slide"
    }
   },
   "outputs": [
    {
     "name": "stdout",
     "output_type": "stream",
     "text": [
      "Fitting 5 folds for each of 22 candidates, totalling 110 fits\n"
     ]
    },
    {
     "name": "stderr",
     "output_type": "stream",
     "text": [
      "[Parallel(n_jobs=-1)]: Using backend LokyBackend with 4 concurrent workers.\n",
      "[Parallel(n_jobs=-1)]: Done  98 tasks      | elapsed:    2.2s\n",
      "[Parallel(n_jobs=-1)]: Done 110 out of 110 | elapsed:    2.3s finished\n"
     ]
    },
    {
     "data": {
      "text/html": [
       "<style>div.sk-top-container {color: black;background-color: white;}div.sk-toggleable {background-color: white;}label.sk-toggleable__label {cursor: pointer;display: block;width: 100%;margin-bottom: 0;padding: 0.2em 0.3em;box-sizing: border-box;text-align: center;}div.sk-toggleable__content {max-height: 0;max-width: 0;overflow: hidden;text-align: left;background-color: #f0f8ff;}div.sk-toggleable__content pre {margin: 0.2em;color: black;border-radius: 0.25em;background-color: #f0f8ff;}input.sk-toggleable__control:checked~div.sk-toggleable__content {max-height: 200px;max-width: 100%;overflow: auto;}div.sk-estimator input.sk-toggleable__control:checked~label.sk-toggleable__label {background-color: #d4ebff;}div.sk-label input.sk-toggleable__control:checked~label.sk-toggleable__label {background-color: #d4ebff;}input.sk-hidden--visually {border: 0;clip: rect(1px 1px 1px 1px);clip: rect(1px, 1px, 1px, 1px);height: 1px;margin: -1px;overflow: hidden;padding: 0;position: absolute;width: 1px;}div.sk-estimator {font-family: monospace;background-color: #f0f8ff;margin: 0.25em 0.25em;border: 1px dotted black;border-radius: 0.25em;box-sizing: border-box;}div.sk-estimator:hover {background-color: #d4ebff;}div.sk-parallel-item::after {content: \"\";width: 100%;border-bottom: 1px solid gray;flex-grow: 1;}div.sk-label:hover label.sk-toggleable__label {background-color: #d4ebff;}div.sk-serial::before {content: \"\";position: absolute;border-left: 1px solid gray;box-sizing: border-box;top: 2em;bottom: 0;left: 50%;}div.sk-serial {display: flex;flex-direction: column;align-items: center;background-color: white;}div.sk-item {z-index: 1;}div.sk-parallel {display: flex;align-items: stretch;justify-content: center;background-color: white;}div.sk-parallel-item {display: flex;flex-direction: column;position: relative;background-color: white;}div.sk-parallel-item:first-child::after {align-self: flex-end;width: 50%;}div.sk-parallel-item:last-child::after {align-self: flex-start;width: 50%;}div.sk-parallel-item:only-child::after {width: 0;}div.sk-dashed-wrapped {border: 1px dashed gray;margin: 0.2em;box-sizing: border-box;padding-bottom: 0.1em;background-color: white;position: relative;}div.sk-label label {font-family: monospace;font-weight: bold;background-color: white;display: inline-block;line-height: 1.2em;}div.sk-label-container {position: relative;z-index: 2;text-align: center;}div.sk-container {display: inline-block;position: relative;}</style><div class=\"sk-top-container\"><div class=\"sk-container\"><div class=\"sk-item\"><div class=\"sk-estimator sk-toggleable\"><input class=\"sk-toggleable__control sk-hidden--visually\" id=\"abfc0eab-5f10-44b4-b044-fdfea024b592\" type=\"checkbox\" checked><label class=\"sk-toggleable__label\" for=\"abfc0eab-5f10-44b4-b044-fdfea024b592\">DecisionTreeClassifier</label><div class=\"sk-toggleable__content\"><pre>DecisionTreeClassifier()</pre></div></div></div></div></div>"
      ],
      "text/plain": [
       "DecisionTreeClassifier()"
      ]
     },
     "execution_count": 43,
     "metadata": {},
     "output_type": "execute_result"
    }
   ],
   "source": [
    "import numpy as np\n",
    "from sklearn.linear_model     import LogisticRegression\n",
    "from sklearn.model_selection  import RandomizedSearchCV\n",
    "from sklearn.tree             import DecisionTreeClassifier\n",
    "\n",
    "# Create space of candidate learning algorithms and their hyperparameters\n",
    "search_space = [{'clf': [LogisticRegression()], # Actual Estimator\n",
    "                 'clf__penalty': ['l1', 'l2'],\n",
    "                 'clf__C': np.logspace(0, 4, 10)},\n",
    "                \n",
    "                {'clf': [DecisionTreeClassifier()],  # Actual Estimator\n",
    "                 'clf__criterion': ['gini', 'entropy']}]\n",
    "\n",
    "# Good ol' random search\n",
    "clf_algos_rand = RandomizedSearchCV(estimator=pipe, \n",
    "                                    param_distributions=search_space, \n",
    "                                    n_iter=25,\n",
    "                                    cv=5, \n",
    "                                    n_jobs=-1,\n",
    "                                    verbose=1)\n",
    "\n",
    "\n",
    "#  Fit grid search\n",
    "best_model = clf_algos_rand.fit(X_train, y_train);\n",
    "\n",
    "# View best model\n",
    "best_model.best_estimator_.get_params()['clf']"
   ]
  },
  {
   "cell_type": "markdown",
   "metadata": {
    "slideshow": {
     "slide_type": "skip"
    }
   },
   "source": [
    "Source: https://chrisalbon.com/machine_learning/model_selection/model_selection_using_grid_search/"
   ]
  },
  {
   "cell_type": "markdown",
   "metadata": {},
   "source": [
    "<center><h2>Many options for Hyperparameter Search</h2></center>\n",
    "<br>\n",
    "<center><img src=\"../images/lego boxes of model fitting.png\" width=\"75%\"/></center>"
   ]
  },
  {
   "cell_type": "markdown",
   "metadata": {},
   "source": [
    "<center><h2>Protip</h2></center>\n",
    "\n",
    "Hyperparameter search within Pipelines can get complex. Do not try to enumerate all possible options and then search across.\n",
    "\n",
    "\n",
    "Hints:\n",
    "\n",
    "- Break the problem into subsections based on the project goals.\n",
    "    - Fitting sub models helps you build domain expertise.\n",
    "- Feature engineering is algorithm specific. Build algorithm specific pipelines.\n",
    "- Focus on select algorithms."
   ]
  },
  {
   "cell_type": "markdown",
   "metadata": {
    "slideshow": {
     "slide_type": "slide"
    }
   },
   "source": [
    "<center><h2>Takeaways</h2></center>\n",
    "\n",
    "- Scikit-learn's `Pipeline` is a simple way to encapsulate many steps in a machine learning flow.\n",
    "- Scikit-learn's `Pipeline` automates many steps:\n",
    "    - Cross validation \n",
    "    - Grid searching across and within different algorithms"
   ]
  },
  {
   "cell_type": "markdown",
   "metadata": {
    "slideshow": {
     "slide_type": "slide"
    }
   },
   "source": [
    " "
   ]
  },
  {
   "cell_type": "markdown",
   "metadata": {
    "slideshow": {
     "slide_type": "slide"
    }
   },
   "source": [
    "Further Study\n",
    "------\n",
    "\n",
    "- Custom Transformer\n",
    "- FeatureUnion which concatenates the output of transformers into a composite feature space."
   ]
  },
  {
   "cell_type": "markdown",
   "metadata": {},
   "source": [
    "<center><h2>Bonus Material</h2></center>"
   ]
  },
  {
   "cell_type": "code",
   "execution_count": 45,
   "metadata": {},
   "outputs": [],
   "source": [
    "# Example with text pipeline\n",
    "from sklearn.ensemble                import RandomForestClassifier\n",
    "from sklearn.feature_extraction.text import CountVectorizer, TfidfTransformer\n",
    "from sklearn.multioutput             import MultiOutputClassifier\n",
    "\n",
    "pipeline = Pipeline([\n",
    "        ('vect',  CountVectorizer()),\n",
    "        ('tfidf', TfidfTransformer()),\n",
    "        ('clf',   MultiOutputClassifier(estimator=RandomForestClassifier()))\n",
    "])\n",
    "                    \n",
    "serach_space = { \n",
    "    'vect__ngram_range': ((1, 1), (1, 2)),  \n",
    "    'vect__max_df': (0.5, 0.75, 1.0),                                \n",
    "    'vect__max_features': (None, 5000, 10000),\n",
    "    'tfidf__use_idf': (True, False),\n",
    "    'clf__estimator__n_estimators': [50,100,150,200],\n",
    "    'clf__estimator__max_depth': [20,50,100,200],\n",
    "    'clf__estimator__random_state': [42]\n",
    "}"
   ]
  },
  {
   "cell_type": "markdown",
   "metadata": {},
   "source": [
    "<br>\n",
    "<br> \n",
    "<br>\n",
    "\n",
    "----"
   ]
  }
 ],
 "metadata": {
  "kernelspec": {
   "display_name": "Python 3",
   "language": "python",
   "name": "python3"
  },
  "language_info": {
   "codemirror_mode": {
    "name": "ipython",
    "version": 3
   },
   "file_extension": ".py",
   "mimetype": "text/x-python",
   "name": "python",
   "nbconvert_exporter": "python",
   "pygments_lexer": "ipython3",
   "version": "3.8.5"
  },
  "toc": {
   "base_numbering": 1,
   "nav_menu": {},
   "number_sections": false,
   "sideBar": false,
   "skip_h1_title": false,
   "title_cell": "Table of Contents",
   "title_sidebar": "Contents",
   "toc_cell": true,
   "toc_position": {},
   "toc_section_display": true,
   "toc_window_display": false
  }
 },
 "nbformat": 4,
 "nbformat_minor": 2
}
