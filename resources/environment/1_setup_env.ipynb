{
 "cells": [
  {
   "cell_type": "markdown",
   "metadata": {
    "slideshow": {
     "slide_type": "skip"
    },
    "toc": true
   },
   "source": [
    "<h1>Table of Contents<span class=\"tocSkip\"></span></h1>\n",
    "<div class=\"toc\"><ul class=\"toc-item\"><li><span><a href=\"#What-the-heck-is-an-environment?-/-Why-do-I-need-you-do-this?\" data-toc-modified-id=\"What-the-heck-is-an-environment?-/-Why-do-I-need-you-do-this?-1\">What the heck is an environment? / Why do I need you do this?</a></span></li><li><span><a href=\"#Keep-the-goal-the-goal\" data-toc-modified-id=\"Keep-the-goal-the-goal-2\">Keep the goal the goal</a></span></li><li><span><a href=\"#If-you-can't-use-conda-environments\" data-toc-modified-id=\"If-you-can't-use-conda-environments-3\">If you can't use conda environments</a></span></li><li><span><a href=\"#Setup-environment-instructions\" data-toc-modified-id=\"Setup-environment-instructions-4\">Setup environment instructions</a></span></li><li><span><a href=\"#Using-the-environment\" data-toc-modified-id=\"Using-the-environment-5\">Using the environment</a></span></li><li><span><a href=\"#Python-environment-/-package-management-can-be-tricky\" data-toc-modified-id=\"Python-environment-/-package-management-can-be-tricky-6\">Python environment / package management can be tricky</a></span></li><li><span><a href=\"#Takeaways\" data-toc-modified-id=\"Takeaways-7\">Takeaways</a></span></li><li><span><a href=\"#Common-Errors\" data-toc-modified-id=\"Common-Errors-8\">Common Errors</a></span></li></ul></div>"
   ]
  },
  {
   "cell_type": "markdown",
   "metadata": {
    "slideshow": {
     "slide_type": "slide"
    }
   },
   "source": [
    "<center><h2>What the heck is an environment? / Why do I need you do this?</h2></center>\n",
    "\n",
    "It is useful to separate Python environments, similar to having multiple user accounts on a single computer.\n",
    "\n",
    "This helps with reproducible research. A project can have explicit dependencies to promote replicating the results. "
   ]
  },
  {
   "cell_type": "markdown",
   "metadata": {
    "slideshow": {
     "slide_type": "slide"
    }
   },
   "source": [
    "Keep the goal the goal\n",
    "-----\n",
    "\n",
    "This class requires you use a specific version of Python and scikit-learn. If you use a different version of the software, you might lose points. You will not get those points back.\n",
    "\n",
    "I care about that goal. I have found that environments are the best way to support that goal. \n",
    "\n",
    "Thus, it is strongly suggested (but not required) to use `ml_lab` environment."
   ]
  },
  {
   "cell_type": "markdown",
   "metadata": {
    "slideshow": {
     "slide_type": "skip"
    }
   },
   "source": [
    "If you can't use conda environments\n",
    "-------\n",
    "\n",
    "You might be on a system that is setup in a way that does work with environments. It is beyond the scope of this class to make sure everyone's system is setup to support environments. If you choose to not use environments, just make sure you have the correct software version.\n",
    "\n",
    "```bash\n",
    "$ pip install 'scikit-learn==0.23.2'\n",
    "```\n",
    "\n",
    "```python\n",
    ">>> import sklearn\n",
    "\n",
    ">>> assert sklearn.__version__.startswith('0.23')\n",
    "```"
   ]
  },
  {
   "cell_type": "markdown",
   "metadata": {
    "slideshow": {
     "slide_type": "slide"
    }
   },
   "source": [
    "<center><h2>Setup environment instructions</h2></center>\n",
    "\n",
    "> A long journey begins with finding your shoes.\n",
    "\n",
    "1. `cd` into `/ml_lab/resources/environment`\n",
    "1. Run shell script `$ sh setup.sh`\n",
    "1. Wait ⏳\n",
    "1. Start environment `$ conda activate ml`\n",
    "1. Launch `$ jupyter notebook`"
   ]
  },
  {
   "cell_type": "markdown",
   "metadata": {
    "slideshow": {
     "slide_type": "slide"
    }
   },
   "source": [
    "<center><h2>Using the environment</h2></center>\n",
    "\n",
    "Use the environment __every time__ for course work in this class.\n",
    "\n",
    "Suggested steps:\n",
    "1. Start environment: `$ conda activate ml `\n",
    "1. Navigate into directory: `$ cd [INSERT LOCAL PATH TO GitHub repo]/ml_lab`\n",
    "1. Start Jupyter Notebook server: `$ jupyter notebook`"
   ]
  },
  {
   "cell_type": "markdown",
   "metadata": {
    "slideshow": {
     "slide_type": "slide"
    }
   },
   "source": [
    "<center><h2>Python environment / package management can be tricky</h2></center>\n",
    "\n",
    "<center><img src=\"https://imgs.xkcd.com/comics/python_environment.png\" width=\"35%\"/></center>"
   ]
  },
  {
   "cell_type": "markdown",
   "metadata": {
    "slideshow": {
     "slide_type": "slide"
    }
   },
   "source": [
    "<center><h2>Takeaways</h2></center>\n",
    "\n",
    "1. We setup environment once.\n",
    "1. We run the environment __every time__. This is your warning - If you  write code that depends on different versions of a package, you will lose all the points and not get them back.\n",
    "1. We import specific versions packages from the environment as needed."
   ]
  },
  {
   "cell_type": "markdown",
   "metadata": {
    "slideshow": {
     "slide_type": "slide"
    }
   },
   "source": [
    "Common Errors\n",
    "-----\n",
    "\n",
    "- If you get an error like `usr/package not found`, remove `env` from `conda env create -n $envname --force ` and run it again.\n",
    "\n",
    "- If you can't run `jupyter` related commands, one of required packages might be incompatible. A possible solution is [here](https://stackoverflow.com/questions/65774567/cannot-run-jupyter-everywhere-terminal-anaconda-distributer-mac-os-10-12-6)."
   ]
  },
  {
   "cell_type": "markdown",
   "metadata": {
    "slideshow": {
     "slide_type": "slide"
    }
   },
   "source": [
    "<br>\n",
    "<br> \n",
    "<br>\n",
    "\n",
    "----"
   ]
  }
 ],
 "metadata": {
  "celltoolbar": "Slideshow",
  "kernelspec": {
   "display_name": "Python 3",
   "language": "python",
   "name": "python3"
  },
  "language_info": {
   "codemirror_mode": {
    "name": "ipython",
    "version": 3
   },
   "file_extension": ".py",
   "mimetype": "text/x-python",
   "name": "python",
   "nbconvert_exporter": "python",
   "pygments_lexer": "ipython3",
   "version": "3.8.5"
  },
  "toc": {
   "base_numbering": 1,
   "nav_menu": {},
   "number_sections": false,
   "sideBar": false,
   "skip_h1_title": false,
   "title_cell": "Table of Contents",
   "title_sidebar": "Contents",
   "toc_cell": true,
   "toc_position": {},
   "toc_section_display": true,
   "toc_window_display": false
  }
 },
 "nbformat": 4,
 "nbformat_minor": 2
}
